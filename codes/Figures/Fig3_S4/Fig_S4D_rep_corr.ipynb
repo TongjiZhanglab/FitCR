{
 "cells": [
  {
   "cell_type": "markdown",
   "metadata": {},
   "source": [
    "# Load Modules"
   ]
  },
  {
   "cell_type": "code",
   "execution_count": 1,
   "metadata": {
    "ExecuteTime": {
     "end_time": "2021-03-31T02:49:18.785165Z",
     "start_time": "2021-03-31T02:49:10.737545Z"
    }
   },
   "outputs": [],
   "source": [
    "import numpy as np\n",
    "import pandas as pd\n",
    "import matplotlib as mpl\n",
    "mpl.rcParams['pdf.fonttype'] = 42\n",
    "mpl.rcParams['ps.fonttype'] = 42\n",
    "mpl.rcParams['font.sans-serif'] = 'Arial'\n",
    "import matplotlib.pyplot as plt\n",
    "import seaborn as sns\n",
    "from pprint import pprint\n",
    "%matplotlib inline"
   ]
  },
  {
   "cell_type": "markdown",
   "metadata": {},
   "source": [
    "# replicates correlation"
   ]
  },
  {
   "cell_type": "markdown",
   "metadata": {},
   "source": [
    "## promoter signal scan"
   ]
  },
  {
   "cell_type": "code",
   "execution_count": 4,
   "metadata": {
    "ExecuteTime": {
     "end_time": "2021-03-31T02:49:19.397104Z",
     "start_time": "2021-03-31T02:49:18.913190Z"
    }
   },
   "outputs": [],
   "source": [
    "import subprocess\n",
    "def load_data(file_pairs,src_dir='',dst_dir='.'):\n",
    "    import os\n",
    "    if not os.path.isdir(dst_dir):\n",
    "        os.mkdir(dst_dir)\n",
    "    for file_pair in file_pairs:\n",
    "        src = os.path.expanduser(os.path.join(src_dir,file_pair[0]))\n",
    "        dst = os.path.expanduser(os.path.join(dst_dir,file_pair[1]))\n",
    "        if os.path.isfile(dst):\n",
    "            os.remove(dst)\n",
    "        if not os.path.islink(dst):\n",
    "            os.symlink(src,dst)\n",
    "\n",
    "file_pairs = [['danRer11_2.ensGene.genePredExt','danRer11_2.ensGene.genePredExt']]\n",
    "load_data(file_pairs,src_dir='~/source/bySpecies/danRer11_2/')\n",
    "cmd = f'''awk '{{if($3==\"+\") print $2\"\\\\t\"$4-2000\"\\\\t\"$4+2000\"\\\\t\"$1\"\\\\t0\\\\t+\"; else print $2\"\\\\t\"$5-2001\"\\\\t\"$5+1999\"\\\\t\"$1\"\\\\t0\\\\t-\"}}' danRer11_2.ensGene.genePredExt | awk '{{if($2<0) print $1\"\\t0\\t\"$3\"\\t\"$4\"\\t\"$5\"\\t\"$6; else print $0}}' | grep ^chr > danRer11_2.ensGene.promoter.bed'''\n",
    "print(subprocess.check_output(cmd,shell=True).decode(),end='')\n",
    "\n",
    "\n"
   ]
  },
  {
   "cell_type": "code",
   "execution_count": 5,
   "metadata": {
    "ExecuteTime": {
     "end_time": "2021-03-31T02:49:20.556225Z",
     "start_time": "2021-03-31T02:49:20.407757Z"
    }
   },
   "outputs": [
    {
     "name": "stdout",
     "output_type": "stream",
     "text": [
      "65840 danRer11_2.ensGene.promoter.bed\n"
     ]
    }
   ],
   "source": [
    "!wc -l danRer11_2.ensGene.promoter.bed"
   ]
  },
  {
   "cell_type": "code",
   "execution_count": 6,
   "metadata": {
    "ExecuteTime": {
     "end_time": "2021-03-31T02:50:49.046559Z",
     "start_time": "2021-03-31T02:49:22.647586Z"
    }
   },
   "outputs": [],
   "source": [
    "danRer11_promoter = pd.read_csv('danRer11_2.ensGene.promoter.bed',sep='\\t',header=None,names=['chrom','start','end','name','score','strand'])\n",
    "seen, duplicate = [], []\n",
    "for index, row in danRer11_promoter.iterrows():\n",
    "    if row['name'] in seen:\n",
    "        duplicate.append(row['name'])\n",
    "    else:\n",
    "        seen.append(row['name'])\n",
    "danRer11_promoter.loc[[True if x not in duplicate else False for x in danRer11_promoter['name']],:].to_csv('danRer11_2.ensGene.promoter.bed',sep='\\t',header=None,index=None)\n"
   ]
  },
  {
   "cell_type": "code",
   "execution_count": 7,
   "metadata": {
    "ExecuteTime": {
     "end_time": "2021-03-31T02:50:51.669683Z",
     "start_time": "2021-03-31T02:50:49.098325Z"
    }
   },
   "outputs": [
    {
     "data": {
      "text/html": [
       "<div>\n",
       "<style scoped>\n",
       "    .dataframe tbody tr th:only-of-type {\n",
       "        vertical-align: middle;\n",
       "    }\n",
       "\n",
       "    .dataframe tbody tr th {\n",
       "        vertical-align: top;\n",
       "    }\n",
       "\n",
       "    .dataframe thead th {\n",
       "        text-align: right;\n",
       "    }\n",
       "</style>\n",
       "<table border=\"1\" class=\"dataframe\">\n",
       "  <thead>\n",
       "    <tr style=\"text-align: right;\">\n",
       "      <th></th>\n",
       "      <th>Nanog_256_rep1</th>\n",
       "      <th>Nanog_256_rep2</th>\n",
       "      <th>Nanog_256_rep3</th>\n",
       "      <th>Nanog_1k_rep1</th>\n",
       "      <th>Nanog_1k_rep2</th>\n",
       "      <th>Nanog_1k_rep3</th>\n",
       "      <th>Nanog_dome_rep1</th>\n",
       "      <th>Nanog_dome_rep2</th>\n",
       "      <th>Nanog_dome_rep3</th>\n",
       "      <th>Pou5f3_dome_rep1</th>\n",
       "      <th>Pou5f3_dome_rep2</th>\n",
       "      <th>Pou5f3_dome_rep3</th>\n",
       "      <th>Sox19b_dome_rep1</th>\n",
       "      <th>Sox19b_dome_rep2</th>\n",
       "      <th>Sox19b_dome_rep3</th>\n",
       "    </tr>\n",
       "    <tr>\n",
       "      <th>3</th>\n",
       "      <th></th>\n",
       "      <th></th>\n",
       "      <th></th>\n",
       "      <th></th>\n",
       "      <th></th>\n",
       "      <th></th>\n",
       "      <th></th>\n",
       "      <th></th>\n",
       "      <th></th>\n",
       "      <th></th>\n",
       "      <th></th>\n",
       "      <th></th>\n",
       "      <th></th>\n",
       "      <th></th>\n",
       "      <th></th>\n",
       "    </tr>\n",
       "  </thead>\n",
       "  <tbody>\n",
       "    <tr>\n",
       "      <th>ENSDART00000164359.1</th>\n",
       "      <td>0.921801</td>\n",
       "      <td>0.833203</td>\n",
       "      <td>1.843285</td>\n",
       "      <td>1.764561</td>\n",
       "      <td>1.785685</td>\n",
       "      <td>1.264008</td>\n",
       "      <td>2.152083</td>\n",
       "      <td>1.784591</td>\n",
       "      <td>2.131418</td>\n",
       "      <td>0.935137</td>\n",
       "      <td>1.368905</td>\n",
       "      <td>2.016643</td>\n",
       "      <td>1.014965</td>\n",
       "      <td>1.439107</td>\n",
       "      <td>1.390344</td>\n",
       "    </tr>\n",
       "    <tr>\n",
       "      <th>ENSDART00000158290.1</th>\n",
       "      <td>1.382703</td>\n",
       "      <td>1.123560</td>\n",
       "      <td>0.571310</td>\n",
       "      <td>0.657041</td>\n",
       "      <td>1.086780</td>\n",
       "      <td>0.718933</td>\n",
       "      <td>0.286467</td>\n",
       "      <td>0.589314</td>\n",
       "      <td>0.426284</td>\n",
       "      <td>0.928818</td>\n",
       "      <td>1.130833</td>\n",
       "      <td>1.008321</td>\n",
       "      <td>0.477630</td>\n",
       "      <td>0.875977</td>\n",
       "      <td>0.544512</td>\n",
       "    </tr>\n",
       "    <tr>\n",
       "      <th>ENSDART00000157701.1</th>\n",
       "      <td>1.382703</td>\n",
       "      <td>1.679029</td>\n",
       "      <td>1.559425</td>\n",
       "      <td>1.483286</td>\n",
       "      <td>1.395979</td>\n",
       "      <td>0.897491</td>\n",
       "      <td>1.160191</td>\n",
       "      <td>0.892295</td>\n",
       "      <td>1.278850</td>\n",
       "      <td>0.827723</td>\n",
       "      <td>1.666493</td>\n",
       "      <td>1.609123</td>\n",
       "      <td>0.716447</td>\n",
       "      <td>1.159726</td>\n",
       "      <td>1.075259</td>\n",
       "    </tr>\n",
       "    <tr>\n",
       "      <th>ENSDART00000167898.1</th>\n",
       "      <td>0.921801</td>\n",
       "      <td>0.833203</td>\n",
       "      <td>1.843285</td>\n",
       "      <td>1.815104</td>\n",
       "      <td>1.862526</td>\n",
       "      <td>1.264008</td>\n",
       "      <td>2.331127</td>\n",
       "      <td>1.638095</td>\n",
       "      <td>2.131418</td>\n",
       "      <td>0.928818</td>\n",
       "      <td>1.386900</td>\n",
       "      <td>2.016643</td>\n",
       "      <td>0.964218</td>\n",
       "      <td>1.385268</td>\n",
       "      <td>1.454586</td>\n",
       "    </tr>\n",
       "    <tr>\n",
       "      <th>ENSDART00000166393.1</th>\n",
       "      <td>0.921801</td>\n",
       "      <td>0.833203</td>\n",
       "      <td>1.843285</td>\n",
       "      <td>1.815104</td>\n",
       "      <td>1.862526</td>\n",
       "      <td>1.264008</td>\n",
       "      <td>2.331127</td>\n",
       "      <td>1.638095</td>\n",
       "      <td>2.131418</td>\n",
       "      <td>0.777173</td>\n",
       "      <td>1.368905</td>\n",
       "      <td>1.858292</td>\n",
       "      <td>1.014965</td>\n",
       "      <td>1.447840</td>\n",
       "      <td>1.390344</td>\n",
       "    </tr>\n",
       "  </tbody>\n",
       "</table>\n",
       "</div>"
      ],
      "text/plain": [
       "                      Nanog_256_rep1  Nanog_256_rep2  Nanog_256_rep3  \\\n",
       "3                                                                      \n",
       "ENSDART00000164359.1        0.921801        0.833203        1.843285   \n",
       "ENSDART00000158290.1        1.382703        1.123560        0.571310   \n",
       "ENSDART00000157701.1        1.382703        1.679029        1.559425   \n",
       "ENSDART00000167898.1        0.921801        0.833203        1.843285   \n",
       "ENSDART00000166393.1        0.921801        0.833203        1.843285   \n",
       "\n",
       "                      Nanog_1k_rep1  Nanog_1k_rep2  Nanog_1k_rep3  \\\n",
       "3                                                                   \n",
       "ENSDART00000164359.1       1.764561       1.785685       1.264008   \n",
       "ENSDART00000158290.1       0.657041       1.086780       0.718933   \n",
       "ENSDART00000157701.1       1.483286       1.395979       0.897491   \n",
       "ENSDART00000167898.1       1.815104       1.862526       1.264008   \n",
       "ENSDART00000166393.1       1.815104       1.862526       1.264008   \n",
       "\n",
       "                      Nanog_dome_rep1  Nanog_dome_rep2  Nanog_dome_rep3  \\\n",
       "3                                                                         \n",
       "ENSDART00000164359.1         2.152083         1.784591         2.131418   \n",
       "ENSDART00000158290.1         0.286467         0.589314         0.426284   \n",
       "ENSDART00000157701.1         1.160191         0.892295         1.278850   \n",
       "ENSDART00000167898.1         2.331127         1.638095         2.131418   \n",
       "ENSDART00000166393.1         2.331127         1.638095         2.131418   \n",
       "\n",
       "                      Pou5f3_dome_rep1  Pou5f3_dome_rep2  Pou5f3_dome_rep3  \\\n",
       "3                                                                            \n",
       "ENSDART00000164359.1          0.935137          1.368905          2.016643   \n",
       "ENSDART00000158290.1          0.928818          1.130833          1.008321   \n",
       "ENSDART00000157701.1          0.827723          1.666493          1.609123   \n",
       "ENSDART00000167898.1          0.928818          1.386900          2.016643   \n",
       "ENSDART00000166393.1          0.777173          1.368905          1.858292   \n",
       "\n",
       "                      Sox19b_dome_rep1  Sox19b_dome_rep2  Sox19b_dome_rep3  \n",
       "3                                                                           \n",
       "ENSDART00000164359.1          1.014965          1.439107          1.390344  \n",
       "ENSDART00000158290.1          0.477630          0.875977          0.544512  \n",
       "ENSDART00000157701.1          0.716447          1.159726          1.075259  \n",
       "ENSDART00000167898.1          0.964218          1.385268          1.454586  \n",
       "ENSDART00000166393.1          1.014965          1.447840          1.390344  "
      ]
     },
     "execution_count": 7,
     "metadata": {},
     "output_type": "execute_result"
    }
   ],
   "source": [
    "bw_scan = False\n",
    "\n",
    "import os\n",
    "import subprocess\n",
    "import gzip\n",
    "import seaborn as sns\n",
    "\n",
    "\n",
    "def get_bigwig_mean(bw_file):\n",
    "    import subprocess\n",
    "    fold = subprocess.check_output(f'bigWigInfo {bw_file} | grep mean', shell=True).decode()\n",
    "    fold = float(fold.split()[1])\n",
    "    return fold\n",
    "\n",
    "\n",
    "promoter_file = 'danRer11_2.ensGene.promoter.bed'\n",
    "signal = pd.DataFrame(index=pd.read_csv(promoter_file,sep='\\t',header=None)[3])\n",
    "\n",
    "for sample in sample_list:\n",
    "    bw_scan_cmd = f'bigWigAverageOverBed {sample}.bw {promoter_file} danRer11_2_promoter_{sample}.tsv'\n",
    "    if bw_scan:\n",
    "        print(subprocess.check_output(bw_scan_cmd.split()).decode(),end='')\n",
    "    bw_mean = get_bigwig_mean(f'{sample}.bw')\n",
    "    signal[sample] = pd.read_csv(f'danRer11_2_promoter_{sample}.tsv',sep='\\t',header=None,names=['name','size','covered','sum','mean0','mean'],index_col=0)['mean0'] / bw_mean\n",
    "\n",
    "signal.head()"
   ]
  },
  {
   "cell_type": "code",
   "execution_count": 9,
   "metadata": {
    "ExecuteTime": {
     "end_time": "2021-03-31T02:50:53.393280Z",
     "start_time": "2021-03-31T02:50:53.375685Z"
    }
   },
   "outputs": [
    {
     "data": {
      "text/html": [
       "<div>\n",
       "<style scoped>\n",
       "    .dataframe tbody tr th:only-of-type {\n",
       "        vertical-align: middle;\n",
       "    }\n",
       "\n",
       "    .dataframe tbody tr th {\n",
       "        vertical-align: top;\n",
       "    }\n",
       "\n",
       "    .dataframe thead th {\n",
       "        text-align: right;\n",
       "    }\n",
       "</style>\n",
       "<table border=\"1\" class=\"dataframe\">\n",
       "  <thead>\n",
       "    <tr style=\"text-align: right;\">\n",
       "      <th></th>\n",
       "      <th>sample</th>\n",
       "      <th>corr</th>\n",
       "    </tr>\n",
       "  </thead>\n",
       "  <tbody>\n",
       "    <tr>\n",
       "      <th>0</th>\n",
       "      <td>Nanog_256</td>\n",
       "      <td>0.999834</td>\n",
       "    </tr>\n",
       "    <tr>\n",
       "      <th>1</th>\n",
       "      <td>Nanog_256</td>\n",
       "      <td>0.993448</td>\n",
       "    </tr>\n",
       "    <tr>\n",
       "      <th>2</th>\n",
       "      <td>Nanog_256</td>\n",
       "      <td>0.992981</td>\n",
       "    </tr>\n",
       "    <tr>\n",
       "      <th>3</th>\n",
       "      <td>Nanog_1k</td>\n",
       "      <td>0.988693</td>\n",
       "    </tr>\n",
       "    <tr>\n",
       "      <th>4</th>\n",
       "      <td>Nanog_1k</td>\n",
       "      <td>0.971921</td>\n",
       "    </tr>\n",
       "  </tbody>\n",
       "</table>\n",
       "</div>"
      ],
      "text/plain": [
       "      sample      corr\n",
       "0  Nanog_256  0.999834\n",
       "1  Nanog_256  0.993448\n",
       "2  Nanog_256  0.992981\n",
       "3   Nanog_1k  0.988693\n",
       "4   Nanog_1k  0.971921"
      ]
     },
     "execution_count": 9,
     "metadata": {},
     "output_type": "execute_result"
    }
   ],
   "source": [
    "def gen():\n",
    "    for sample in ['Nanog_256','Nanog_1k','Nanog_dome','Pou5f3_dome','Sox19b_dome']:\n",
    "        for i in range(1,4):\n",
    "            for j in range(i+1,4):\n",
    "                yield sample, corr.loc[f'{sample}_rep{i}',f'{sample}_rep{j}']\n",
    "\n",
    "corr_df = pd.DataFrame(gen(),columns=['sample','corr'])\n",
    "corr_df.head()"
   ]
  },
  {
   "cell_type": "markdown",
   "metadata": {},
   "source": [
    "## bar plot -- Fig.S4D"
   ]
  },
  {
   "cell_type": "code",
   "execution_count": 14,
   "metadata": {
    "ExecuteTime": {
     "end_time": "2021-03-31T05:33:18.973179Z",
     "start_time": "2021-03-31T05:33:18.661182Z"
    }
   },
   "outputs": [
    {
     "data": {
      "image/png": "[encoded data removed]",
      "text/plain": [
       "<Figure size 460.8x345.6 with 1 Axes>"
      ]
     },
     "metadata": {},
     "output_type": "display_data"
    }
   ],
   "source": [
    "with sns.axes_style('whitegrid', rc={\n",
    "        'xtick.bottom': True,\n",
    "        'ytick.left': True\n",
    "}), sns.plotting_context('paper',\n",
    "                         rc={\n",
    "                             'axes.titlesize': 14,\n",
    "                             'axes.labelsize': 12,\n",
    "                             'xtick.labelsize': 8,\n",
    "                             'ytick.labelsize': 8,\n",
    "                             'legend.fontsize': 8\n",
    "                         }):\n",
    "    fig, ax = plt.subplots(figsize=(6.4, 4.8))\n",
    "    sns.barplot(\n",
    "        x='sample',\n",
    "        y='corr',\n",
    "        data=corr_df,\n",
    "        palette=['#727F8D', '#92AC93', '#769BB6', '#98BDD8', '#BADEEA'],\n",
    "        ci='sd',\n",
    "        saturation=1,\n",
    "        capsize=.2,\n",
    "        ax=ax,\n",
    "    )\n",
    "    ax.set_xticklabels(labels=[\n",
    "        'Nanog_256', 'Nanog_1k', 'Nanog_dome', 'Pou5f3_dome', 'Sox19b_dome'\n",
    "    ],\n",
    "                       rotation=45)\n",
    "    ax.set_ylabel('Replicates correlation')\n",
    "    fig.tight_layout()\n",
    "    fig.savefig('Supple_Fig4D_barplot_correlation_promoter.pdf', transparent=True)"
   ]
  },
  {
   "cell_type": "code",
   "execution_count": 13,
   "metadata": {
    "ExecuteTime": {
     "end_time": "2021-03-31T02:52:21.396182Z",
     "start_time": "2021-03-31T02:52:21.380960Z"
    }
   },
   "outputs": [
    {
     "data": {
      "text/html": [
       "<div>\n",
       "<style scoped>\n",
       "    .dataframe tbody tr th:only-of-type {\n",
       "        vertical-align: middle;\n",
       "    }\n",
       "\n",
       "    .dataframe tbody tr th {\n",
       "        vertical-align: top;\n",
       "    }\n",
       "\n",
       "    .dataframe thead th {\n",
       "        text-align: right;\n",
       "    }\n",
       "</style>\n",
       "<table border=\"1\" class=\"dataframe\">\n",
       "  <thead>\n",
       "    <tr style=\"text-align: right;\">\n",
       "      <th></th>\n",
       "      <th>corr</th>\n",
       "    </tr>\n",
       "    <tr>\n",
       "      <th>sample</th>\n",
       "      <th></th>\n",
       "    </tr>\n",
       "  </thead>\n",
       "  <tbody>\n",
       "    <tr>\n",
       "      <th>Nanog_1k</th>\n",
       "      <td>0.970005</td>\n",
       "    </tr>\n",
       "    <tr>\n",
       "      <th>Nanog_256</th>\n",
       "      <td>0.995421</td>\n",
       "    </tr>\n",
       "    <tr>\n",
       "      <th>Nanog_dome</th>\n",
       "      <td>0.906365</td>\n",
       "    </tr>\n",
       "    <tr>\n",
       "      <th>Pou5f3_dome</th>\n",
       "      <td>0.999682</td>\n",
       "    </tr>\n",
       "    <tr>\n",
       "      <th>Sox19b_dome</th>\n",
       "      <td>0.981680</td>\n",
       "    </tr>\n",
       "  </tbody>\n",
       "</table>\n",
       "</div>"
      ],
      "text/plain": [
       "                 corr\n",
       "sample               \n",
       "Nanog_1k     0.970005\n",
       "Nanog_256    0.995421\n",
       "Nanog_dome   0.906365\n",
       "Pou5f3_dome  0.999682\n",
       "Sox19b_dome  0.981680"
      ]
     },
     "execution_count": 13,
     "metadata": {},
     "output_type": "execute_result"
    }
   ],
   "source": [
    "corr_df.groupby(by=['sample']).mean()"
   ]
  }
 ],
 "metadata": {
  "kernelspec": {
   "display_name": "Python 3",
   "language": "python",
   "name": "python3"
  },
  "language_info": {
   "codemirror_mode": {
    "name": "ipython",
    "version": 3
   },
   "file_extension": ".py",
   "mimetype": "text/x-python",
   "name": "python",
   "nbconvert_exporter": "python",
   "pygments_lexer": "ipython3",
   "version": "3.8.5"
  }
 },
 "nbformat": 4,
 "nbformat_minor": 4
}
