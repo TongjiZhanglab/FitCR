{
 "cells": [
  {
   "cell_type": "markdown",
   "metadata": {},
   "source": [
    "# Load Modules"
   ]
  },
  {
   "cell_type": "code",
   "execution_count": 5,
   "metadata": {
    "ExecuteTime": {
     "end_time": "2021-09-10T04:15:11.742904Z",
     "start_time": "2021-09-10T04:14:56.825630Z"
    }
   },
   "outputs": [],
   "source": [
    "import numpy as np\n",
    "import pandas as pd\n",
    "import matplotlib as mpl\n",
    "mpl.rcParams['pdf.fonttype'] = 42\n",
    "mpl.rcParams['ps.fonttype'] = 42\n",
    "mpl.rcParams['font.sans-serif'] = 'Arial'\n",
    "import matplotlib.pyplot as plt\n",
    "import seaborn as sns\n",
    "from pprint import pprint\n",
    "%matplotlib inline"
   ]
  },
  {
   "cell_type": "code",
   "execution_count": 4,
   "metadata": {
    "ExecuteTime": {
     "end_time": "2021-09-10T04:15:11.757432Z",
     "start_time": "2021-09-10T04:15:11.748994Z"
    }
   },
   "outputs": [],
   "source": [
    "def load_data(file_pairs,src_dir='',dst_dir='.'):\n",
    "    import os\n",
    "    if not os.path.isdir(dst_dir):\n",
    "        os.mkdir(dst_dir)\n",
    "    for file_pair in file_pairs:\n",
    "        src = os.path.abspath(os.path.expanduser(os.path.join(src_dir,file_pair[0])))\n",
    "        dst = os.path.expanduser(os.path.join(dst_dir,file_pair[1]))\n",
    "        if os.path.isfile(dst):\n",
    "            os.remove(dst)\n",
    "        if not os.path.islink(dst):\n",
    "            os.symlink(src,dst)\n",
    "\n",
    "def load_data_suffixes(file_pairs, src_dir='', dst_dir='.', suffixes=None):\n",
    "    import os\n",
    "    if not os.path.isdir(dst_dir):\n",
    "        os.mkdir(dst_dir)\n",
    "    if not suffixes:\n",
    "        for file_pair in file_pairs:\n",
    "            src = os.path.abspath(os.path.expanduser(os.path.join(src_dir, file_pair[0])))\n",
    "            dst = os.path.expanduser(os.path.join(dst_dir, file_pair[1]))\n",
    "            if os.path.isfile(dst):\n",
    "                os.remove(dst)\n",
    "            if not os.path.islink(dst):\n",
    "                os.symlink(src, dst)\n",
    "    else:\n",
    "        for file_pair in file_pairs:\n",
    "            for suffix_pair in suffixes:\n",
    "                src = os.path.abspath(os.path.expanduser(\n",
    "                    os.path.join(src_dir, file_pair[0] + suffix_pair[0])))\n",
    "                dst = os.path.expanduser(\n",
    "                    os.path.join(dst_dir, file_pair[1] + suffix_pair[1]))\n",
    "                if os.path.isfile(dst):\n",
    "                    os.remove(dst)\n",
    "                if not os.path.islink(dst):\n",
    "                    os.symlink(src, dst)"
   ]
  },
  {
   "cell_type": "code",
   "execution_count": 2,
   "metadata": {},
   "outputs": [],
   "source": [
    "import os\n",
    "os.chdir('/mnt/Storage/home/wangyiman/fitCUTRUN/revision_1/analysis/cell_viability_FACS/')"
   ]
  },
  {
   "cell_type": "markdown",
   "metadata": {},
   "source": [
    "# bar plot -- Fig.S1B"
   ]
  },
  {
   "cell_type": "code",
   "execution_count": 6,
   "metadata": {},
   "outputs": [
    {
     "data": {
      "text/html": [
       "<div>\n",
       "<style scoped>\n",
       "    .dataframe tbody tr th:only-of-type {\n",
       "        vertical-align: middle;\n",
       "    }\n",
       "\n",
       "    .dataframe tbody tr th {\n",
       "        vertical-align: top;\n",
       "    }\n",
       "\n",
       "    .dataframe thead th {\n",
       "        text-align: right;\n",
       "    }\n",
       "</style>\n",
       "<table border=\"1\" class=\"dataframe\">\n",
       "  <thead>\n",
       "    <tr style=\"text-align: right;\">\n",
       "      <th></th>\n",
       "      <th>replicates</th>\n",
       "      <th>WT</th>\n",
       "      <th>PBS</th>\n",
       "      <th>ATF1-Fc</th>\n",
       "      <th>ATF1-flag</th>\n",
       "      <th>ELF1-Fc</th>\n",
       "      <th>ELF1-flag</th>\n",
       "    </tr>\n",
       "  </thead>\n",
       "  <tbody>\n",
       "    <tr>\n",
       "      <th>0</th>\n",
       "      <td>rep1</td>\n",
       "      <td>0.9202</td>\n",
       "      <td>0.8809</td>\n",
       "      <td>0.8667</td>\n",
       "      <td>0.8720</td>\n",
       "      <td>0.8324</td>\n",
       "      <td>0.8332</td>\n",
       "    </tr>\n",
       "    <tr>\n",
       "      <th>1</th>\n",
       "      <td>rep2</td>\n",
       "      <td>0.9056</td>\n",
       "      <td>0.8790</td>\n",
       "      <td>0.8384</td>\n",
       "      <td>0.8388</td>\n",
       "      <td>0.8085</td>\n",
       "      <td>0.8264</td>\n",
       "    </tr>\n",
       "    <tr>\n",
       "      <th>2</th>\n",
       "      <td>rep3</td>\n",
       "      <td>0.8806</td>\n",
       "      <td>0.8733</td>\n",
       "      <td>0.8052</td>\n",
       "      <td>0.8055</td>\n",
       "      <td>0.7698</td>\n",
       "      <td>0.7816</td>\n",
       "    </tr>\n",
       "  </tbody>\n",
       "</table>\n",
       "</div>"
      ],
      "text/plain": [
       "  replicates      WT     PBS  ATF1-Fc  ATF1-flag  ELF1-Fc  ELF1-flag\n",
       "0       rep1  0.9202  0.8809   0.8667     0.8720   0.8324     0.8332\n",
       "1       rep2  0.9056  0.8790   0.8384     0.8388   0.8085     0.8264\n",
       "2       rep3  0.8806  0.8733   0.8052     0.8055   0.7698     0.7816"
      ]
     },
     "execution_count": 6,
     "metadata": {},
     "output_type": "execute_result"
    }
   ],
   "source": [
    "FACS_results = pd.read_csv('FACS_results.csv', header = 0, sep = '\\t')\n",
    "FACS_results"
   ]
  },
  {
   "cell_type": "code",
   "execution_count": 7,
   "metadata": {},
   "outputs": [
    {
     "data": {
      "text/html": [
       "<div>\n",
       "<style scoped>\n",
       "    .dataframe tbody tr th:only-of-type {\n",
       "        vertical-align: middle;\n",
       "    }\n",
       "\n",
       "    .dataframe tbody tr th {\n",
       "        vertical-align: top;\n",
       "    }\n",
       "\n",
       "    .dataframe thead th {\n",
       "        text-align: right;\n",
       "    }\n",
       "</style>\n",
       "<table border=\"1\" class=\"dataframe\">\n",
       "  <thead>\n",
       "    <tr style=\"text-align: right;\">\n",
       "      <th></th>\n",
       "      <th>replicates</th>\n",
       "      <th>variable</th>\n",
       "      <th>value</th>\n",
       "    </tr>\n",
       "  </thead>\n",
       "  <tbody>\n",
       "    <tr>\n",
       "      <th>0</th>\n",
       "      <td>rep1</td>\n",
       "      <td>WT</td>\n",
       "      <td>0.9202</td>\n",
       "    </tr>\n",
       "    <tr>\n",
       "      <th>1</th>\n",
       "      <td>rep2</td>\n",
       "      <td>WT</td>\n",
       "      <td>0.9056</td>\n",
       "    </tr>\n",
       "    <tr>\n",
       "      <th>2</th>\n",
       "      <td>rep3</td>\n",
       "      <td>WT</td>\n",
       "      <td>0.8806</td>\n",
       "    </tr>\n",
       "    <tr>\n",
       "      <th>3</th>\n",
       "      <td>rep1</td>\n",
       "      <td>PBS</td>\n",
       "      <td>0.8809</td>\n",
       "    </tr>\n",
       "    <tr>\n",
       "      <th>4</th>\n",
       "      <td>rep2</td>\n",
       "      <td>PBS</td>\n",
       "      <td>0.8790</td>\n",
       "    </tr>\n",
       "    <tr>\n",
       "      <th>5</th>\n",
       "      <td>rep3</td>\n",
       "      <td>PBS</td>\n",
       "      <td>0.8733</td>\n",
       "    </tr>\n",
       "    <tr>\n",
       "      <th>6</th>\n",
       "      <td>rep1</td>\n",
       "      <td>ATF1-Fc</td>\n",
       "      <td>0.8667</td>\n",
       "    </tr>\n",
       "    <tr>\n",
       "      <th>7</th>\n",
       "      <td>rep2</td>\n",
       "      <td>ATF1-Fc</td>\n",
       "      <td>0.8384</td>\n",
       "    </tr>\n",
       "    <tr>\n",
       "      <th>8</th>\n",
       "      <td>rep3</td>\n",
       "      <td>ATF1-Fc</td>\n",
       "      <td>0.8052</td>\n",
       "    </tr>\n",
       "    <tr>\n",
       "      <th>9</th>\n",
       "      <td>rep1</td>\n",
       "      <td>ATF1-flag</td>\n",
       "      <td>0.8720</td>\n",
       "    </tr>\n",
       "    <tr>\n",
       "      <th>10</th>\n",
       "      <td>rep2</td>\n",
       "      <td>ATF1-flag</td>\n",
       "      <td>0.8388</td>\n",
       "    </tr>\n",
       "    <tr>\n",
       "      <th>11</th>\n",
       "      <td>rep3</td>\n",
       "      <td>ATF1-flag</td>\n",
       "      <td>0.8055</td>\n",
       "    </tr>\n",
       "    <tr>\n",
       "      <th>12</th>\n",
       "      <td>rep1</td>\n",
       "      <td>ELF1-Fc</td>\n",
       "      <td>0.8324</td>\n",
       "    </tr>\n",
       "    <tr>\n",
       "      <th>13</th>\n",
       "      <td>rep2</td>\n",
       "      <td>ELF1-Fc</td>\n",
       "      <td>0.8085</td>\n",
       "    </tr>\n",
       "    <tr>\n",
       "      <th>14</th>\n",
       "      <td>rep3</td>\n",
       "      <td>ELF1-Fc</td>\n",
       "      <td>0.7698</td>\n",
       "    </tr>\n",
       "    <tr>\n",
       "      <th>15</th>\n",
       "      <td>rep1</td>\n",
       "      <td>ELF1-flag</td>\n",
       "      <td>0.8332</td>\n",
       "    </tr>\n",
       "    <tr>\n",
       "      <th>16</th>\n",
       "      <td>rep2</td>\n",
       "      <td>ELF1-flag</td>\n",
       "      <td>0.8264</td>\n",
       "    </tr>\n",
       "    <tr>\n",
       "      <th>17</th>\n",
       "      <td>rep3</td>\n",
       "      <td>ELF1-flag</td>\n",
       "      <td>0.7816</td>\n",
       "    </tr>\n",
       "  </tbody>\n",
       "</table>\n",
       "</div>"
      ],
      "text/plain": [
       "   replicates   variable   value\n",
       "0        rep1         WT  0.9202\n",
       "1        rep2         WT  0.9056\n",
       "2        rep3         WT  0.8806\n",
       "3        rep1        PBS  0.8809\n",
       "4        rep2        PBS  0.8790\n",
       "5        rep3        PBS  0.8733\n",
       "6        rep1    ATF1-Fc  0.8667\n",
       "7        rep2    ATF1-Fc  0.8384\n",
       "8        rep3    ATF1-Fc  0.8052\n",
       "9        rep1  ATF1-flag  0.8720\n",
       "10       rep2  ATF1-flag  0.8388\n",
       "11       rep3  ATF1-flag  0.8055\n",
       "12       rep1    ELF1-Fc  0.8324\n",
       "13       rep2    ELF1-Fc  0.8085\n",
       "14       rep3    ELF1-Fc  0.7698\n",
       "15       rep1  ELF1-flag  0.8332\n",
       "16       rep2  ELF1-flag  0.8264\n",
       "17       rep3  ELF1-flag  0.7816"
      ]
     },
     "execution_count": 7,
     "metadata": {},
     "output_type": "execute_result"
    }
   ],
   "source": [
    "FACS_results = FACS_results.melt(id_vars=[\"replicates\"])\n",
    "FACS_results"
   ]
  },
  {
   "cell_type": "code",
   "execution_count": 8,
   "metadata": {},
   "outputs": [
    {
     "data": {
      "text/plain": [
       "array(['WT', 'PBS', 'ATF1-Fc', 'ATF1-flag', 'ELF1-Fc', 'ELF1-flag'],\n",
       "      dtype=object)"
      ]
     },
     "execution_count": 8,
     "metadata": {},
     "output_type": "execute_result"
    }
   ],
   "source": [
    "FACS_results['variable'].unique()"
   ]
  },
  {
   "cell_type": "code",
   "execution_count": 23,
   "metadata": {},
   "outputs": [
    {
     "data": {
      "image/png": "[encoded data removed]",
      "text/plain": [
       "<Figure size 230.4x172.8 with 1 Axes>"
      ]
     },
     "metadata": {},
     "output_type": "display_data"
    }
   ],
   "source": [
    "with sns.axes_style('whitegrid', rc={\n",
    "        'xtick.bottom': True,\n",
    "        'ytick.left': True\n",
    "}), sns.plotting_context('paper',\n",
    "                         rc={\n",
    "                             'axes.titlesize': 14,\n",
    "                             'axes.labelsize': 12,\n",
    "                             'xtick.labelsize': 8,\n",
    "                             'ytick.labelsize': 8,\n",
    "                             'legend.fontsize': 8\n",
    "                         }):\n",
    "    fig, ax = plt.subplots(figsize=(6.4 * .5, 4.8 *.5))\n",
    "    sns.barplot(\n",
    "        x='variable',\n",
    "        y='value',\n",
    "        data=FACS_results,\n",
    "        palette=['#E4DDC3', '#92AC93', '#727F8D', '#769BB6', '#98BDD8', '#BADEEA'],\n",
    "        ci='sd',\n",
    "        saturation=1,\n",
    "        capsize=.2,\n",
    "        ax=ax,\n",
    "    )\n",
    "    ax.set_xticklabels(labels=['WT', 'PBS', 'ATF1-rFc', 'ATF1-flag', 'ELF1-rFc', 'ELF1-flag'],\n",
    "                       rotation=45, ha = 'right')\n",
    "    ax.set_ylabel('Cell viability')\n",
    "    ax.set_xlabel('Condition')\n",
    "    ax.set_ylim(0, 1.10)\n",
    "    fig.tight_layout()\n",
    "    fig.savefig('/mnt/Storage/home/wangyiman/fitCUTRUN/revision_1/analysis/figures/Supple_Fig1B_barplot_cellViability_FACS.pdf', transparent=True)"
   ]
  },
  {
   "cell_type": "code",
   "execution_count": 24,
   "metadata": {},
   "outputs": [
    {
     "data": {
      "text/html": [
       "<div>\n",
       "<style scoped>\n",
       "    .dataframe tbody tr th:only-of-type {\n",
       "        vertical-align: middle;\n",
       "    }\n",
       "\n",
       "    .dataframe tbody tr th {\n",
       "        vertical-align: top;\n",
       "    }\n",
       "\n",
       "    .dataframe thead th {\n",
       "        text-align: right;\n",
       "    }\n",
       "</style>\n",
       "<table border=\"1\" class=\"dataframe\">\n",
       "  <thead>\n",
       "    <tr style=\"text-align: right;\">\n",
       "      <th></th>\n",
       "      <th>value</th>\n",
       "    </tr>\n",
       "    <tr>\n",
       "      <th>variable</th>\n",
       "      <th></th>\n",
       "    </tr>\n",
       "  </thead>\n",
       "  <tbody>\n",
       "    <tr>\n",
       "      <th>ATF1-Fc</th>\n",
       "      <td>0.836767</td>\n",
       "    </tr>\n",
       "    <tr>\n",
       "      <th>ATF1-flag</th>\n",
       "      <td>0.838767</td>\n",
       "    </tr>\n",
       "    <tr>\n",
       "      <th>ELF1-Fc</th>\n",
       "      <td>0.803567</td>\n",
       "    </tr>\n",
       "    <tr>\n",
       "      <th>ELF1-flag</th>\n",
       "      <td>0.813733</td>\n",
       "    </tr>\n",
       "    <tr>\n",
       "      <th>PBS</th>\n",
       "      <td>0.877733</td>\n",
       "    </tr>\n",
       "    <tr>\n",
       "      <th>WT</th>\n",
       "      <td>0.902133</td>\n",
       "    </tr>\n",
       "  </tbody>\n",
       "</table>\n",
       "</div>"
      ],
      "text/plain": [
       "              value\n",
       "variable           \n",
       "ATF1-Fc    0.836767\n",
       "ATF1-flag  0.838767\n",
       "ELF1-Fc    0.803567\n",
       "ELF1-flag  0.813733\n",
       "PBS        0.877733\n",
       "WT         0.902133"
      ]
     },
     "execution_count": 24,
     "metadata": {},
     "output_type": "execute_result"
    }
   ],
   "source": [
    "FACS_results.groupby('variable').mean()"
   ]
  },
  {
   "cell_type": "code",
   "execution_count": null,
   "metadata": {},
   "outputs": [],
   "source": []
  }
 ],
 "metadata": {
  "kernelspec": {
   "display_name": "Python 3",
   "language": "python",
   "name": "python3"
  },
  "language_info": {
   "codemirror_mode": {
    "name": "ipython",
    "version": 3
   },
   "file_extension": ".py",
   "mimetype": "text/x-python",
   "name": "python",
   "nbconvert_exporter": "python",
   "pygments_lexer": "ipython3",
   "version": "3.7.6"
  }
 },
 "nbformat": 4,
 "nbformat_minor": 4
}
