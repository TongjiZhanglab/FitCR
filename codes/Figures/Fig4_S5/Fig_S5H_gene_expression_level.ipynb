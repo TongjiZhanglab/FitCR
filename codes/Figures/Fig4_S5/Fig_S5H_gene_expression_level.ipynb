{
 "cells": [
  {
   "cell_type": "markdown",
   "metadata": {},
   "source": [
    "# Load Modules"
   ]
  },
  {
   "cell_type": "code",
   "execution_count": 1,
   "metadata": {
    "ExecuteTime": {
     "end_time": "2021-04-10T03:35:20.636706Z",
     "start_time": "2021-04-10T03:35:19.865784Z"
    }
   },
   "outputs": [],
   "source": [
    "import numpy as np\n",
    "import pandas as pd\n",
    "import matplotlib as mpl\n",
    "mpl.rcParams['pdf.fonttype'] = 42\n",
    "mpl.rcParams['ps.fonttype'] = 42\n",
    "mpl.rcParams['font.sans-serif'] = 'Arial'\n",
    "import matplotlib.pyplot as plt\n",
    "import seaborn as sns\n",
    "from pprint import pprint\n",
    "%matplotlib inline"
   ]
  },
  {
   "cell_type": "markdown",
   "metadata": {},
   "source": [
    "## load data function"
   ]
  },
  {
   "cell_type": "code",
   "execution_count": 2,
   "metadata": {
    "ExecuteTime": {
     "end_time": "2021-04-10T03:35:20.655081Z",
     "start_time": "2021-04-10T03:35:20.646686Z"
    }
   },
   "outputs": [],
   "source": [
    "def load_data(file_pairs,src_dir='',dst_dir='.'):\n",
    "    import os\n",
    "    if not os.path.isdir(dst_dir):\n",
    "        os.mkdir(dst_dir)\n",
    "    for file_pair in file_pairs:\n",
    "        src = os.path.abspath(os.path.expanduser(os.path.join(src_dir,file_pair[0])))\n",
    "        dst = os.path.expanduser(os.path.join(dst_dir,file_pair[1]))\n",
    "        if os.path.isfile(dst):\n",
    "            os.remove(dst)\n",
    "        if not os.path.islink(dst):\n",
    "            os.symlink(src,dst)\n",
    "\n",
    "def load_data_suffixes(file_pairs, src_dir='', dst_dir='.', suffixes=None):\n",
    "    import os\n",
    "    if not os.path.isdir(dst_dir):\n",
    "        os.mkdir(dst_dir)\n",
    "    if not suffixes:\n",
    "        for file_pair in file_pairs:\n",
    "            src = os.path.abspath(os.path.expanduser(os.path.join(src_dir, file_pair[0])))\n",
    "            dst = os.path.expanduser(os.path.join(dst_dir, file_pair[1]))\n",
    "            if os.path.isfile(dst):\n",
    "                os.remove(dst)\n",
    "            if not os.path.islink(dst):\n",
    "                os.symlink(src, dst)\n",
    "    else:\n",
    "        for file_pair in file_pairs:\n",
    "            for suffix_pair in suffixes:\n",
    "                src = os.path.abspath(os.path.expanduser(\n",
    "                    os.path.join(src_dir, file_pair[0] + suffix_pair[0])))\n",
    "                dst = os.path.expanduser(\n",
    "                    os.path.join(dst_dir, file_pair[1] + suffix_pair[1]))\n",
    "                if os.path.isfile(dst):\n",
    "                    os.remove(dst)\n",
    "                if not os.path.islink(dst):\n",
    "                    os.symlink(src, dst)"
   ]
  },
  {
   "cell_type": "markdown",
   "metadata": {},
   "source": [
    "## box plot function"
   ]
  },
  {
   "cell_type": "code",
   "execution_count": 3,
   "metadata": {
    "ExecuteTime": {
     "end_time": "2021-04-10T03:35:21.249197Z",
     "start_time": "2021-04-10T03:35:21.210526Z"
    }
   },
   "outputs": [],
   "source": [
    "from seaborn.categorical import _BoxPlotter\n",
    "\n",
    "\n",
    "class box_plotter(_BoxPlotter):\n",
    "    def add_statistic_annotate(self, ax, x1, x2, y, h, value, text_type,\n",
    "                               **kws):\n",
    "        default_lw = mpl.rcParams[\"patch.linewidth\"]\n",
    "        lw = kws.get(\"linewidth\", kws.get(\"lw\", default_lw))\n",
    "        width = x2 - x1\n",
    "        x1, x2 = x1 + .1 * width, x2 - .1 * width\n",
    "        ax.plot([x1, x1, x2, x2], [y + .5 * h, y + h, y + h, y + .5 * h],\n",
    "                lw=1.5,\n",
    "                c='k')\n",
    "        if text_type == 'raw':\n",
    "            ax.text((x1 + x2) * .5,\n",
    "                    y + h * 1.5,\n",
    "                    f'P = {value:.2e}',\n",
    "                    ha='center',\n",
    "                    va='bottom',\n",
    "                    color='k')\n",
    "        elif value >= 0.05:\n",
    "            ax.text((x1 + x2) * .5,\n",
    "                    y + h * 1.5,\n",
    "                    'n.s.',\n",
    "                    ha='center',\n",
    "                    va='bottom',\n",
    "                    color='k')\n",
    "        elif value >= 0.01:\n",
    "            ax.text((x1 + x2) * .5,\n",
    "                    y + h * 1.5,\n",
    "                    '*',\n",
    "                    ha='center',\n",
    "                    va='bottom',\n",
    "                    color='k')\n",
    "        elif value >= 0.001:\n",
    "            ax.text((x1 + x2) * .5,\n",
    "                    y_ + h * 1.5,\n",
    "                    '**',\n",
    "                    ha='center',\n",
    "                    va='bottom',\n",
    "                    color='k')\n",
    "        else:\n",
    "            ax.text((x1 + x2) * .5,\n",
    "                    y + h * 1.5,\n",
    "                    '***',\n",
    "                    ha='center',\n",
    "                    va='bottom',\n",
    "                    color='k')\n",
    "\n",
    "    def draw_statistic_annotate(self, ax, **kwargs):\n",
    "        from operator import methodcaller\n",
    "        from scipy import stats\n",
    "        if kwargs.get('statistic_test') == 'mannwhitneyu':\n",
    "            statistic_kwargs = {\n",
    "                'use_continuity': kwargs.get('use_continuity', True),\n",
    "                'alternative': kwargs.get('alternative', None)\n",
    "            }\n",
    "        elif kwargs.get('statistic_test') == 'wilcoxon':\n",
    "            statistic_kwargs = {\n",
    "                'zero_method': kwargs.get('zero_method', 'wilcox'),\n",
    "                'correction': kwargs.get('correction', False),\n",
    "                'alternative': kwargs.get('alternative', 'two-sided')\n",
    "            }\n",
    "        elif kwargs.get('statistic_test') == 'ttest_ind':\n",
    "            statistic_kwargs = {\n",
    "                'axis': kwargs.get('axis', 0),\n",
    "                'equal_var': kwargs.get('equal_var', True),\n",
    "                'nan_policy': kwargs.get('nan_policy', 'propagate')\n",
    "            }\n",
    "        elif kwargs.get('statistic_test') == 'ttest_rel':\n",
    "            statistic_kwargs = {\n",
    "                'axis': kwargs.get('axis', 0),\n",
    "                'nan_policy': kwargs.get('nan_policy', 'propagate')\n",
    "            }\n",
    "        else:\n",
    "            raise ValueError(\n",
    "                'statistic_test must be either mannwhitneyu, wilcoxon, ttest_ind or ttest_rel.'\n",
    "            )\n",
    "        ylim = ax.get_ylim()\n",
    "        h = .05 * (ylim[1] - ylim[0])\n",
    "        if self.plot_hues is None:\n",
    "            for i in range(len(self.plot_data) - 1):\n",
    "                pvalue = methodcaller(kwargs.get('statistic_test'),\n",
    "                                      self.plot_data[i], self.plot_data[i + 1],\n",
    "                                      **statistic_kwargs)(stats).pvalue\n",
    "                y = max(\n",
    "                    mpl.cbook.boxplot_stats(self.plot_data[i])[0]['whishi'],\n",
    "                    mpl.cbook.boxplot_stats(\n",
    "                        self.plot_data[i + 1])[0]['whishi']) + .25 * h\n",
    "                self.add_statistic_annotate(ax,\n",
    "                                            i,\n",
    "                                            i + 1,\n",
    "                                            y,\n",
    "                                            h,\n",
    "                                            pvalue,\n",
    "                                            text_type=kwargs.get(\n",
    "                                                'text_type', 'raw'))\n",
    "        else:\n",
    "            for i in range(len(self.plot_data)):\n",
    "                offsets = self.hue_offsets\n",
    "                for j in range(len(self.hue_names) - 1):\n",
    "                    pvalue = methodcaller(\n",
    "                        kwargs.get('statistic_test'), self.plot_data[i][\n",
    "                            self.plot_hues[i] == self.hue_names[j]],\n",
    "                        self.plot_data[i][self.plot_hues[i] == self.hue_names[\n",
    "                            j + 1]], **statistic_kwargs)(stats).pvalue\n",
    "                    y = max(\n",
    "                        mpl.cbook.boxplot_stats(\n",
    "                            self.plot_data[i][self.plot_hues[i] ==\n",
    "                                              self.hue_names[j]])[0]['whishi'],\n",
    "                        mpl.cbook.boxplot_stats(self.plot_data[i][\n",
    "                            self.plot_hues[i] == self.hue_names[j + 1]])[0]\n",
    "                        ['whishi']) + .25 * h\n",
    "                    self.add_statistic_annotate(ax,\n",
    "                                                i + offsets[j],\n",
    "                                                i + offsets[j + 1],\n",
    "                                                y,\n",
    "                                                h,\n",
    "                                                pvalue,\n",
    "                                                text_type=kwargs.get(\n",
    "                                                    'text_type', 'raw'))\n",
    "        ax.set_ylim(ylim[0], ylim[1] + 2.5 * h)\n",
    "\n",
    "\n",
    "def boxplot(x=None,\n",
    "            y=None,\n",
    "            hue=None,\n",
    "            data=None,\n",
    "            order=None,\n",
    "            hue_order=None,\n",
    "            orient=None,\n",
    "            color=None,\n",
    "            palette=None,\n",
    "            saturation=0.75,\n",
    "            width=0.8,\n",
    "            dodge=True,\n",
    "            fliersize=5,\n",
    "            linewidth=None,\n",
    "            whis=1.5,\n",
    "            ax=None,\n",
    "            statistic_args=None,\n",
    "            **kwargs):\n",
    "    plotter = box_plotter(x, y, hue, data, order, hue_order, orient, color,\n",
    "                          palette, saturation, width, dodge, fliersize,\n",
    "                          linewidth)\n",
    "    if ax is None:\n",
    "        ax = plt.gca()\n",
    "    kwargs.update(dict(whis=whis))\n",
    "    plotter.draw_boxplot(ax, kwargs)\n",
    "    plotter.annotate_axes(ax)\n",
    "    if statistic_args:\n",
    "        kwargs = statistic_args\n",
    "        plotter.draw_statistic_annotate(ax, **kwargs)\n",
    "    if plotter.orient == \"h\":\n",
    "        ax.invert_yaxis()\n"
   ]
  },
  {
   "cell_type": "markdown",
   "metadata": {},
   "source": [
    "## make_Ramp function"
   ]
  },
  {
   "cell_type": "code",
   "execution_count": 33,
   "metadata": {},
   "outputs": [],
   "source": [
    "from colour import Color\n",
    "from matplotlib.colors import LinearSegmentedColormap\n",
    "def make_Ramp( ramp_colors ): \n",
    "    color_ramp = LinearSegmentedColormap.from_list( 'my_list', [ Color( c1 ).rgb for c1 in ramp_colors ] )\n",
    "    plt.figure( figsize = (15,3))\n",
    "    plt.imshow( [list(np.arange(0, len( ramp_colors ) , 0.1)) ] , interpolation='nearest', origin='lower', cmap= color_ramp )\n",
    "    plt.xticks([])\n",
    "    plt.yticks([])\n",
    "    return color_ramp"
   ]
  },
  {
   "cell_type": "code",
   "execution_count": 65,
   "metadata": {},
   "outputs": [
    {
     "data": {
      "image/png": "[encoded data removed]",
      "text/plain": [
       "<Figure size 1080x216 with 1 Axes>"
      ]
     },
     "metadata": {},
     "output_type": "display_data"
    }
   ],
   "source": [
    "my_cmap_3 = make_Ramp(['#B3B6BD', '#C0C9C0', '#C0D1DF'])"
   ]
  },
  {
   "cell_type": "markdown",
   "metadata": {},
   "source": [
    "## stack bar plot function"
   ]
  },
  {
   "cell_type": "code",
   "execution_count": 63,
   "metadata": {
    "ExecuteTime": {
     "end_time": "2021-04-10T03:35:22.688179Z",
     "start_time": "2021-04-10T03:35:22.655564Z"
    }
   },
   "outputs": [],
   "source": [
    "def stack_percentage_bar(results, horizontal=False, annotate='number'):\n",
    "    import sys\n",
    "    \"\"\"\\\n",
    "    results : pandas.DataFrame\n",
    "        results.index is the name of each sample.\n",
    "        results.columns is the label of each category\n",
    "    horizontal: bool\n",
    "        If the figure should be horizontal.\n",
    "    \"\"\"\n",
    "    # the following modules should been loaded before\n",
    "    #import numpy as np\n",
    "    #import matplotlib as mpl\n",
    "    #mpl.rcParams['pdf.fonttype'] = 42\n",
    "    #mpl.rcParams['ps.fonttype'] = 42\n",
    "    #mpl.rcParams['font.sans-serif'] = 'Helvetica'\n",
    "    #import matplotlib.pyplot as plt\n",
    "    #import seaborn as sns\n",
    "    percentage = results.div(results.sum(axis=1), axis=0) * 100\n",
    "    percentage_cum = percentage.cumsum(axis=1)\n",
    "    percentage_cum.loc[:, percentage_cum.shape[1] - 1] = 100.0\n",
    "    category_colors = plt.get_cmap(my_cmap_3)(np.linspace(\n",
    "        0.15, 0.85, results.shape[1]))\n",
    "    if horizontal:\n",
    "        fig, ax = plt.subplots(figsize=(6.4 * .75, 4.8))\n",
    "        ax.invert_yaxis()\n",
    "        ax.set_xlim(0, 100)\n",
    "        for i, (category_name,\n",
    "                color) in enumerate(zip(results.columns, category_colors)):\n",
    "            widths = percentage.iloc[:, i]\n",
    "            starts = percentage_cum.iloc[:, i] - widths\n",
    "            ax.barh(results.index,\n",
    "                    widths,\n",
    "                    left=starts,\n",
    "                    height=0.5,\n",
    "                    label=category_name,\n",
    "                    color=color)\n",
    "            xcenters = starts + widths / 2\n",
    "            r, g, b, _ = color\n",
    "            text_color = 'white' if r * g * b < 0.33 else (\n",
    "                'grey' if r * g * b < 0.66 else 'black')\n",
    "            if annotate == 'number':\n",
    "                text = [f'{x:d}' for x in results.iloc[:, i]]\n",
    "            elif annotate == 'percentage':\n",
    "                text = [f'{x/100:.2%}' for x in percentage.iloc[:, i]]\n",
    "            else:\n",
    "                sys.stdout.write(\n",
    "                    f'Invalide annotate input: {annotate}. Use default parameters number.'\n",
    "                )\n",
    "                text = [f'{x:d}' for x in results.iloc[:, i]]\n",
    "            for y, (x, c) in enumerate(zip(xcenters, text)):\n",
    "                ax.text(x, y, c, ha='center', va='center', color=text_color)\n",
    "        ax.set_xticks(np.arange(0, 120, 20))\n",
    "        ax.set_xticklabels(np.arange(0, 120, 20))\n",
    "        ax.set_xlabel('Percentage')\n",
    "        ax.set_yticks(np.arange(percentage.shape[0]))\n",
    "        ax.set_yticklabels(percentage.index)\n",
    "        ax.set_ylabel('Sample')\n",
    "        ax.legend(ncol=results.shape[1],\n",
    "                  bbox_to_anchor=(0, 1),\n",
    "                  loc='lower left',\n",
    "                  fontsize='small')\n",
    "    else:\n",
    "        fig, ax = plt.subplots(figsize=(6.4 * .75, 4.8))\n",
    "        ax.set_ylim(0, 100)\n",
    "        for i, (category_name,\n",
    "                color) in enumerate(zip(results.columns, category_colors)):\n",
    "            hights = percentage.iloc[:, i]\n",
    "            starts = percentage_cum.iloc[:, i] - hights\n",
    "            ax.bar(results.index,\n",
    "                   hights,\n",
    "                   bottom=starts,\n",
    "                   width=0.5,\n",
    "                   label=category_name,\n",
    "                   color=color)\n",
    "            xcenters = starts + hights / 2\n",
    "            r, g, b, _ = color\n",
    "            text_color = 'white' if r * g * b < 0.33 else (\n",
    "                'grey' if r * g * b < 0.66 else 'black')\n",
    "            if annotate == 'number':\n",
    "                text = [f'{x:d}' for x in results.iloc[:, i]]\n",
    "            elif annotate == 'percentage':\n",
    "                text = [f'{x/100:.2%}' for x in percentage.iloc[:, i]]\n",
    "            else:\n",
    "                sys.stdout.write(\n",
    "                    f'Invalide annotate input: {annotate}. Use default parameters number.'\n",
    "                )\n",
    "                text = [f'{x:d}' for x in results.iloc[:, i]]\n",
    "            for x, (c, y) in enumerate(zip(text, xcenters)):\n",
    "                ax.text(x, y, c, ha='center', va='center', color=text_color)\n",
    "        ax.set_xticks(np.arange(results.shape[0]))\n",
    "        ax.set_xticklabels(percentage.index, rotation=45, ha='right')\n",
    "        ax.set_xlabel('Sample')\n",
    "        ax.set_yticks(np.arange(0, 120, 20))\n",
    "        ax.set_yticklabels(np.arange(0, 120, 20))\n",
    "        ax.set_ylabel('Percentage')\n",
    "        ax.legend(bbox_to_anchor=(1, 0), loc='lower left')\n",
    "    return fig, ax"
   ]
  },
  {
   "cell_type": "markdown",
   "metadata": {},
   "source": [
    "# Load data"
   ]
  },
  {
   "cell_type": "code",
   "execution_count": 7,
   "metadata": {},
   "outputs": [],
   "source": [
    "import os\n",
    "os.chdir('/mnt/Storage/home/wangyiman/fitCUTRUN/revision_1/analysis/TF/comparison')"
   ]
  },
  {
   "cell_type": "code",
   "execution_count": 8,
   "metadata": {},
   "outputs": [
    {
     "name": "stdout",
     "output_type": "stream",
     "text": [
      "expression/wt_elife_TPM.txt\n",
      "expression/wt_embryo_TPM.txt\n"
     ]
    }
   ],
   "source": [
    "%%bash\n",
    "ls expression/*"
   ]
  },
  {
   "cell_type": "markdown",
   "metadata": {},
   "source": [
    "# Definition\n",
    "- raw enrichment bin: coverage greater than mean + 3 * std\n",
    "- merged cluster must in mixed bins"
   ]
  },
  {
   "cell_type": "code",
   "execution_count": 9,
   "metadata": {
    "ExecuteTime": {
     "end_time": "2021-03-31T05:03:40.294908Z",
     "start_time": "2021-03-31T05:03:39.342523Z"
    }
   },
   "outputs": [],
   "source": [
    "import os\n",
    "\n",
    "with open(os.path.expanduser('/mnt/Storage/home/wangwen/source/bySpecies/danRer11_2/danRer11_2_main.chrom.sizes')) as fhd:\n",
    "    chrom_size = {line.strip().split()[0]: int(line.strip().split()[1]) for line in fhd}"
   ]
  },
  {
   "cell_type": "code",
   "execution_count": 10,
   "metadata": {},
   "outputs": [
    {
     "name": "stdout",
     "output_type": "stream",
     "text": [
      "./dome_cluster/danRer11_2_1kb.bed\n"
     ]
    }
   ],
   "source": [
    "%%bash\n",
    "ls ./dome_cluster/danRer11_2_1kb.bed"
   ]
  },
  {
   "cell_type": "code",
   "execution_count": 11,
   "metadata": {
    "ExecuteTime": {
     "end_time": "2021-03-31T05:03:42.576470Z",
     "start_time": "2021-03-31T05:03:40.511799Z"
    }
   },
   "outputs": [
    {
     "name": "stdout",
     "output_type": "stream",
     "text": [
      "./dome_cluster/danRer11_2_1kb_ov_nanog_fitCR_dome.bed\n",
      "./dome_cluster/danRer11_2_1kb_ov_nanog_fitCR_dome_summits.bed\n"
     ]
    }
   ],
   "source": [
    "%%bash\n",
    "# intersectBed -wo -a danRer11_2_1kb.bed -b Nanog_dome_filtered_peaks.narrowPeak > danRer11_2_1kb_ov_nanog_fitCR_dome.bed &\n",
    "# intersectBed -c -a danRer11_2_1kb.bed -b  Nanog_dome_filtered_summits_annotation.txt > danRer11_2_1kb_ov_nanog_fitCR_dome_summits.bed &\n",
    "# wait\n",
    "ls ./dome_cluster/danRer11_2_1kb_ov_nanog_fitCR_dome.bed\n",
    "ls ./dome_cluster/danRer11_2_1kb_ov_nanog_fitCR_dome_summits.bed\n"
   ]
  },
  {
   "cell_type": "code",
   "execution_count": 13,
   "metadata": {
    "ExecuteTime": {
     "end_time": "2021-03-31T05:03:52.510026Z",
     "start_time": "2021-03-31T05:03:45.720049Z"
    }
   },
   "outputs": [
    {
     "name": "stdout",
     "output_type": "stream",
     "text": [
      "nanog\n",
      "\tfitCR\n",
      "325.033447331859 204.52958695435467\n",
      "938.6222081949229\n"
     ]
    }
   ],
   "source": [
    "from collections import defaultdict\n",
    "\n",
    "def gen(window,step):\n",
    "    from collections import deque\n",
    "    window_size = window // step\n",
    "    coverage = deque(maxlen = window_size)\n",
    "    num = deque(maxlen = window_size)\n",
    "    for chrom in genome_window['number']:\n",
    "        for i in range(window_size):\n",
    "            coverage.append(genome_window['coverage'][chrom].get(i,0))\n",
    "            num.append(genome_window['number'][chrom].get(i,0))\n",
    "        for i in range(window_size,len(genome_window['number'][chrom])):\n",
    "            yield sum(coverage), sum(num)\n",
    "            coverage.append(genome_window['coverage'][chrom].get(i,0))\n",
    "            num.append(genome_window['number'][chrom].get(i,0))\n",
    "        yield sum(coverage), sum(num)\n",
    "\n",
    "def gen_cluster_bin(window,step,cutoff):\n",
    "    from collections import deque\n",
    "    window_size = window // step\n",
    "    coverage = deque(maxlen = window_size)\n",
    "    num = deque(maxlen = window_size)\n",
    "    for chrom in genome_window['coverage']:\n",
    "        i = -1\n",
    "        maximum = max(genome_window['coverage'][chrom].keys())\n",
    "        while i <= maximum:\n",
    "            i += 1\n",
    "            if i < window_size:\n",
    "                coverage.append(genome_window['coverage'][chrom].get(i,0))\n",
    "                num.append(genome_window['number'][chrom].get(i,0))\n",
    "            else:\n",
    "                if sum(coverage) > cutoff and sum(num) >= 3:\n",
    "                    yield chrom, (i-window_size)*1000, (i-window_size)*1000+20000\n",
    "                coverage.append(genome_window['coverage'][chrom].get(i,0))\n",
    "                num.append(genome_window['number'][chrom].get(i,0))\n",
    "        if sum(coverage) > cutoff and sum(num) >= 5:\n",
    "            yield chrom, (i-window_size)*1000, (i-window_size)*1000+20000\n",
    "\n",
    "#for factor in ['nanog','pou5f3','sox19b']:\n",
    "for factor in ['nanog']:\n",
    "    print(f'{factor}')\n",
    "    #for method in ['chip','fitCR']:\n",
    "    for method in ['fitCR']:\n",
    "        print(f'\\t{method}')\n",
    "        genome_window = {'coverage': defaultdict(dict), 'number': defaultdict(dict)}\n",
    "        with open(f'dome_cluster/danRer11_2_1kb_ov_{factor}_{method}_dome.bed') as fhd:\n",
    "            for line in fhd:\n",
    "                chrom, start, *_, coverage = line.strip().split()\n",
    "                if chrom == 'chrM':\n",
    "                    continue\n",
    "                start, coverage = int(start), int(coverage)\n",
    "                pos = start//1000\n",
    "                if pos in genome_window['coverage'][chrom]:\n",
    "                    genome_window['coverage'][chrom][pos] += coverage\n",
    "                else:\n",
    "                    genome_window['coverage'][chrom][pos] = coverage\n",
    "        with open(f'dome_cluster/danRer11_2_1kb_ov_{factor}_{method}_dome_summits.bed') as fhd:\n",
    "            for line in fhd:\n",
    "                chrom, start, _, num = line.strip().split()\n",
    "                if chrom == 'chrM':\n",
    "                    continue\n",
    "                start, num = int(start), int(num)\n",
    "                genome_window['number'][chrom][start//1000] = num\n",
    "        window = 20000\n",
    "        summary_table = pd.DataFrame(gen(window,1000),columns=['coverage','num'])\n",
    "        non_zero_table = summary_table.loc[[True if x > 0 else False for x in summary_table['coverage']],:]\n",
    "        #print(f'mean: {non_zero_table[\"coverage\"].mean()}')\n",
    "        #print(f'std: {non_zero_table[\"coverage\"].std()}')\n",
    "        mean, std = non_zero_table['coverage'].mean(), non_zero_table['coverage'].std()\n",
    "        print(mean, std)\n",
    "        #print(sum(non_zero_table['coverage']>non_zero_table[\"coverage\"].mean()+3*non_zero_table[\"coverage\"].std()))\n",
    "        cutoff = mean + 3 * std\n",
    "        print(cutoff)\n",
    "        #print(sum(non_zero_table['coverage']>cutoff))\n",
    "        \n",
    "#         with open(f'danRer11_2_1kb_ov_{factor}_{method}_dome_cluster.bed', 'w') as fhd:\n",
    "#             for chrom, start, end in gen_cluster_bin(window,1000,cutoff):\n",
    "#                 fhd.write(f'{chrom}\\t{start}\\t{end}\\n')"
   ]
  },
  {
   "cell_type": "code",
   "execution_count": 16,
   "metadata": {
    "ExecuteTime": {
     "end_time": "2021-03-31T05:03:55.777492Z",
     "start_time": "2021-03-31T05:03:55.728383Z"
    }
   },
   "outputs": [
    {
     "name": "stdout",
     "output_type": "stream",
     "text": [
      "dome_cluster/danRer11_2_nanog_fitCR_dome_cluster.bed\n"
     ]
    }
   ],
   "source": [
    "%%bash\n",
    "# sort -k1,1 -k2,2n   danRer11_2_1kb_ov_nanog_fitCR_dome_cluster.bed | mergeBed -i - >   danRer11_2_nanog_fitCR_dome_cluster.bed\n",
    "ls dome_cluster/danRer11_2_nanog_fitCR_dome_cluster.bed"
   ]
  },
  {
   "cell_type": "code",
   "execution_count": 17,
   "metadata": {
    "ExecuteTime": {
     "end_time": "2021-03-31T05:03:56.758292Z",
     "start_time": "2021-03-31T05:03:56.717041Z"
    }
   },
   "outputs": [
    {
     "name": "stdout",
     "output_type": "stream",
     "text": [
      "188 dome_cluster/danRer11_2_nanog_fitCR_dome_cluster_from_256.bed\n"
     ]
    }
   ],
   "source": [
    "%%bash\n",
    "# intersectBed  -u -a danRer11_2_nanog_fitCR_dome_cluster.bed -b Nanog_256_filtered_peaks.narrowPeak > danRer11_2_nanog_fitCR_dome_cluster_from_256.bed\n",
    "wc -l dome_cluster/danRer11_2_nanog_fitCR_dome_cluster_from_256.bed\n"
   ]
  },
  {
   "cell_type": "markdown",
   "metadata": {},
   "source": [
    "# annotation"
   ]
  },
  {
   "cell_type": "code",
   "execution_count": 47,
   "metadata": {
    "ExecuteTime": {
     "end_time": "2021-03-31T05:03:57.909025Z",
     "start_time": "2021-03-31T05:03:57.631961Z"
    }
   },
   "outputs": [
    {
     "name": "stdout",
     "output_type": "stream",
     "text": [
      "dome_cluster/Nanog_dome_cluster_summits_annotation_from_256_cluster.txt\n",
      "dome_cluster/danRer11_tss_in_cluster_from_256_5kb.bed\n"
     ]
    }
   ],
   "source": [
    "%%bash\n",
    "# intersectBed -u -a Nanog_dome_cluster_summits_annotation.txt -b danRer11_2_nanog_fitCR_dome_cluster_from_256.bed > Nanog_dome_cluster_summits_annotation_from_256_cluster.txt\n",
    "windowBed -w 5000 -u -a tss_inNanog_10kb/danRer11_2.ensGene.tss.bed -b dome_cluster/Nanog_dome_cluster_summits_annotation_from_256_cluster.txt > dome_cluster/danRer11_tss_in_cluster_from_256_5kb.bed\n",
    "ls dome_cluster/Nanog_dome_cluster_summits_annotation_from_256_cluster.txt\n",
    "ls dome_cluster/danRer11_tss_in_cluster_from_256_5kb.bed"
   ]
  },
  {
   "cell_type": "code",
   "execution_count": 48,
   "metadata": {
    "ExecuteTime": {
     "end_time": "2021-04-10T03:35:37.783999Z",
     "start_time": "2021-04-10T03:35:37.583024Z"
    }
   },
   "outputs": [],
   "source": [
    "import os\n",
    "danRer11_2_transcript_to_gene = {}\n",
    "\n",
    "with open(os.path.expanduser('~wangwen/source/bySpecies/danRer11_2/danRer11_2.ensGene.genePredExt')) as fhd:\n",
    "    for line in fhd:\n",
    "        line = line.strip().split()\n",
    "        danRer11_2_transcript_to_gene[line[0]]= line[11]\n",
    "\n",
    "nanog_dome_in_cluster_genes = set()\n",
    "with open('dome_cluster/danRer11_tss_in_cluster_from_256_5kb.bed') as fhd:\n",
    "    for line in fhd:\n",
    "        line = line.strip().split()\n",
    "        try:\n",
    "            nanog_dome_in_cluster_genes.add(danRer11_2_transcript_to_gene[line[3]].split('.')[0])\n",
    "        except KeyError:\n",
    "            pass"
   ]
  },
  {
   "cell_type": "code",
   "execution_count": 49,
   "metadata": {
    "ExecuteTime": {
     "end_time": "2021-04-10T03:35:39.706746Z",
     "start_time": "2021-04-10T03:35:39.702014Z"
    }
   },
   "outputs": [],
   "source": [
    "# https://biit.cs.ut.ee/gplink/l/kNeT42tpRL\n",
    "with open('dome_cluster/nanog_dome_in_mixed_bin_cluster_genes.txt', 'w') as fhd:\n",
    "    for g in nanog_dome_in_cluster_genes:\n",
    "        fhd.write(g+'\\n')\n"
   ]
  },
  {
   "cell_type": "code",
   "execution_count": 50,
   "metadata": {
    "ExecuteTime": {
     "end_time": "2021-04-10T03:35:40.313037Z",
     "start_time": "2021-04-10T03:35:40.264970Z"
    }
   },
   "outputs": [],
   "source": [
    "nanog_256_genes_in_5k, nanog_1k_genes_in_5k, nanog_dome_genes_in_5k = set(), set(), set()\n",
    "with open('tss_inNanog_5kb/danRer11_tss_in_Nanog_256_5kb.bed') as fhd:\n",
    "    for line in fhd:\n",
    "        line = line.strip().split()\n",
    "        try:\n",
    "            nanog_256_genes_in_5k.add(danRer11_2_transcript_to_gene[line[3]].split('.')[0])\n",
    "        except KeyError:\n",
    "            pass\n",
    "\n",
    "with open('tss_inNanog_5kb/danRer11_tss_in_Nanog_1k_5kb.bed') as fhd:\n",
    "    for line in fhd:\n",
    "        line = line.strip().split()\n",
    "        try:\n",
    "            nanog_1k_genes_in_5k.add(danRer11_2_transcript_to_gene[line[3]].split('.')[0])\n",
    "        except KeyError:\n",
    "            pass\n",
    "\n",
    "with open('tss_inNanog_5kb/danRer11_tss_in_Nanog_dome_5kb.bed') as fhd:\n",
    "    for line in fhd:\n",
    "        line = line.strip().split()\n",
    "        try:\n",
    "            nanog_dome_genes_in_5k.add(danRer11_2_transcript_to_gene[line[3]].split('.')[0])\n",
    "        except KeyError:\n",
    "            pass\n",
    "        \n",
    "nanog_1k_new_genes_in_5k = nanog_1k_genes_in_5k - nanog_256_genes_in_5k\n",
    "nanog_dome_new_genes_in_5k = nanog_dome_genes_in_5k - nanog_1k_genes_in_5k - nanog_256_genes_in_5k"
   ]
  },
  {
   "cell_type": "code",
   "execution_count": 51,
   "metadata": {
    "ExecuteTime": {
     "end_time": "2021-04-10T03:35:41.786688Z",
     "start_time": "2021-04-10T03:35:41.780319Z"
    }
   },
   "outputs": [],
   "source": [
    "nanog_256_genes_in_5kb_remove_cluster = nanog_256_genes_in_5k - nanog_dome_in_cluster_genes"
   ]
  },
  {
   "cell_type": "code",
   "execution_count": 52,
   "metadata": {
    "ExecuteTime": {
     "end_time": "2021-04-10T03:35:42.360369Z",
     "start_time": "2021-04-10T03:35:42.355357Z"
    }
   },
   "outputs": [],
   "source": [
    "nanog_256_genes_in_5kb_cluster = nanog_256_genes_in_5k & nanog_dome_in_cluster_genes"
   ]
  },
  {
   "cell_type": "code",
   "execution_count": 53,
   "metadata": {
    "ExecuteTime": {
     "end_time": "2021-04-10T03:35:42.919337Z",
     "start_time": "2021-04-10T03:35:42.915756Z"
    }
   },
   "outputs": [],
   "source": [
    "first_wave_genes_danRer11_2 = set()\n",
    "with open('first_wave_genes/first_wave_genes_danRer11_2.txt') as fhd:\n",
    "    for line in fhd:\n",
    "        first_wave_genes_danRer11_2.add(line.strip())\n"
   ]
  },
  {
   "cell_type": "code",
   "execution_count": 54,
   "metadata": {
    "ExecuteTime": {
     "end_time": "2021-04-10T03:35:43.981268Z",
     "start_time": "2021-04-10T03:35:43.976503Z"
    }
   },
   "outputs": [],
   "source": [
    "earlyZGA_genes_danRer11_2 = set()\n",
    "with open('earlyZGA_genes/earlyZGA_genes_danRer11_2.txt') as fhd:\n",
    "    for line in fhd:\n",
    "        earlyZGA_genes_danRer11_2.add(line.strip())\n"
   ]
  },
  {
   "cell_type": "code",
   "execution_count": 55,
   "metadata": {
    "ExecuteTime": {
     "end_time": "2021-04-10T03:35:44.596384Z",
     "start_time": "2021-04-10T03:35:44.588681Z"
    }
   },
   "outputs": [
    {
     "name": "stdout",
     "output_type": "stream",
     "text": [
      "217\n",
      "36\n",
      "46\n"
     ]
    }
   ],
   "source": [
    "print(len(nanog_dome_in_cluster_genes))\n",
    "print(len(first_wave_genes_danRer11_2 & nanog_dome_in_cluster_genes))\n",
    "print(len(earlyZGA_genes_danRer11_2 & nanog_dome_in_cluster_genes))\n"
   ]
  },
  {
   "cell_type": "markdown",
   "metadata": {},
   "source": [
    "# expression difference for early expressed genes"
   ]
  },
  {
   "cell_type": "code",
   "execution_count": 56,
   "metadata": {
    "ExecuteTime": {
     "end_time": "2021-04-10T03:35:47.306676Z",
     "start_time": "2021-04-10T03:35:46.847920Z"
    }
   },
   "outputs": [
    {
     "data": {
      "text/html": [
       "<div>\n",
       "<style scoped>\n",
       "    .dataframe tbody tr th:only-of-type {\n",
       "        vertical-align: middle;\n",
       "    }\n",
       "\n",
       "    .dataframe tbody tr th {\n",
       "        vertical-align: top;\n",
       "    }\n",
       "\n",
       "    .dataframe thead th {\n",
       "        text-align: right;\n",
       "    }\n",
       "</style>\n",
       "<table border=\"1\" class=\"dataframe\">\n",
       "  <thead>\n",
       "    <tr style=\"text-align: right;\">\n",
       "      <th></th>\n",
       "      <th>1cell_1</th>\n",
       "      <th>1cell_2</th>\n",
       "      <th>1cell_3</th>\n",
       "      <th>1cell_4</th>\n",
       "      <th>1cell_5</th>\n",
       "      <th>2cell_2</th>\n",
       "      <th>2cell_3</th>\n",
       "      <th>2cell_4</th>\n",
       "      <th>2cell_5</th>\n",
       "      <th>128cell_1</th>\n",
       "      <th>...</th>\n",
       "      <th>4dpf_1</th>\n",
       "      <th>4dpf_2</th>\n",
       "      <th>4dpf_3</th>\n",
       "      <th>4dpf_4</th>\n",
       "      <th>4dpf_5</th>\n",
       "      <th>5dpf_1</th>\n",
       "      <th>5dpf_2</th>\n",
       "      <th>5dpf_3</th>\n",
       "      <th>5dpf_4</th>\n",
       "      <th>5dpf_5</th>\n",
       "    </tr>\n",
       "  </thead>\n",
       "  <tbody>\n",
       "    <tr>\n",
       "      <th>ENSDARG00000000001</th>\n",
       "      <td>4.051978</td>\n",
       "      <td>3.052561</td>\n",
       "      <td>2.109864</td>\n",
       "      <td>2.795590</td>\n",
       "      <td>1.720883</td>\n",
       "      <td>5.180598</td>\n",
       "      <td>4.927223</td>\n",
       "      <td>5.027334</td>\n",
       "      <td>5.101963</td>\n",
       "      <td>15.595867</td>\n",
       "      <td>...</td>\n",
       "      <td>4.172472</td>\n",
       "      <td>3.276666</td>\n",
       "      <td>3.783347</td>\n",
       "      <td>2.894171</td>\n",
       "      <td>4.005893</td>\n",
       "      <td>3.327795</td>\n",
       "      <td>3.327846</td>\n",
       "      <td>4.583900</td>\n",
       "      <td>3.072847</td>\n",
       "      <td>3.741060</td>\n",
       "    </tr>\n",
       "    <tr>\n",
       "      <th>ENSDARG00000000002</th>\n",
       "      <td>0.273260</td>\n",
       "      <td>0.000000</td>\n",
       "      <td>0.000000</td>\n",
       "      <td>0.421684</td>\n",
       "      <td>0.000000</td>\n",
       "      <td>3.431821</td>\n",
       "      <td>2.770505</td>\n",
       "      <td>5.022453</td>\n",
       "      <td>2.730927</td>\n",
       "      <td>2.624475</td>\n",
       "      <td>...</td>\n",
       "      <td>14.846203</td>\n",
       "      <td>18.130838</td>\n",
       "      <td>18.304920</td>\n",
       "      <td>16.364960</td>\n",
       "      <td>14.593785</td>\n",
       "      <td>14.230783</td>\n",
       "      <td>14.521548</td>\n",
       "      <td>15.233061</td>\n",
       "      <td>13.637992</td>\n",
       "      <td>15.589039</td>\n",
       "    </tr>\n",
       "    <tr>\n",
       "      <th>ENSDARG00000000018</th>\n",
       "      <td>3.682254</td>\n",
       "      <td>3.903807</td>\n",
       "      <td>2.398350</td>\n",
       "      <td>2.654802</td>\n",
       "      <td>4.678908</td>\n",
       "      <td>6.978799</td>\n",
       "      <td>6.806111</td>\n",
       "      <td>6.629982</td>\n",
       "      <td>5.488103</td>\n",
       "      <td>31.126837</td>\n",
       "      <td>...</td>\n",
       "      <td>13.928451</td>\n",
       "      <td>9.418540</td>\n",
       "      <td>11.154407</td>\n",
       "      <td>11.441402</td>\n",
       "      <td>10.003105</td>\n",
       "      <td>11.769067</td>\n",
       "      <td>11.296991</td>\n",
       "      <td>11.140151</td>\n",
       "      <td>9.677064</td>\n",
       "      <td>11.711987</td>\n",
       "    </tr>\n",
       "    <tr>\n",
       "      <th>ENSDARG00000000019</th>\n",
       "      <td>111.574821</td>\n",
       "      <td>124.635323</td>\n",
       "      <td>133.629303</td>\n",
       "      <td>122.782967</td>\n",
       "      <td>132.583572</td>\n",
       "      <td>154.288986</td>\n",
       "      <td>153.131165</td>\n",
       "      <td>145.468079</td>\n",
       "      <td>130.540207</td>\n",
       "      <td>150.540787</td>\n",
       "      <td>...</td>\n",
       "      <td>82.607956</td>\n",
       "      <td>85.895851</td>\n",
       "      <td>86.441277</td>\n",
       "      <td>84.617149</td>\n",
       "      <td>87.631439</td>\n",
       "      <td>71.270645</td>\n",
       "      <td>76.949173</td>\n",
       "      <td>72.815437</td>\n",
       "      <td>77.683365</td>\n",
       "      <td>80.444313</td>\n",
       "    </tr>\n",
       "    <tr>\n",
       "      <th>ENSDARG00000000068</th>\n",
       "      <td>48.938435</td>\n",
       "      <td>54.039043</td>\n",
       "      <td>43.647762</td>\n",
       "      <td>44.146622</td>\n",
       "      <td>38.664574</td>\n",
       "      <td>47.618706</td>\n",
       "      <td>42.039539</td>\n",
       "      <td>59.580910</td>\n",
       "      <td>49.505104</td>\n",
       "      <td>99.220474</td>\n",
       "      <td>...</td>\n",
       "      <td>47.130775</td>\n",
       "      <td>47.723545</td>\n",
       "      <td>48.305008</td>\n",
       "      <td>42.552280</td>\n",
       "      <td>46.720215</td>\n",
       "      <td>35.423752</td>\n",
       "      <td>31.968729</td>\n",
       "      <td>34.127728</td>\n",
       "      <td>35.041656</td>\n",
       "      <td>36.358227</td>\n",
       "    </tr>\n",
       "  </tbody>\n",
       "</table>\n",
       "<p>5 rows × 84 columns</p>\n",
       "</div>"
      ],
      "text/plain": [
       "                       1cell_1     1cell_2     1cell_3     1cell_4  \\\n",
       "ENSDARG00000000001    4.051978    3.052561    2.109864    2.795590   \n",
       "ENSDARG00000000002    0.273260    0.000000    0.000000    0.421684   \n",
       "ENSDARG00000000018    3.682254    3.903807    2.398350    2.654802   \n",
       "ENSDARG00000000019  111.574821  124.635323  133.629303  122.782967   \n",
       "ENSDARG00000000068   48.938435   54.039043   43.647762   44.146622   \n",
       "\n",
       "                       1cell_5     2cell_2     2cell_3     2cell_4  \\\n",
       "ENSDARG00000000001    1.720883    5.180598    4.927223    5.027334   \n",
       "ENSDARG00000000002    0.000000    3.431821    2.770505    5.022453   \n",
       "ENSDARG00000000018    4.678908    6.978799    6.806111    6.629982   \n",
       "ENSDARG00000000019  132.583572  154.288986  153.131165  145.468079   \n",
       "ENSDARG00000000068   38.664574   47.618706   42.039539   59.580910   \n",
       "\n",
       "                       2cell_5   128cell_1  ...     4dpf_1     4dpf_2  \\\n",
       "ENSDARG00000000001    5.101963   15.595867  ...   4.172472   3.276666   \n",
       "ENSDARG00000000002    2.730927    2.624475  ...  14.846203  18.130838   \n",
       "ENSDARG00000000018    5.488103   31.126837  ...  13.928451   9.418540   \n",
       "ENSDARG00000000019  130.540207  150.540787  ...  82.607956  85.895851   \n",
       "ENSDARG00000000068   49.505104   99.220474  ...  47.130775  47.723545   \n",
       "\n",
       "                       4dpf_3     4dpf_4     4dpf_5     5dpf_1     5dpf_2  \\\n",
       "ENSDARG00000000001   3.783347   2.894171   4.005893   3.327795   3.327846   \n",
       "ENSDARG00000000002  18.304920  16.364960  14.593785  14.230783  14.521548   \n",
       "ENSDARG00000000018  11.154407  11.441402  10.003105  11.769067  11.296991   \n",
       "ENSDARG00000000019  86.441277  84.617149  87.631439  71.270645  76.949173   \n",
       "ENSDARG00000000068  48.305008  42.552280  46.720215  35.423752  31.968729   \n",
       "\n",
       "                       5dpf_3     5dpf_4     5dpf_5  \n",
       "ENSDARG00000000001   4.583900   3.072847   3.741060  \n",
       "ENSDARG00000000002  15.233061  13.637992  15.589039  \n",
       "ENSDARG00000000018  11.140151   9.677064  11.711987  \n",
       "ENSDARG00000000019  72.815437  77.683365  80.444313  \n",
       "ENSDARG00000000068  34.127728  35.041656  36.358227  \n",
       "\n",
       "[5 rows x 84 columns]"
      ]
     },
     "execution_count": 56,
     "metadata": {},
     "output_type": "execute_result"
    }
   ],
   "source": [
    "wt_TPM = pd.read_csv('expression/wt_elife_TPM.txt',sep='\\t',index_col=0)\n",
    "wt_TPM.index = [x.split('.')[0] for x in wt_TPM.index]\n",
    "wt_TPM.head()"
   ]
  },
  {
   "cell_type": "code",
   "execution_count": 57,
   "metadata": {
    "ExecuteTime": {
     "end_time": "2021-04-10T03:35:49.017044Z",
     "start_time": "2021-04-10T03:35:49.012790Z"
    }
   },
   "outputs": [],
   "source": [
    "expression_stages = [\n",
    "    '1cell', '2cell', '128cell', '1kcell', 'dome', '50epi', '6hpf', '8hpf',\n",
    "    '10.33hpf', '16hpf_somites', '19hpf_somites', '24hpf', '30hpf', '36hpf',\n",
    "    '2dpf', '3dpf', '4dpf', '5dpf'\n",
    "]\n",
    "\n",
    "stage_to_int = {stage: index for index, stage in enumerate(expression_stages)}\n"
   ]
  },
  {
   "cell_type": "code",
   "execution_count": 58,
   "metadata": {
    "ExecuteTime": {
     "end_time": "2021-04-10T03:35:56.099507Z",
     "start_time": "2021-04-10T03:35:50.354300Z"
    }
   },
   "outputs": [
    {
     "data": {
      "text/html": [
       "<div>\n",
       "<style scoped>\n",
       "    .dataframe tbody tr th:only-of-type {\n",
       "        vertical-align: middle;\n",
       "    }\n",
       "\n",
       "    .dataframe tbody tr th {\n",
       "        vertical-align: top;\n",
       "    }\n",
       "\n",
       "    .dataframe thead th {\n",
       "        text-align: right;\n",
       "    }\n",
       "</style>\n",
       "<table border=\"1\" class=\"dataframe\">\n",
       "  <thead>\n",
       "    <tr style=\"text-align: right;\">\n",
       "      <th></th>\n",
       "      <th>(50,)</th>\n",
       "      <th>(5,50]</th>\n",
       "      <th>[0,5]</th>\n",
       "    </tr>\n",
       "  </thead>\n",
       "  <tbody>\n",
       "    <tr>\n",
       "      <th>dome NBC pre-MBT target</th>\n",
       "      <td>42.0</td>\n",
       "      <td>37.0</td>\n",
       "      <td>46.0</td>\n",
       "    </tr>\n",
       "    <tr>\n",
       "      <th>dome other pre-MBT target</th>\n",
       "      <td>248.0</td>\n",
       "      <td>363.0</td>\n",
       "      <td>581.0</td>\n",
       "    </tr>\n",
       "    <tr>\n",
       "      <th>50epi NBC pre-MBT target</th>\n",
       "      <td>39.0</td>\n",
       "      <td>43.0</td>\n",
       "      <td>43.0</td>\n",
       "    </tr>\n",
       "    <tr>\n",
       "      <th>50epi other pre-MBT target</th>\n",
       "      <td>228.0</td>\n",
       "      <td>330.0</td>\n",
       "      <td>634.0</td>\n",
       "    </tr>\n",
       "  </tbody>\n",
       "</table>\n",
       "</div>"
      ],
      "text/plain": [
       "                            (50,)  (5,50]  [0,5]\n",
       "dome NBC pre-MBT target      42.0    37.0   46.0\n",
       "dome other pre-MBT target   248.0   363.0  581.0\n",
       "50epi NBC pre-MBT target     39.0    43.0   43.0\n",
       "50epi other pre-MBT target  228.0   330.0  634.0"
      ]
     },
     "execution_count": 58,
     "metadata": {},
     "output_type": "execute_result"
    }
   ],
   "source": [
    "def gen(stage):\n",
    "    for gene, row in wt_TPM.iterrows():\n",
    "\n",
    "        if gene in nanog_256_genes_in_5kb_cluster:\n",
    "            yield row.loc[[True if stage in sample else False for sample in wt_TPM.columns]].mean(), 'NBC target'\n",
    "            continue\n",
    "\n",
    "        elif gene in nanog_256_genes_in_5kb_remove_cluster:\n",
    "            yield row.loc[[True if stage in sample else False for sample in wt_TPM.columns]].mean(), 'other target'\n",
    "\n",
    "WT_TPM_dome = pd.DataFrame(gen('dome'),columns=['TPM','binding_status'])\n",
    "WT_TPM_50epi = pd.DataFrame(gen('50epi'),columns=['TPM','binding_status'])\n",
    "\n",
    "TPM_summary = pd.DataFrame(\n",
    "    np.zeros(shape=(4, 3)),\n",
    "    index=['dome NBC pre-MBT target', 'dome other pre-MBT target', '50epi NBC pre-MBT target', '50epi other pre-MBT target'],\n",
    "    columns=['(50,)', '(5,50]', '[0,5]'],\n",
    ")\n",
    "\n",
    "binding_status_index_dome = {'NBC target': 0, 'other target': 1}\n",
    "binding_status_index_50epi = {'NBC target': 2, 'other target': 3}\n",
    "\n",
    "\n",
    "for index, row in WT_TPM_dome.iterrows():\n",
    "    if row['TPM'] > 50:\n",
    "        ci = 0\n",
    "    elif row['TPM'] > 5:\n",
    "        ci = 1\n",
    "    else:\n",
    "        ci = 2\n",
    "    TPM_summary.iloc[binding_status_index_dome[row['binding_status']],ci] += 1\n",
    "    \n",
    "for index, row in WT_TPM_50epi.iterrows():\n",
    "    if row['TPM'] > 50:\n",
    "        ci = 0\n",
    "    elif row['TPM'] > 5:\n",
    "        ci = 1\n",
    "    else:\n",
    "        ci = 2\n",
    "    TPM_summary.iloc[binding_status_index_50epi[row['binding_status']],ci] += 1\n",
    "    \n",
    "TPM_summary.head()"
   ]
  },
  {
   "cell_type": "markdown",
   "metadata": {},
   "source": [
    "## stack bar plot -- Fig.S5H"
   ]
  },
  {
   "cell_type": "code",
   "execution_count": 66,
   "metadata": {
    "ExecuteTime": {
     "end_time": "2021-04-10T03:35:58.733327Z",
     "start_time": "2021-04-10T03:35:58.146965Z"
    }
   },
   "outputs": [
    {
     "data": {
      "image/png": "[encoded data removed]",
      "text/plain": [
       "<Figure size 345.6x345.6 with 1 Axes>"
      ]
     },
     "metadata": {},
     "output_type": "display_data"
    }
   ],
   "source": [
    "with sns.axes_style('whitegrid', rc={\n",
    "        'xtick.bottom': True,\n",
    "        'ytick.left': True\n",
    "}), sns.plotting_context('paper',\n",
    "                         rc={\n",
    "                             'axes.titlesize': 14,\n",
    "                             'axes.labelsize': 12,\n",
    "                             'xtick.labelsize': 10,\n",
    "                             'ytick.labelsize': 10,\n",
    "                             'legend.fontsize': 10\n",
    "                         }):\n",
    "\n",
    "    fig, ax = stack_percentage_bar(TPM_summary,\n",
    "                                   horizontal=False,\n",
    "                                   annotate='percentage')\n",
    "    fig.tight_layout()\n",
    "    fig.savefig('/mnt/Storage/home/wangyiman/fitCUTRUN/revision_1/analysis/figures/Supple_Fig5H_stackbar_NBC_taget_with_high_expresseion.pdf',\n",
    "                transparent=True)\n",
    "    "
   ]
  },
  {
   "cell_type": "code",
   "execution_count": null,
   "metadata": {},
   "outputs": [],
   "source": []
  }
 ],
 "metadata": {
  "kernelspec": {
   "display_name": "Python 3",
   "language": "python",
   "name": "python3"
  },
  "language_info": {
   "codemirror_mode": {
    "name": "ipython",
    "version": 3
   },
   "file_extension": ".py",
   "mimetype": "text/x-python",
   "name": "python",
   "nbconvert_exporter": "python",
   "pygments_lexer": "ipython3",
   "version": "3.8.5"
  },
  "toc": {
   "base_numbering": 1,
   "nav_menu": {},
   "number_sections": true,
   "sideBar": true,
   "skip_h1_title": false,
   "title_cell": "Table of Contents",
   "title_sidebar": "Contents",
   "toc_cell": false,
   "toc_position": {
    "height": "calc(100% - 180px)",
    "left": "10px",
    "top": "150px",
    "width": "384px"
   },
   "toc_section_display": true,
   "toc_window_display": true
  },
  "varInspector": {
   "cols": {
    "lenName": 16,
    "lenType": 16,
    "lenVar": 40
   },
   "kernels_config": {
    "python": {
     "delete_cmd_postfix": "",
     "delete_cmd_prefix": "del ",
     "library": "var_list.py",
     "varRefreshCmd": "print(var_dic_list())"
    },
    "r": {
     "delete_cmd_postfix": ") ",
     "delete_cmd_prefix": "rm(",
     "library": "var_list.r",
     "varRefreshCmd": "cat(var_dic_list()) "
    }
   },
   "types_to_exclude": [
    "module",
    "function",
    "builtin_function_or_method",
    "instance",
    "_Feature"
   ],
   "window_display": false
  }
 },
 "nbformat": 4,
 "nbformat_minor": 4
}
