{
 "cells": [
  {
   "cell_type": "markdown",
   "metadata": {},
   "source": [
    "# Load Modules"
   ]
  },
  {
   "cell_type": "code",
   "execution_count": 2,
   "metadata": {
    "ExecuteTime": {
     "end_time": "2021-09-10T04:15:11.742904Z",
     "start_time": "2021-09-10T04:14:56.825630Z"
    }
   },
   "outputs": [],
   "source": [
    "import numpy as np\n",
    "import pandas as pd\n",
    "import matplotlib as mpl\n",
    "mpl.rcParams['pdf.fonttype'] = 42\n",
    "mpl.rcParams['ps.fonttype'] = 42\n",
    "mpl.rcParams['font.sans-serif'] = 'Arial'\n",
    "import matplotlib.pyplot as plt\n",
    "import seaborn as sns\n",
    "from pprint import pprint\n",
    "%matplotlib inline"
   ]
  },
  {
   "cell_type": "markdown",
   "metadata": {},
   "source": [
    "# Nanog target gene expression after mutation"
   ]
  },
  {
   "cell_type": "code",
   "execution_count": 4,
   "metadata": {},
   "outputs": [],
   "source": [
    "import os\n",
    "os.chdir('/mnt/Storage/home/wangyiman/fitCUTRUN/analysis/TF/motif')"
   ]
  },
  {
   "cell_type": "code",
   "execution_count": 6,
   "metadata": {},
   "outputs": [
    {
     "data": {
      "text/html": [
       "<div>\n",
       "<style scoped>\n",
       "    .dataframe tbody tr th:only-of-type {\n",
       "        vertical-align: middle;\n",
       "    }\n",
       "\n",
       "    .dataframe tbody tr th {\n",
       "        vertical-align: top;\n",
       "    }\n",
       "\n",
       "    .dataframe thead th {\n",
       "        text-align: right;\n",
       "    }\n",
       "</style>\n",
       "<table border=\"1\" class=\"dataframe\">\n",
       "  <thead>\n",
       "    <tr style=\"text-align: right;\">\n",
       "      <th></th>\n",
       "      <th>Targets</th>\n",
       "      <th>Relative expression</th>\n",
       "      <th>Gene symbol</th>\n",
       "      <th>order</th>\n",
       "    </tr>\n",
       "  </thead>\n",
       "  <tbody>\n",
       "    <tr>\n",
       "      <th>0</th>\n",
       "      <td>chr5</td>\n",
       "      <td>1.092438</td>\n",
       "      <td>hist1h4l</td>\n",
       "      <td>6</td>\n",
       "    </tr>\n",
       "    <tr>\n",
       "      <th>1</th>\n",
       "      <td>chr5</td>\n",
       "      <td>0.925978</td>\n",
       "      <td>hist1h4l</td>\n",
       "      <td>6</td>\n",
       "    </tr>\n",
       "    <tr>\n",
       "      <th>2</th>\n",
       "      <td>chr5</td>\n",
       "      <td>1.336211</td>\n",
       "      <td>hist1h4l</td>\n",
       "      <td>6</td>\n",
       "    </tr>\n",
       "    <tr>\n",
       "      <th>3</th>\n",
       "      <td>chr15</td>\n",
       "      <td>0.493581</td>\n",
       "      <td>dharma</td>\n",
       "      <td>4</td>\n",
       "    </tr>\n",
       "    <tr>\n",
       "      <th>4</th>\n",
       "      <td>chr15</td>\n",
       "      <td>0.602828</td>\n",
       "      <td>dharma</td>\n",
       "      <td>4</td>\n",
       "    </tr>\n",
       "    <tr>\n",
       "      <th>5</th>\n",
       "      <td>chr15</td>\n",
       "      <td>0.652886</td>\n",
       "      <td>dharma</td>\n",
       "      <td>4</td>\n",
       "    </tr>\n",
       "    <tr>\n",
       "      <th>6</th>\n",
       "      <td>chr21</td>\n",
       "      <td>0.788883</td>\n",
       "      <td>fgfr4</td>\n",
       "      <td>5</td>\n",
       "    </tr>\n",
       "    <tr>\n",
       "      <th>7</th>\n",
       "      <td>chr21</td>\n",
       "      <td>0.803496</td>\n",
       "      <td>fgfr4</td>\n",
       "      <td>5</td>\n",
       "    </tr>\n",
       "    <tr>\n",
       "      <th>8</th>\n",
       "      <td>chr21</td>\n",
       "      <td>0.744158</td>\n",
       "      <td>fgfr4</td>\n",
       "      <td>5</td>\n",
       "    </tr>\n",
       "    <tr>\n",
       "      <th>9</th>\n",
       "      <td>chr18-1</td>\n",
       "      <td>1.246669</td>\n",
       "      <td>foxa3 (site1)</td>\n",
       "      <td>2</td>\n",
       "    </tr>\n",
       "    <tr>\n",
       "      <th>10</th>\n",
       "      <td>chr18-1</td>\n",
       "      <td>1.193431</td>\n",
       "      <td>foxa3 (site1)</td>\n",
       "      <td>2</td>\n",
       "    </tr>\n",
       "    <tr>\n",
       "      <th>11</th>\n",
       "      <td>chr18-1</td>\n",
       "      <td>1.074567</td>\n",
       "      <td>foxa3 (site1)</td>\n",
       "      <td>2</td>\n",
       "    </tr>\n",
       "    <tr>\n",
       "      <th>12</th>\n",
       "      <td>chr18-2</td>\n",
       "      <td>0.951266</td>\n",
       "      <td>foxa3 (site2)</td>\n",
       "      <td>3</td>\n",
       "    </tr>\n",
       "    <tr>\n",
       "      <th>13</th>\n",
       "      <td>chr18-2</td>\n",
       "      <td>1.140518</td>\n",
       "      <td>foxa3 (site2)</td>\n",
       "      <td>3</td>\n",
       "    </tr>\n",
       "    <tr>\n",
       "      <th>14</th>\n",
       "      <td>chr18-2</td>\n",
       "      <td>0.894346</td>\n",
       "      <td>foxa3 (site2)</td>\n",
       "      <td>3</td>\n",
       "    </tr>\n",
       "    <tr>\n",
       "      <th>15</th>\n",
       "      <td>chr18-1+2</td>\n",
       "      <td>0.656372</td>\n",
       "      <td>foxa3 (site1&amp;2)</td>\n",
       "      <td>1</td>\n",
       "    </tr>\n",
       "    <tr>\n",
       "      <th>16</th>\n",
       "      <td>chr18-1+2</td>\n",
       "      <td>0.778806</td>\n",
       "      <td>foxa3 (site1&amp;2)</td>\n",
       "      <td>1</td>\n",
       "    </tr>\n",
       "    <tr>\n",
       "      <th>17</th>\n",
       "      <td>chr18-1+2</td>\n",
       "      <td>0.885380</td>\n",
       "      <td>foxa3 (site1&amp;2)</td>\n",
       "      <td>1</td>\n",
       "    </tr>\n",
       "  </tbody>\n",
       "</table>\n",
       "</div>"
      ],
      "text/plain": [
       "      Targets  Relative expression      Gene symbol  order\n",
       "0        chr5             1.092438         hist1h4l      6\n",
       "1        chr5             0.925978         hist1h4l      6\n",
       "2        chr5             1.336211         hist1h4l      6\n",
       "3       chr15             0.493581           dharma      4\n",
       "4       chr15             0.602828           dharma      4\n",
       "5       chr15             0.652886           dharma      4\n",
       "6       chr21             0.788883            fgfr4      5\n",
       "7       chr21             0.803496            fgfr4      5\n",
       "8       chr21             0.744158            fgfr4      5\n",
       "9     chr18-1             1.246669    foxa3 (site1)      2\n",
       "10    chr18-1             1.193431    foxa3 (site1)      2\n",
       "11    chr18-1             1.074567    foxa3 (site1)      2\n",
       "12    chr18-2             0.951266    foxa3 (site2)      3\n",
       "13    chr18-2             1.140518    foxa3 (site2)      3\n",
       "14    chr18-2             0.894346    foxa3 (site2)      3\n",
       "15  chr18-1+2             0.656372  foxa3 (site1&2)      1\n",
       "16  chr18-1+2             0.778806  foxa3 (site1&2)      1\n",
       "17  chr18-1+2             0.885380  foxa3 (site1&2)      1"
      ]
     },
     "execution_count": 6,
     "metadata": {},
     "output_type": "execute_result"
    }
   ],
   "source": [
    "qPCR_df = pd.read_csv('mutation_genes_qPCR.txt', header = 0, sep = '\\t')\n",
    "order = []\n",
    "for i in qPCR_df['Gene symbol'] :\n",
    "    if i == 'foxa3 (site1&2)' :\n",
    "        order.append(1)\n",
    "    elif i == 'foxa3 (site1)' :\n",
    "        order.append(2)\n",
    "    elif i == 'foxa3 (site2)' :\n",
    "        order.append(3)\n",
    "    elif i == 'dharma' :\n",
    "        order.append(4)\n",
    "    elif i == 'fgfr4' :\n",
    "        order.append(5)\n",
    "    else :\n",
    "        order.append(6)\n",
    "        \n",
    "        \n",
    "qPCR_df['order'] = order\n",
    "qPCR_df"
   ]
  },
  {
   "cell_type": "code",
   "execution_count": 9,
   "metadata": {},
   "outputs": [
    {
     "data": {
      "text/plain": [
       "array(['foxa3 (site1&2)', 'foxa3 (site1)', 'foxa3 (site2)', 'dharma',\n",
       "       'fgfr4', 'hist1h4l'], dtype=object)"
      ]
     },
     "execution_count": 9,
     "metadata": {},
     "output_type": "execute_result"
    }
   ],
   "source": [
    "qPCR_df.sort_values('order')['Gene symbol'].unique()"
   ]
  },
  {
   "cell_type": "markdown",
   "metadata": {},
   "source": [
    "## bar plot -- Fig.4F"
   ]
  },
  {
   "cell_type": "code",
   "execution_count": 10,
   "metadata": {},
   "outputs": [
    {
     "data": {
      "image/png": "[encoded data removed]",
      "text/plain": [
       "<Figure size 322.56x345.6 with 1 Axes>"
      ]
     },
     "metadata": {},
     "output_type": "display_data"
    }
   ],
   "source": [
    "with sns.axes_style('whitegrid', rc={\n",
    "        'xtick.bottom': True,\n",
    "        'ytick.left': True\n",
    "}), sns.plotting_context('paper',\n",
    "                         rc={\n",
    "                             'axes.titlesize': 14,\n",
    "                             'axes.labelsize': 12,\n",
    "                             'xtick.labelsize': 8,\n",
    "                             'ytick.labelsize': 8,\n",
    "                             'legend.fontsize': 8\n",
    "                         }):\n",
    "    fig, ax = plt.subplots(figsize=(6.4 * .7, 4.8))\n",
    "    sns.barplot(\n",
    "        x='order',\n",
    "        y='Relative expression',\n",
    "        data=qPCR_df,\n",
    "        palette=['#769BB6', '#98BDD8', '#BADEEA', '#727F8D', '#E4DDC3', '#92AC93',],\n",
    "        ci='sd',\n",
    "        saturation=1,\n",
    "        capsize=.2,\n",
    "        ax=ax,\n",
    "    )\n",
    "    ax.set_xticklabels(labels=qPCR_df.sort_values('order')['Gene symbol'].unique(),\n",
    "                       rotation=45, ha = 'right')\n",
    "    ax.set_ylabel('Relative expression')\n",
    "    ax.set_xlabel('Mutated genes')\n",
    "    fig.tight_layout()\n",
    "    fig.savefig('/mnt/Storage/home/wangyiman/fitCUTRUN/revision_1/analysis/figures/Fig4F_barplot_qPCR.pdf', transparent=True)"
   ]
  },
  {
   "cell_type": "code",
   "execution_count": null,
   "metadata": {},
   "outputs": [],
   "source": []
  }
 ],
 "metadata": {
  "kernelspec": {
   "display_name": "Python 3",
   "language": "python",
   "name": "python3"
  },
  "language_info": {
   "codemirror_mode": {
    "name": "ipython",
    "version": 3
   },
   "file_extension": ".py",
   "mimetype": "text/x-python",
   "name": "python",
   "nbconvert_exporter": "python",
   "pygments_lexer": "ipython3",
   "version": "3.8.5"
  }
 },
 "nbformat": 4,
 "nbformat_minor": 4
}
