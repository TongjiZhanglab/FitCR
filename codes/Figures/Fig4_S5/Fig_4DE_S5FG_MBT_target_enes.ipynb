{
 "cells": [
  {
   "cell_type": "markdown",
   "metadata": {},
   "source": [
    "# Load Modules"
   ]
  },
  {
   "cell_type": "code",
   "execution_count": 1,
   "metadata": {
    "ExecuteTime": {
     "end_time": "2021-04-10T03:33:37.058175Z",
     "start_time": "2021-04-10T03:33:36.203450Z"
    }
   },
   "outputs": [],
   "source": [
    "import numpy as np\n",
    "import pandas as pd\n",
    "import matplotlib as mpl\n",
    "mpl.rcParams['pdf.fonttype'] = 42\n",
    "mpl.rcParams['ps.fonttype'] = 42\n",
    "mpl.rcParams['font.sans-serif'] = 'Arial'\n",
    "import matplotlib.pyplot as plt\n",
    "import seaborn as sns\n",
    "from pprint import pprint\n",
    "%matplotlib inline"
   ]
  },
  {
   "cell_type": "markdown",
   "metadata": {},
   "source": [
    "## load data function"
   ]
  },
  {
   "cell_type": "code",
   "execution_count": 2,
   "metadata": {
    "ExecuteTime": {
     "end_time": "2021-04-10T03:33:37.080505Z",
     "start_time": "2021-04-10T03:33:37.070362Z"
    }
   },
   "outputs": [],
   "source": [
    "def load_data(file_pairs,src_dir='',dst_dir='.'):\n",
    "    import os\n",
    "    if not os.path.isdir(dst_dir):\n",
    "        os.mkdir(dst_dir)\n",
    "    for file_pair in file_pairs:\n",
    "        src = os.path.abspath(os.path.expanduser(os.path.join(src_dir,file_pair[0])))\n",
    "        dst = os.path.expanduser(os.path.join(dst_dir,file_pair[1]))\n",
    "        if os.path.isfile(dst):\n",
    "            os.remove(dst)\n",
    "        if not os.path.islink(dst):\n",
    "            os.symlink(src,dst)\n",
    "\n",
    "def load_data_suffixes(file_pairs, src_dir='', dst_dir='.', suffixes=None):\n",
    "    import os\n",
    "    if not os.path.isdir(dst_dir):\n",
    "        os.mkdir(dst_dir)\n",
    "    if not suffixes:\n",
    "        for file_pair in file_pairs:\n",
    "            src = os.path.abspath(os.path.expanduser(os.path.join(src_dir, file_pair[0])))\n",
    "            dst = os.path.expanduser(os.path.join(dst_dir, file_pair[1]))\n",
    "            if os.path.isfile(dst):\n",
    "                os.remove(dst)\n",
    "            if not os.path.islink(dst):\n",
    "                os.symlink(src, dst)\n",
    "    else:\n",
    "        for file_pair in file_pairs:\n",
    "            for suffix_pair in suffixes:\n",
    "                src = os.path.abspath(os.path.expanduser(\n",
    "                    os.path.join(src_dir, file_pair[0] + suffix_pair[0])))\n",
    "                dst = os.path.expanduser(\n",
    "                    os.path.join(dst_dir, file_pair[1] + suffix_pair[1]))\n",
    "                if os.path.isfile(dst):\n",
    "                    os.remove(dst)\n",
    "                if not os.path.islink(dst):\n",
    "                    os.symlink(src, dst)"
   ]
  },
  {
   "cell_type": "markdown",
   "metadata": {},
   "source": [
    "# Load data"
   ]
  },
  {
   "cell_type": "code",
   "execution_count": 3,
   "metadata": {},
   "outputs": [],
   "source": [
    "import os\n",
    "os.chdir('/mnt/Storage/home/wangyiman/fitCUTRUN/revision_1/analysis/TF/comparison')"
   ]
  },
  {
   "cell_type": "markdown",
   "metadata": {},
   "source": [
    "## TF"
   ]
  },
  {
   "cell_type": "code",
   "execution_count": 4,
   "metadata": {},
   "outputs": [
    {
     "name": "stdout",
     "output_type": "stream",
     "text": [
      "Nanog_1k_excludeIgG_filtered_peaks.narrowPeak\n",
      "Nanog_256_excludeIgG_filtered_peaks.narrowPeak\n",
      "Nanog_ChIP_filtered_peaks.narrowPeak\n",
      "Nanog_dome_excludeIgG_filtered_peaks.narrowPeak\n",
      "Pou5f3_ChIP_filtered_peaks.narrowPeak\n",
      "Pou5f3_dome_excludeIgG_filtered_peaks.narrowPeak\n",
      "Sox19b_ChIP_filtered_peaks.narrowPeak\n",
      "Sox19b_dome_excludeIgG_filtered_peaks.narrowPeak\n"
     ]
    }
   ],
   "source": [
    "%%bash\n",
    "ls *Peak"
   ]
  },
  {
   "cell_type": "code",
   "execution_count": 5,
   "metadata": {},
   "outputs": [
    {
     "name": "stdout",
     "output_type": "stream",
     "text": [
      "Nanog_1k_excludeIgG_filtered_summits_annotation.txt\n",
      "Nanog_256_excludeIgG_filtered_summits_annotation.txt\n",
      "Nanog_dome_20E_filtered_summits_annotation.txt\n",
      "Nanog_dome_excludeIgG_filtered_summits_annotation.txt\n",
      "Pou5f3_dome_excludeIgG_filtered_summits_annotation.txt\n",
      "Sox19b_dome_excludeIgG_filtered_summits_annotation.txt\n"
     ]
    }
   ],
   "source": [
    "%%bash\n",
    "cd peak_annotation\n",
    "ls *.txt"
   ]
  },
  {
   "cell_type": "code",
   "execution_count": 6,
   "metadata": {
    "ExecuteTime": {
     "end_time": "2021-04-10T03:33:37.972179Z",
     "start_time": "2021-04-10T03:33:37.963147Z"
    }
   },
   "outputs": [],
   "source": [
    "file_pairs = [\n",
    "              ['Nanog_256.bw', 'Nanog_256.bw'],\n",
    "              ['Nanog_1k.bw', 'Nanog_1k.bw'],\n",
    "              ['Nanog_dome.bw', 'Nanog_dome.bw']\n",
    "]\n",
    "load_data(file_pairs, src_dir='/mnt/Storage/home/wangwen/project/fitCR/analysis/sampling_down/', dst_dir='bigWig')"
   ]
  },
  {
   "cell_type": "code",
   "execution_count": 7,
   "metadata": {
    "ExecuteTime": {
     "end_time": "2021-04-10T03:33:38.380219Z",
     "start_time": "2021-04-10T03:33:38.367779Z"
    }
   },
   "outputs": [],
   "source": [
    "file_pairs = [\n",
    "    ['Nanog_256_rep1_OCR_fragments.bed', 'Nanog_256_rep1_OCR_fragments.bed'],\n",
    "    ['Nanog_256_rep2_OCR_fragments.bed', 'Nanog_256_rep2_OCR_fragments.bed'],\n",
    "    ['Nanog_256_rep3_OCR_fragments.bed', 'Nanog_256_rep3_OCR_fragments.bed'],\n",
    "    ['Nanog_1k_rep1_OCR_fragments.bed', 'Nanog_1k_rep1_OCR_fragments.bed'],\n",
    "    ['Nanog_1k_rep2_OCR_fragments.bed', 'Nanog_1k_rep2_OCR_fragments.bed'],\n",
    "    ['Nanog_1k_rep3_OCR_fragments.bed', 'Nanog_1k_rep3_OCR_fragments.bed'],\n",
    "    ['Nanog_dome_rep1_OCR_fragments.bed', 'Nanog_dome_rep1_OCR_fragments.bed'],\n",
    "    ['Nanog_dome_rep2_OCR_fragments.bed', 'Nanog_dome_rep2_OCR_fragments.bed'],\n",
    "    ['Nanog_dome_rep3_OCR_fragments.bed', 'Nanog_dome_rep3_OCR_fragments.bed'],\n",
    "    ['Nanog_256_rep1.bw', 'Nanog_256_rep1.bw'],\n",
    "    ['Nanog_256_rep2.bw', 'Nanog_256_rep2.bw'],\n",
    "    ['Nanog_256_rep3.bw', 'Nanog_256_rep3.bw'],\n",
    "    ['Nanog_1k_rep1.bw', 'Nanog_1k_rep1.bw'],\n",
    "    ['Nanog_1k_rep2.bw', 'Nanog_1k_rep2.bw'],\n",
    "    ['Nanog_1k_rep3.bw', 'Nanog_1k_rep3.bw'],\n",
    "    ['Nanog_dome_rep1.bw', 'Nanog_dome_rep1.bw'],\n",
    "    ['Nanog_dome_rep2.bw', 'Nanog_dome_rep2.bw'],\n",
    "    ['Nanog_dome_rep3.bw', 'Nanog_dome_rep3.bw'],\n",
    "    ['Pou5f3_dome_rep1.bw', 'Pou5f3_dome_rep1.bw'],\n",
    "    ['Pou5f3_dome_rep2.bw', 'Pou5f3_dome_rep2.bw'],\n",
    "    ['Pou5f3_dome_rep3.bw', 'Pou5f3_dome_rep3.bw'],\n",
    "    ['Sox19b_dome_rep1.bw', 'Sox19b_dome_rep1.bw'],\n",
    "    ['Sox19b_dome_rep2.bw', 'Sox19b_dome_rep2.bw'],\n",
    "    ['Sox19b_dome_rep3.bw', 'Sox19b_dome_rep3.bw']\n",
    "]\n",
    "load_data(file_pairs, src_dir='~wangwen/inhouse_data/danRer11_2/CUT_RUN_TF/2_signal/', dst_dir='/mnt/Storage/home/wangyiman/fitCUTRUN/revision_1/analysis/TF/replicates')\n",
    "\n",
    "file_pairs = [\n",
    "    ['Nanog_256_rep1_summits.bed', 'Nanog_256_rep1_summits.bed'],\n",
    "    ['Nanog_256_rep2_summits.bed', 'Nanog_256_rep2_summits.bed'],\n",
    "    ['Nanog_256_rep3_summits.bed', 'Nanog_256_rep3_summits.bed'],\n",
    "    ['Nanog_1k_rep1_summits.bed', 'Nanog_1k_rep1_summits.bed'],\n",
    "    ['Nanog_1k_rep2_summits.bed', 'Nanog_1k_rep2_summits.bed'],\n",
    "    ['Nanog_1k_rep3_summits.bed', 'Nanog_1k_rep3_summits.bed'],\n",
    "    ['Nanog_dome_rep1_summits.bed', 'Nanog_dome_rep1_summits.bed'],\n",
    "    ['Nanog_dome_rep2_summits.bed', 'Nanog_dome_rep2_summits.bed'],\n",
    "    ['Nanog_dome_rep3_summits.bed', 'Nanog_dome_rep3_summits.bed'],\n",
    "    ['Nanog_256_rep1_peaks.narrowPeak', 'Nanog_256_rep1_peaks.narrowPeak'],\n",
    "    ['Nanog_256_rep2_peaks.narrowPeak', 'Nanog_256_rep2_peaks.narrowPeak'],\n",
    "    ['Nanog_256_rep3_peaks.narrowPeak', 'Nanog_256_rep3_peaks.narrowPeak'],\n",
    "    ['Nanog_1k_rep1_peaks.narrowPeak', 'Nanog_1k_rep1_peaks.narrowPeak'],\n",
    "    ['Nanog_1k_rep2_peaks.narrowPeak', 'Nanog_1k_rep2_peaks.narrowPeak'],\n",
    "    ['Nanog_1k_rep3_peaks.narrowPeak', 'Nanog_1k_rep3_peaks.narrowPeak'],\n",
    "    ['Nanog_dome_rep1_peaks.narrowPeak', 'Nanog_dome_rep1_peaks.narrowPeak'],\n",
    "    ['Nanog_dome_rep2_peaks.narrowPeak', 'Nanog_dome_rep2_peaks.narrowPeak'],\n",
    "    ['Nanog_dome_rep3_peaks.narrowPeak', 'Nanog_dome_rep3_peaks.narrowPeak'],\n",
    "]\n",
    "load_data(file_pairs, src_dir='~wangwen/inhouse_data/danRer11_2/CUT_RUN_TF/3_peak/', dst_dir='/mnt/Storage/home/wangyiman/fitCUTRUN/revision_1/analysis/TF/replicates')"
   ]
  },
  {
   "cell_type": "markdown",
   "metadata": {},
   "source": [
    "## ATAC-seq"
   ]
  },
  {
   "cell_type": "code",
   "execution_count": 8,
   "metadata": {},
   "outputs": [
    {
     "name": "stdout",
     "output_type": "stream",
     "text": [
      "atac_ko_nanog_oblong.bw\n",
      "atac_MO_control_GR2018.bw\n",
      "atac_MO_nanog_GR2018.bw\n",
      "atac_MO_nanog_rescue_GR2018.bw\n",
      "atac_wt_1k_GR2018.bw\n",
      "atac_wt_1k_rep1.bb\n",
      "atac_wt_1k_rep1.bw\n",
      "atac_wt_1k_rep2.bb\n",
      "atac_wt_1k_rep2.bw\n",
      "atac_wt_1k_rep3.bb\n",
      "atac_wt_1k_rep3.bw\n",
      "atac_wt_24hpf.bw\n",
      "atac_wt_256_GR2018.bw\n",
      "atac_wt_oblong.bw\n",
      "atac_wt_oblong_GR2018.bw\n"
     ]
    }
   ],
   "source": [
    "%%bash\n",
    "ls atat_signal/"
   ]
  },
  {
   "cell_type": "code",
   "execution_count": 9,
   "metadata": {
    "ExecuteTime": {
     "end_time": "2021-04-10T03:33:40.080323Z",
     "start_time": "2021-04-10T03:33:40.074505Z"
    }
   },
   "outputs": [],
   "source": [
    "file_pairs = [\n",
    "    ['atac_wt_1k_GR2018_rep1_uniq_OCR_SE_reads.bw', 'atac_wt_1k_rep1.bw'],\n",
    "    ['atac_wt_1k_GR2018_rep2_uniq_OCR_SE_reads.bw', 'atac_wt_1k_rep2.bw'],\n",
    "    ['atac_wt_1k_GR2018_rep3_uniq_OCR_SE_reads.bw', 'atac_wt_1k_rep3.bw'],\n",
    "    ['atac_wt_1k_GR2018_rep1_uniq_OCR_SE_reads.bb', 'atac_wt_1k_rep1.bb'],\n",
    "    ['atac_wt_1k_GR2018_rep2_uniq_OCR_SE_reads.bb', 'atac_wt_1k_rep2.bb'],\n",
    "    ['atac_wt_1k_GR2018_rep3_uniq_OCR_SE_reads.bb', 'atac_wt_1k_rep3.bb']\n",
    "]\n",
    "load_data(file_pairs, src_dir='~wangwen/public_data/danRer11_2/ATAC/2_signal/OCR', dst_dir='atat_signal/')"
   ]
  },
  {
   "cell_type": "markdown",
   "metadata": {},
   "source": [
    "## expression"
   ]
  },
  {
   "cell_type": "code",
   "execution_count": 10,
   "metadata": {
    "ExecuteTime": {
     "end_time": "2021-04-10T03:33:42.335206Z",
     "start_time": "2021-04-10T03:33:42.330325Z"
    }
   },
   "outputs": [],
   "source": [
    "file_pairs = [\n",
    "    ['wt_elife_TPM.txt', 'wt_elife_TPM.txt'],\n",
    "    ['wt_embryo_TPM.txt', 'wt_embryo_TPM.txt'],\n",
    "]\n",
    "load_data(file_pairs, src_dir='/mnt/Storage/home/wangwen/project/fitCR/source/expression', dst_dir='expression/')"
   ]
  },
  {
   "cell_type": "markdown",
   "metadata": {},
   "source": [
    "# Basic dynamic settings"
   ]
  },
  {
   "cell_type": "code",
   "execution_count": 11,
   "metadata": {
    "ExecuteTime": {
     "end_time": "2021-04-10T03:33:45.164456Z",
     "start_time": "2021-04-10T03:33:44.732970Z"
    }
   },
   "outputs": [
    {
     "data": {
      "text/plain": [
       "[('ENSDART00000164359.1', 'ENSDARG00000099104.1'),\n",
       " ('ENSDART00000158290.1', 'ENSDARG00000099104.1'),\n",
       " ('ENSDART00000157701.1', 'ENSDARG00000099104.1'),\n",
       " ('ENSDART00000167898.1', 'ENSDARG00000099104.1'),\n",
       " ('ENSDART00000166393.1', 'ENSDARG00000102407.2')]"
      ]
     },
     "execution_count": 11,
     "metadata": {},
     "output_type": "execute_result"
    }
   ],
   "source": [
    "import os\n",
    "danRer11_2_transcript_to_gene = {}\n",
    "\n",
    "with open(os.path.expanduser('~wangwen/source/bySpecies/danRer11_2/danRer11_2.ensGene.genePredExt')) as fhd:\n",
    "    for line in fhd:\n",
    "        line = line.strip().split()\n",
    "        danRer11_2_transcript_to_gene[line[0]]= line[11]\n",
    "\n",
    "list(danRer11_2_transcript_to_gene.items())[:5]"
   ]
  },
  {
   "cell_type": "markdown",
   "metadata": {},
   "source": [
    "# set tss range"
   ]
  },
  {
   "cell_type": "code",
   "execution_count": 45,
   "metadata": {},
   "outputs": [],
   "source": [
    "tss = '5k'"
   ]
  },
  {
   "cell_type": "code",
   "execution_count": 48,
   "metadata": {
    "ExecuteTime": {
     "end_time": "2021-04-10T03:33:49.014962Z",
     "start_time": "2021-04-10T03:33:48.870650Z"
    }
   },
   "outputs": [],
   "source": [
    "nanog_256_genes, nanog_1k_genes, nanog_dome_genes = set(), set(), set()\n",
    "with open(f'tss_inNanog_{tss}b/danRer11_tss_in_Nanog_256_{tss}b.bed') as fhd:\n",
    "    for line in fhd:\n",
    "        line = line.strip().split()\n",
    "        try:\n",
    "            nanog_256_genes.add(danRer11_2_transcript_to_gene[line[3]].split('.')[0])\n",
    "        except KeyError:\n",
    "            pass\n",
    "\n",
    "with open(f'tss_inNanog_{tss}b/danRer11_tss_in_Nanog_1k_{tss}b.bed') as fhd:\n",
    "    for line in fhd:\n",
    "        line = line.strip().split()\n",
    "        try:\n",
    "            nanog_1k_genes.add(danRer11_2_transcript_to_gene[line[3]].split('.')[0])\n",
    "        except KeyError:\n",
    "            pass\n",
    "\n",
    "with open(f'tss_inNanog_{tss}b/danRer11_tss_in_Nanog_dome_{tss}b.bed') as fhd:\n",
    "    for line in fhd:\n",
    "        line = line.strip().split()\n",
    "        try:\n",
    "            nanog_dome_genes.add(danRer11_2_transcript_to_gene[line[3]].split('.')[0])\n",
    "        except KeyError:\n",
    "            pass"
   ]
  },
  {
   "cell_type": "code",
   "execution_count": 49,
   "metadata": {
    "ExecuteTime": {
     "end_time": "2021-04-10T03:33:49.454778Z",
     "start_time": "2021-04-10T03:33:49.448522Z"
    }
   },
   "outputs": [],
   "source": [
    "nanog_1k_new_genes = nanog_1k_genes - nanog_256_genes\n",
    "nanog_dome_new_genes = nanog_dome_genes - nanog_1k_genes - nanog_256_genes"
   ]
  },
  {
   "cell_type": "markdown",
   "metadata": {},
   "source": [
    "# first wave genes (nature 2013)\n",
    "- target genes definition: TSS within 5kb/10kb of peak summits\n",
    "- 256/1k new/dome new/non target"
   ]
  },
  {
   "cell_type": "code",
   "execution_count": 50,
   "metadata": {
    "ExecuteTime": {
     "end_time": "2021-04-10T03:33:56.150442Z",
     "start_time": "2021-04-10T03:33:55.789667Z"
    }
   },
   "outputs": [
    {
     "data": {
      "text/html": [
       "<div>\n",
       "<style scoped>\n",
       "    .dataframe tbody tr th:only-of-type {\n",
       "        vertical-align: middle;\n",
       "    }\n",
       "\n",
       "    .dataframe tbody tr th {\n",
       "        vertical-align: top;\n",
       "    }\n",
       "\n",
       "    .dataframe thead th {\n",
       "        text-align: right;\n",
       "    }\n",
       "</style>\n",
       "<table border=\"1\" class=\"dataframe\">\n",
       "  <thead>\n",
       "    <tr style=\"text-align: right;\">\n",
       "      <th></th>\n",
       "      <th>Gene_id</th>\n",
       "      <th>Symbol</th>\n",
       "      <th>Description</th>\n",
       "      <th>Adult_tissue_count</th>\n",
       "      <th>Meta_gene</th>\n",
       "      <th>Maternal_contr</th>\n",
       "      <th>Exon_length</th>\n",
       "      <th>Masked_intron_length</th>\n",
       "      <th>WT4_exon_rpkm</th>\n",
       "      <th>WT4_intron_rpkm</th>\n",
       "      <th>...</th>\n",
       "      <th>NS4_down</th>\n",
       "      <th>P4_down</th>\n",
       "      <th>PN4_down</th>\n",
       "      <th>PS4_down</th>\n",
       "      <th>PNS4_down</th>\n",
       "      <th>N6_down</th>\n",
       "      <th>NS6_down</th>\n",
       "      <th>P6_down</th>\n",
       "      <th>PS6_down</th>\n",
       "      <th>PNS6_down</th>\n",
       "    </tr>\n",
       "  </thead>\n",
       "  <tbody>\n",
       "    <tr>\n",
       "      <th>0</th>\n",
       "      <td>ENSDARG00000000001</td>\n",
       "      <td>slc35a5</td>\n",
       "      <td>solute carrier family 35, member A5</td>\n",
       "      <td>NaN</td>\n",
       "      <td>.</td>\n",
       "      <td>M</td>\n",
       "      <td>2478</td>\n",
       "      <td>4255</td>\n",
       "      <td>8.914</td>\n",
       "      <td>1.404</td>\n",
       "      <td>...</td>\n",
       "      <td>.</td>\n",
       "      <td>.</td>\n",
       "      <td>.</td>\n",
       "      <td>.</td>\n",
       "      <td>.</td>\n",
       "      <td>.</td>\n",
       "      <td>.</td>\n",
       "      <td>.</td>\n",
       "      <td>.</td>\n",
       "      <td>.</td>\n",
       "    </tr>\n",
       "    <tr>\n",
       "      <th>1</th>\n",
       "      <td>ENSDARG00000000002</td>\n",
       "      <td>ccdc80</td>\n",
       "      <td>coiled-coil domain containing 80</td>\n",
       "      <td>NaN</td>\n",
       "      <td>.</td>\n",
       "      <td>Z</td>\n",
       "      <td>3175</td>\n",
       "      <td>12250</td>\n",
       "      <td>0.232</td>\n",
       "      <td>0.000</td>\n",
       "      <td>...</td>\n",
       "      <td>NaN</td>\n",
       "      <td>NaN</td>\n",
       "      <td>NaN</td>\n",
       "      <td>NaN</td>\n",
       "      <td>NaN</td>\n",
       "      <td>NaN</td>\n",
       "      <td>NaN</td>\n",
       "      <td>NaN</td>\n",
       "      <td>NaN</td>\n",
       "      <td>NaN</td>\n",
       "    </tr>\n",
       "    <tr>\n",
       "      <th>2</th>\n",
       "      <td>ENSDARG00000000018</td>\n",
       "      <td>nrf1</td>\n",
       "      <td>nuclear respiratory factor 1</td>\n",
       "      <td>8.0</td>\n",
       "      <td>.</td>\n",
       "      <td>M</td>\n",
       "      <td>3074</td>\n",
       "      <td>13354</td>\n",
       "      <td>77.050</td>\n",
       "      <td>0.196</td>\n",
       "      <td>...</td>\n",
       "      <td>.</td>\n",
       "      <td>.</td>\n",
       "      <td>.</td>\n",
       "      <td>.</td>\n",
       "      <td>.</td>\n",
       "      <td>X</td>\n",
       "      <td>X</td>\n",
       "      <td>.</td>\n",
       "      <td>.</td>\n",
       "      <td>X</td>\n",
       "    </tr>\n",
       "    <tr>\n",
       "      <th>3</th>\n",
       "      <td>ENSDARG00000000019</td>\n",
       "      <td>ube2h</td>\n",
       "      <td>ubiquitin-conjugating enzyme E2H (UBC8 homolog...</td>\n",
       "      <td>8.0</td>\n",
       "      <td>.</td>\n",
       "      <td>M</td>\n",
       "      <td>3659</td>\n",
       "      <td>27485</td>\n",
       "      <td>37.676</td>\n",
       "      <td>0.217</td>\n",
       "      <td>...</td>\n",
       "      <td>.</td>\n",
       "      <td>.</td>\n",
       "      <td>.</td>\n",
       "      <td>.</td>\n",
       "      <td>.</td>\n",
       "      <td>X</td>\n",
       "      <td>X</td>\n",
       "      <td>.</td>\n",
       "      <td>.</td>\n",
       "      <td>X</td>\n",
       "    </tr>\n",
       "    <tr>\n",
       "      <th>4</th>\n",
       "      <td>ENSDARG00000000068</td>\n",
       "      <td>slc9a3r1</td>\n",
       "      <td>solute carrier family 9 (sodium/hydrogen excha...</td>\n",
       "      <td>8.0</td>\n",
       "      <td>.</td>\n",
       "      <td>M</td>\n",
       "      <td>2458</td>\n",
       "      <td>25261</td>\n",
       "      <td>31.587</td>\n",
       "      <td>0.003</td>\n",
       "      <td>...</td>\n",
       "      <td>.</td>\n",
       "      <td>.</td>\n",
       "      <td>.</td>\n",
       "      <td>.</td>\n",
       "      <td>.</td>\n",
       "      <td>.</td>\n",
       "      <td>.</td>\n",
       "      <td>.</td>\n",
       "      <td>.</td>\n",
       "      <td>.</td>\n",
       "    </tr>\n",
       "  </tbody>\n",
       "</table>\n",
       "<p>5 rows × 34 columns</p>\n",
       "</div>"
      ],
      "text/plain": [
       "              Gene_id    Symbol  \\\n",
       "0  ENSDARG00000000001   slc35a5   \n",
       "1  ENSDARG00000000002    ccdc80   \n",
       "2  ENSDARG00000000018      nrf1   \n",
       "3  ENSDARG00000000019     ube2h   \n",
       "4  ENSDARG00000000068  slc9a3r1   \n",
       "\n",
       "                                         Description  Adult_tissue_count  \\\n",
       "0               solute carrier family 35, member A5                  NaN   \n",
       "1                  coiled-coil domain containing 80                  NaN   \n",
       "2                      nuclear respiratory factor 1                  8.0   \n",
       "3  ubiquitin-conjugating enzyme E2H (UBC8 homolog...                 8.0   \n",
       "4  solute carrier family 9 (sodium/hydrogen excha...                 8.0   \n",
       "\n",
       "  Meta_gene Maternal_contr  Exon_length  Masked_intron_length  WT4_exon_rpkm  \\\n",
       "0         .              M         2478                  4255          8.914   \n",
       "1         .              Z         3175                 12250          0.232   \n",
       "2         .              M         3074                 13354         77.050   \n",
       "3         .              M         3659                 27485         37.676   \n",
       "4         .              M         2458                 25261         31.587   \n",
       "\n",
       "   WT4_intron_rpkm  ...  NS4_down  P4_down  PN4_down  PS4_down  PNS4_down  \\\n",
       "0            1.404  ...         .        .         .         .          .   \n",
       "1            0.000  ...       NaN      NaN       NaN       NaN        NaN   \n",
       "2            0.196  ...         .        .         .         .          .   \n",
       "3            0.217  ...         .        .         .         .          .   \n",
       "4            0.003  ...         .        .         .         .          .   \n",
       "\n",
       "   N6_down  NS6_down P6_down PS6_down PNS6_down  \n",
       "0        .         .       .        .         .  \n",
       "1      NaN       NaN     NaN      NaN       NaN  \n",
       "2        X         X       .        .         X  \n",
       "3        X         X       .        .         X  \n",
       "4        .         .       .        .         .  \n",
       "\n",
       "[5 rows x 34 columns]"
      ]
     },
     "execution_count": 50,
     "metadata": {},
     "output_type": "execute_result"
    }
   ],
   "source": [
    "nature_2013_genes = pd.read_csv(\n",
    "    '/mnt/Storage/home/wangwen/project/fitCR/source/nature_2013_nature12632/41586_2013_BFnature12632_MOESM30_ESM.txt',\n",
    "    skiprows=23,sep='\\t')\n",
    "nature_2013_genes.head()"
   ]
  },
  {
   "cell_type": "code",
   "execution_count": 51,
   "metadata": {
    "ExecuteTime": {
     "end_time": "2021-04-10T03:34:00.391121Z",
     "start_time": "2021-04-10T03:33:58.384647Z"
    }
   },
   "outputs": [
    {
     "name": "stdout",
     "output_type": "stream",
     "text": [
      "269\n"
     ]
    }
   ],
   "source": [
    "first_wave_genes = set()\n",
    "for index, row in nature_2013_genes.iterrows():\n",
    "    if row['First_wave_5rpkm'] == 'X':\n",
    "        first_wave_genes.add(row['Gene_id'])\n",
    "print(len(first_wave_genes))\n"
   ]
  },
  {
   "cell_type": "code",
   "execution_count": 52,
   "metadata": {
    "ExecuteTime": {
     "end_time": "2021-04-10T03:34:00.605894Z",
     "start_time": "2021-04-10T03:34:00.560268Z"
    }
   },
   "outputs": [
    {
     "name": "stdout",
     "output_type": "stream",
     "text": [
      "196\n"
     ]
    }
   ],
   "source": [
    "first_wave_genes_danRer11_2 = first_wave_genes & set(\n",
    "    [x.split('.')[0] for x in danRer11_2_transcript_to_gene.values()])\n",
    "print(len(first_wave_genes_danRer11_2))\n"
   ]
  },
  {
   "cell_type": "code",
   "execution_count": 53,
   "metadata": {
    "ExecuteTime": {
     "end_time": "2021-04-10T03:34:00.732851Z",
     "start_time": "2021-04-10T03:34:00.729718Z"
    }
   },
   "outputs": [],
   "source": [
    "with open('first_wave_genes/first_wave_genes_danRer11_2.txt', 'w') as fhd:\n",
    "    for g in first_wave_genes_danRer11_2:\n",
    "        fhd.write(g+'\\n')\n"
   ]
  },
  {
   "cell_type": "markdown",
   "metadata": {},
   "source": [
    "## target by dynamic binding"
   ]
  },
  {
   "cell_type": "code",
   "execution_count": 91,
   "metadata": {
    "ExecuteTime": {
     "end_time": "2021-04-10T03:34:01.503469Z",
     "start_time": "2021-04-10T03:34:01.499410Z"
    }
   },
   "outputs": [
    {
     "name": "stdout",
     "output_type": "stream",
     "text": [
      "0.37755102040816324\n",
      "0.1836734693877551\n",
      "0.2193877551020408\n"
     ]
    }
   ],
   "source": [
    "print(len(first_wave_genes_danRer11_2 & nanog_256_genes) / len(first_wave_genes_danRer11_2))\n",
    "print(len(first_wave_genes_danRer11_2 & nanog_1k_new_genes) / len(first_wave_genes_danRer11_2))\n",
    "print(len(first_wave_genes_danRer11_2 & nanog_dome_new_genes) / len(first_wave_genes_danRer11_2))\n",
    "\n"
   ]
  },
  {
   "cell_type": "markdown",
   "metadata": {},
   "source": [
    "## expression status under MO"
   ]
  },
  {
   "cell_type": "code",
   "execution_count": 55,
   "metadata": {
    "ExecuteTime": {
     "end_time": "2021-04-10T03:34:06.243374Z",
     "start_time": "2021-04-10T03:34:03.978281Z"
    }
   },
   "outputs": [
    {
     "data": {
      "text/html": [
       "<div>\n",
       "<style scoped>\n",
       "    .dataframe tbody tr th:only-of-type {\n",
       "        vertical-align: middle;\n",
       "    }\n",
       "\n",
       "    .dataframe tbody tr th {\n",
       "        vertical-align: top;\n",
       "    }\n",
       "\n",
       "    .dataframe thead th {\n",
       "        text-align: right;\n",
       "    }\n",
       "</style>\n",
       "<table border=\"1\" class=\"dataframe\">\n",
       "  <thead>\n",
       "    <tr style=\"text-align: right;\">\n",
       "      <th></th>\n",
       "      <th>percentage</th>\n",
       "      <th>stage</th>\n",
       "      <th>target_status</th>\n",
       "    </tr>\n",
       "  </thead>\n",
       "  <tbody>\n",
       "    <tr>\n",
       "      <th>0</th>\n",
       "      <td>54.054054</td>\n",
       "      <td>4hpf</td>\n",
       "      <td>256-cell</td>\n",
       "    </tr>\n",
       "    <tr>\n",
       "      <th>1</th>\n",
       "      <td>36.111111</td>\n",
       "      <td>4hpf</td>\n",
       "      <td>1k-cell new</td>\n",
       "    </tr>\n",
       "    <tr>\n",
       "      <th>2</th>\n",
       "      <td>16.279070</td>\n",
       "      <td>4hpf</td>\n",
       "      <td>dome new</td>\n",
       "    </tr>\n",
       "    <tr>\n",
       "      <th>3</th>\n",
       "      <td>13.953488</td>\n",
       "      <td>4hpf</td>\n",
       "      <td>non-target</td>\n",
       "    </tr>\n",
       "    <tr>\n",
       "      <th>4</th>\n",
       "      <td>68.918919</td>\n",
       "      <td>6hpf</td>\n",
       "      <td>256-cell</td>\n",
       "    </tr>\n",
       "  </tbody>\n",
       "</table>\n",
       "</div>"
      ],
      "text/plain": [
       "   percentage stage target_status\n",
       "0   54.054054  4hpf      256-cell\n",
       "1   36.111111  4hpf   1k-cell new\n",
       "2   16.279070  4hpf      dome new\n",
       "3   13.953488  4hpf    non-target\n",
       "4   68.918919  6hpf      256-cell"
      ]
     },
     "execution_count": 55,
     "metadata": {},
     "output_type": "execute_result"
    }
   ],
   "source": [
    "\n",
    "total = pd.DataFrame(np.zeros((2,4)),index=['4hpf','6hpf'],columns=['256-cell','1k-cell new','dome new','non-target'])\n",
    "down_regulated = pd.DataFrame(np.zeros((2,4)),index=['4hpf','6hpf'],columns=['256-cell','1k-cell new','dome new','non-target'])\n",
    "for index, row in nature_2013_genes.iterrows():\n",
    "    if row['Gene_id'] in first_wave_genes_danRer11_2:\n",
    "        if row['Gene_id'] in nanog_256_genes:\n",
    "            ci = 0\n",
    "        elif row['Gene_id'] in nanog_1k_genes:\n",
    "            ci = 1\n",
    "        elif row['Gene_id'] in nanog_dome_genes:\n",
    "            ci = 2\n",
    "        else:\n",
    "            ci = 3\n",
    "        total.iloc[0,ci] += 1\n",
    "        total.iloc[1,ci] += 1\n",
    "        if row['N4_down'] == 'X':\n",
    "            down_regulated.iloc[0,ci] += 1\n",
    "        if row['N6_down'] == 'X':\n",
    "            down_regulated.iloc[1,ci] += 1\n",
    "\n",
    "\n",
    "def gen():\n",
    "    for ri, stage in enumerate(['4hpf','6hpf']):\n",
    "        for ci, target_status in enumerate(['256-cell','1k-cell new','dome new','non-target']):\n",
    "            yield 100 * down_regulated.iloc[ri,ci] / total.iloc[ri,ci], stage, target_status\n",
    "\n",
    "fw_genes_down_status = pd.DataFrame(gen(),columns=['percentage','stage','target_status'])\n",
    "fw_genes_down_status.head()\n"
   ]
  },
  {
   "cell_type": "markdown",
   "metadata": {},
   "source": [
    "### bar plot -- Fig.4E"
   ]
  },
  {
   "cell_type": "code",
   "execution_count": 57,
   "metadata": {
    "ExecuteTime": {
     "end_time": "2021-04-10T03:34:07.353100Z",
     "start_time": "2021-04-10T03:34:06.376153Z"
    }
   },
   "outputs": [
    {
     "data": {
      "image/png": "[encoded data removed]",
      "text/plain": [
       "<Figure size 299.52x259.2 with 1 Axes>"
      ]
     },
     "metadata": {},
     "output_type": "display_data"
    }
   ],
   "source": [
    "with sns.axes_style('whitegrid', rc={\n",
    "        'xtick.bottom': True,\n",
    "        'ytick.left': True\n",
    "}), sns.plotting_context('paper',\n",
    "                         rc={\n",
    "                             'axes.titlesize': 14,\n",
    "                             'axes.labelsize': 12,\n",
    "                             'xtick.labelsize': 10,\n",
    "                             'ytick.labelsize': 10,\n",
    "                             'legend.fontsize': 10\n",
    "                         }):\n",
    "\n",
    "    fig, ax = plt.subplots(figsize=(6.4 * .65, 4.8 * .75))\n",
    "    sns.barplot(\n",
    "        x='target_status',\n",
    "        hue='stage',\n",
    "        y='percentage',\n",
    "        data=fw_genes_down_status,\n",
    "        palette=['#C89B84','#9075A1'],\n",
    "        edgecolor=\"black\",\n",
    "        ax=ax,\n",
    "    )\n",
    "    ax.set_ylabel('Down regulate percentage (%)')\n",
    "    ax.legend(title='Expression data stage')\n",
    "    ax.set_title('First-wave genes')\n",
    "    fig.tight_layout()\n",
    "    fig.savefig(f'/mnt/Storage/home/wangyiman/fitCUTRUN/revision_1/analysis/figures/Fig4E_barplot_down_regulate_status_first_wave_genes_{tss}.pdf',\n",
    "                transparent=True)\n"
   ]
  },
  {
   "cell_type": "markdown",
   "metadata": {},
   "source": [
    "## expression in WT"
   ]
  },
  {
   "cell_type": "code",
   "execution_count": 58,
   "metadata": {
    "ExecuteTime": {
     "end_time": "2021-04-10T03:34:08.931230Z",
     "start_time": "2021-04-10T03:34:08.313445Z"
    }
   },
   "outputs": [
    {
     "data": {
      "text/html": [
       "<div>\n",
       "<style scoped>\n",
       "    .dataframe tbody tr th:only-of-type {\n",
       "        vertical-align: middle;\n",
       "    }\n",
       "\n",
       "    .dataframe tbody tr th {\n",
       "        vertical-align: top;\n",
       "    }\n",
       "\n",
       "    .dataframe thead th {\n",
       "        text-align: right;\n",
       "    }\n",
       "</style>\n",
       "<table border=\"1\" class=\"dataframe\">\n",
       "  <thead>\n",
       "    <tr style=\"text-align: right;\">\n",
       "      <th></th>\n",
       "      <th>1cell_1</th>\n",
       "      <th>1cell_2</th>\n",
       "      <th>1cell_3</th>\n",
       "      <th>1cell_4</th>\n",
       "      <th>1cell_5</th>\n",
       "      <th>2cell_2</th>\n",
       "      <th>2cell_3</th>\n",
       "      <th>2cell_4</th>\n",
       "      <th>2cell_5</th>\n",
       "      <th>128cell_1</th>\n",
       "      <th>...</th>\n",
       "      <th>4dpf_1</th>\n",
       "      <th>4dpf_2</th>\n",
       "      <th>4dpf_3</th>\n",
       "      <th>4dpf_4</th>\n",
       "      <th>4dpf_5</th>\n",
       "      <th>5dpf_1</th>\n",
       "      <th>5dpf_2</th>\n",
       "      <th>5dpf_3</th>\n",
       "      <th>5dpf_4</th>\n",
       "      <th>5dpf_5</th>\n",
       "    </tr>\n",
       "  </thead>\n",
       "  <tbody>\n",
       "    <tr>\n",
       "      <th>ENSDARG00000000001</th>\n",
       "      <td>4.051978</td>\n",
       "      <td>3.052561</td>\n",
       "      <td>2.109864</td>\n",
       "      <td>2.795590</td>\n",
       "      <td>1.720883</td>\n",
       "      <td>5.180598</td>\n",
       "      <td>4.927223</td>\n",
       "      <td>5.027334</td>\n",
       "      <td>5.101963</td>\n",
       "      <td>15.595867</td>\n",
       "      <td>...</td>\n",
       "      <td>4.172472</td>\n",
       "      <td>3.276666</td>\n",
       "      <td>3.783347</td>\n",
       "      <td>2.894171</td>\n",
       "      <td>4.005893</td>\n",
       "      <td>3.327795</td>\n",
       "      <td>3.327846</td>\n",
       "      <td>4.583900</td>\n",
       "      <td>3.072847</td>\n",
       "      <td>3.741060</td>\n",
       "    </tr>\n",
       "    <tr>\n",
       "      <th>ENSDARG00000000002</th>\n",
       "      <td>0.273260</td>\n",
       "      <td>0.000000</td>\n",
       "      <td>0.000000</td>\n",
       "      <td>0.421684</td>\n",
       "      <td>0.000000</td>\n",
       "      <td>3.431821</td>\n",
       "      <td>2.770505</td>\n",
       "      <td>5.022453</td>\n",
       "      <td>2.730927</td>\n",
       "      <td>2.624475</td>\n",
       "      <td>...</td>\n",
       "      <td>14.846203</td>\n",
       "      <td>18.130838</td>\n",
       "      <td>18.304920</td>\n",
       "      <td>16.364960</td>\n",
       "      <td>14.593785</td>\n",
       "      <td>14.230783</td>\n",
       "      <td>14.521548</td>\n",
       "      <td>15.233061</td>\n",
       "      <td>13.637992</td>\n",
       "      <td>15.589039</td>\n",
       "    </tr>\n",
       "    <tr>\n",
       "      <th>ENSDARG00000000018</th>\n",
       "      <td>3.682254</td>\n",
       "      <td>3.903807</td>\n",
       "      <td>2.398350</td>\n",
       "      <td>2.654802</td>\n",
       "      <td>4.678908</td>\n",
       "      <td>6.978799</td>\n",
       "      <td>6.806111</td>\n",
       "      <td>6.629982</td>\n",
       "      <td>5.488103</td>\n",
       "      <td>31.126837</td>\n",
       "      <td>...</td>\n",
       "      <td>13.928451</td>\n",
       "      <td>9.418540</td>\n",
       "      <td>11.154407</td>\n",
       "      <td>11.441402</td>\n",
       "      <td>10.003105</td>\n",
       "      <td>11.769067</td>\n",
       "      <td>11.296991</td>\n",
       "      <td>11.140151</td>\n",
       "      <td>9.677064</td>\n",
       "      <td>11.711987</td>\n",
       "    </tr>\n",
       "    <tr>\n",
       "      <th>ENSDARG00000000019</th>\n",
       "      <td>111.574821</td>\n",
       "      <td>124.635323</td>\n",
       "      <td>133.629303</td>\n",
       "      <td>122.782967</td>\n",
       "      <td>132.583572</td>\n",
       "      <td>154.288986</td>\n",
       "      <td>153.131165</td>\n",
       "      <td>145.468079</td>\n",
       "      <td>130.540207</td>\n",
       "      <td>150.540787</td>\n",
       "      <td>...</td>\n",
       "      <td>82.607956</td>\n",
       "      <td>85.895851</td>\n",
       "      <td>86.441277</td>\n",
       "      <td>84.617149</td>\n",
       "      <td>87.631439</td>\n",
       "      <td>71.270645</td>\n",
       "      <td>76.949173</td>\n",
       "      <td>72.815437</td>\n",
       "      <td>77.683365</td>\n",
       "      <td>80.444313</td>\n",
       "    </tr>\n",
       "    <tr>\n",
       "      <th>ENSDARG00000000068</th>\n",
       "      <td>48.938435</td>\n",
       "      <td>54.039043</td>\n",
       "      <td>43.647762</td>\n",
       "      <td>44.146622</td>\n",
       "      <td>38.664574</td>\n",
       "      <td>47.618706</td>\n",
       "      <td>42.039539</td>\n",
       "      <td>59.580910</td>\n",
       "      <td>49.505104</td>\n",
       "      <td>99.220474</td>\n",
       "      <td>...</td>\n",
       "      <td>47.130775</td>\n",
       "      <td>47.723545</td>\n",
       "      <td>48.305008</td>\n",
       "      <td>42.552280</td>\n",
       "      <td>46.720215</td>\n",
       "      <td>35.423752</td>\n",
       "      <td>31.968729</td>\n",
       "      <td>34.127728</td>\n",
       "      <td>35.041656</td>\n",
       "      <td>36.358227</td>\n",
       "    </tr>\n",
       "  </tbody>\n",
       "</table>\n",
       "<p>5 rows × 84 columns</p>\n",
       "</div>"
      ],
      "text/plain": [
       "                       1cell_1     1cell_2     1cell_3     1cell_4  \\\n",
       "ENSDARG00000000001    4.051978    3.052561    2.109864    2.795590   \n",
       "ENSDARG00000000002    0.273260    0.000000    0.000000    0.421684   \n",
       "ENSDARG00000000018    3.682254    3.903807    2.398350    2.654802   \n",
       "ENSDARG00000000019  111.574821  124.635323  133.629303  122.782967   \n",
       "ENSDARG00000000068   48.938435   54.039043   43.647762   44.146622   \n",
       "\n",
       "                       1cell_5     2cell_2     2cell_3     2cell_4  \\\n",
       "ENSDARG00000000001    1.720883    5.180598    4.927223    5.027334   \n",
       "ENSDARG00000000002    0.000000    3.431821    2.770505    5.022453   \n",
       "ENSDARG00000000018    4.678908    6.978799    6.806111    6.629982   \n",
       "ENSDARG00000000019  132.583572  154.288986  153.131165  145.468079   \n",
       "ENSDARG00000000068   38.664574   47.618706   42.039539   59.580910   \n",
       "\n",
       "                       2cell_5   128cell_1  ...     4dpf_1     4dpf_2  \\\n",
       "ENSDARG00000000001    5.101963   15.595867  ...   4.172472   3.276666   \n",
       "ENSDARG00000000002    2.730927    2.624475  ...  14.846203  18.130838   \n",
       "ENSDARG00000000018    5.488103   31.126837  ...  13.928451   9.418540   \n",
       "ENSDARG00000000019  130.540207  150.540787  ...  82.607956  85.895851   \n",
       "ENSDARG00000000068   49.505104   99.220474  ...  47.130775  47.723545   \n",
       "\n",
       "                       4dpf_3     4dpf_4     4dpf_5     5dpf_1     5dpf_2  \\\n",
       "ENSDARG00000000001   3.783347   2.894171   4.005893   3.327795   3.327846   \n",
       "ENSDARG00000000002  18.304920  16.364960  14.593785  14.230783  14.521548   \n",
       "ENSDARG00000000018  11.154407  11.441402  10.003105  11.769067  11.296991   \n",
       "ENSDARG00000000019  86.441277  84.617149  87.631439  71.270645  76.949173   \n",
       "ENSDARG00000000068  48.305008  42.552280  46.720215  35.423752  31.968729   \n",
       "\n",
       "                       5dpf_3     5dpf_4     5dpf_5  \n",
       "ENSDARG00000000001   4.583900   3.072847   3.741060  \n",
       "ENSDARG00000000002  15.233061  13.637992  15.589039  \n",
       "ENSDARG00000000018  11.140151   9.677064  11.711987  \n",
       "ENSDARG00000000019  72.815437  77.683365  80.444313  \n",
       "ENSDARG00000000068  34.127728  35.041656  36.358227  \n",
       "\n",
       "[5 rows x 84 columns]"
      ]
     },
     "execution_count": 58,
     "metadata": {},
     "output_type": "execute_result"
    }
   ],
   "source": [
    "wt_TPM = pd.read_csv('expression/wt_elife_TPM.txt',sep='\\t',index_col=0)\n",
    "wt_TPM.index = [x.split('.')[0] for x in wt_TPM.index]\n",
    "wt_TPM.head()"
   ]
  },
  {
   "cell_type": "code",
   "execution_count": 59,
   "metadata": {
    "ExecuteTime": {
     "end_time": "2021-04-10T03:34:09.097594Z",
     "start_time": "2021-04-10T03:34:09.094436Z"
    }
   },
   "outputs": [],
   "source": [
    "expression_stages = [\n",
    "    '1cell', '2cell', '128cell', '1kcell', 'dome', '50epi', '6hpf', '8hpf',\n",
    "    '10.33hpf', '16hpf_somites', '19hpf_somites', '24hpf', '30hpf', '36hpf',\n",
    "    '2dpf', '3dpf', '4dpf', '5dpf'\n",
    "]\n",
    "\n",
    "stage_to_int = {stage: index for index, stage in enumerate(expression_stages)}\n"
   ]
  },
  {
   "cell_type": "markdown",
   "metadata": {},
   "source": [
    "### normalize"
   ]
  },
  {
   "cell_type": "code",
   "execution_count": 60,
   "metadata": {
    "ExecuteTime": {
     "end_time": "2021-04-10T03:34:12.750798Z",
     "start_time": "2021-04-10T03:34:12.734371Z"
    }
   },
   "outputs": [],
   "source": [
    "def gen():\n",
    "    from scipy import stats\n",
    "    for gene, row in wt_TPM.iterrows():\n",
    "        if gene in first_wave_genes_danRer11_2 & nanog_256_genes:\n",
    "            TPM = []\n",
    "            for stage in stage_to_int.keys():\n",
    "                TPM.append(wt_TPM.loc[gene, [\n",
    "                    True if stage in x else False for x in wt_TPM.columns\n",
    "                ]].mean())\n",
    "            TPM = stats.zscore(TPM)\n",
    "            for t, stage in zip(TPM, stage_to_int.keys()):\n",
    "                yield t, stage, '256-cell binding'\n",
    "    \n",
    "    for gene, row in wt_TPM.iterrows():\n",
    "        if gene in first_wave_genes_danRer11_2 & nanog_1k_new_genes:\n",
    "            TPM = []\n",
    "            for stage in stage_to_int.keys():\n",
    "                TPM.append(wt_TPM.loc[gene, [\n",
    "                    True if stage in x else False for x in wt_TPM.columns\n",
    "                ]].mean())\n",
    "            TPM = stats.zscore(TPM)\n",
    "            for t, stage in zip(TPM, stage_to_int.keys()):\n",
    "                yield t, stage, '1k-cell new binding'\n",
    "            \n",
    "    for gene, row in wt_TPM.iterrows():\n",
    "        if gene in first_wave_genes_danRer11_2 & nanog_dome_new_genes:\n",
    "            TPM = []\n",
    "            for stage in stage_to_int.keys():\n",
    "                TPM.append(wt_TPM.loc[gene, [\n",
    "                    True if stage in x else False for x in wt_TPM.columns\n",
    "                ]].mean())\n",
    "            TPM = stats.zscore(TPM)\n",
    "            for t, stage in zip(TPM, stage_to_int.keys()):\n",
    "                yield t, stage, 'dome new binding'\n",
    "\n",
    "\n"
   ]
  },
  {
   "cell_type": "code",
   "execution_count": 61,
   "metadata": {
    "ExecuteTime": {
     "end_time": "2021-04-10T03:34:20.402101Z",
     "start_time": "2021-04-10T03:34:13.351774Z"
    }
   },
   "outputs": [
    {
     "data": {
      "text/html": [
       "<div>\n",
       "<style scoped>\n",
       "    .dataframe tbody tr th:only-of-type {\n",
       "        vertical-align: middle;\n",
       "    }\n",
       "\n",
       "    .dataframe tbody tr th {\n",
       "        vertical-align: top;\n",
       "    }\n",
       "\n",
       "    .dataframe thead th {\n",
       "        text-align: right;\n",
       "    }\n",
       "</style>\n",
       "<table border=\"1\" class=\"dataframe\">\n",
       "  <thead>\n",
       "    <tr style=\"text-align: right;\">\n",
       "      <th></th>\n",
       "      <th>TPM</th>\n",
       "      <th>stage</th>\n",
       "      <th>binding_stage</th>\n",
       "      <th>order</th>\n",
       "    </tr>\n",
       "  </thead>\n",
       "  <tbody>\n",
       "    <tr>\n",
       "      <th>0</th>\n",
       "      <td>-0.697036</td>\n",
       "      <td>1cell</td>\n",
       "      <td>256-cell binding</td>\n",
       "      <td>0</td>\n",
       "    </tr>\n",
       "    <tr>\n",
       "      <th>1</th>\n",
       "      <td>-0.698146</td>\n",
       "      <td>2cell</td>\n",
       "      <td>256-cell binding</td>\n",
       "      <td>1</td>\n",
       "    </tr>\n",
       "    <tr>\n",
       "      <th>2</th>\n",
       "      <td>-0.689991</td>\n",
       "      <td>128cell</td>\n",
       "      <td>256-cell binding</td>\n",
       "      <td>2</td>\n",
       "    </tr>\n",
       "    <tr>\n",
       "      <th>3</th>\n",
       "      <td>-0.026035</td>\n",
       "      <td>1kcell</td>\n",
       "      <td>256-cell binding</td>\n",
       "      <td>3</td>\n",
       "    </tr>\n",
       "    <tr>\n",
       "      <th>4</th>\n",
       "      <td>1.237792</td>\n",
       "      <td>dome</td>\n",
       "      <td>256-cell binding</td>\n",
       "      <td>4</td>\n",
       "    </tr>\n",
       "  </tbody>\n",
       "</table>\n",
       "</div>"
      ],
      "text/plain": [
       "        TPM    stage     binding_stage  order\n",
       "0 -0.697036    1cell  256-cell binding      0\n",
       "1 -0.698146    2cell  256-cell binding      1\n",
       "2 -0.689991  128cell  256-cell binding      2\n",
       "3 -0.026035   1kcell  256-cell binding      3\n",
       "4  1.237792     dome  256-cell binding      4"
      ]
     },
     "execution_count": 61,
     "metadata": {},
     "output_type": "execute_result"
    }
   ],
   "source": [
    "normalized_expression_nanog_binding_first_wave_dynamic = pd.DataFrame(\n",
    "    gen(), columns=['TPM', 'stage', 'binding_stage'])\n",
    "\n",
    "stage_order = []\n",
    "for s in normalized_expression_nanog_binding_first_wave_dynamic['stage'] :\n",
    "    for i in range(len(expression_stages)) :\n",
    "        if s == expression_stages[i] :\n",
    "            stage_order.append(i)\n",
    "            \n",
    "normalized_expression_nanog_binding_first_wave_dynamic['order'] = stage_order\n",
    "normalized_expression_nanog_binding_first_wave_dynamic.head()\n"
   ]
  },
  {
   "cell_type": "code",
   "execution_count": 88,
   "metadata": {},
   "outputs": [
    {
     "data": {
      "text/html": [
       "<div>\n",
       "<style scoped>\n",
       "    .dataframe tbody tr th:only-of-type {\n",
       "        vertical-align: middle;\n",
       "    }\n",
       "\n",
       "    .dataframe tbody tr th {\n",
       "        vertical-align: top;\n",
       "    }\n",
       "\n",
       "    .dataframe thead th {\n",
       "        text-align: right;\n",
       "    }\n",
       "</style>\n",
       "<table border=\"1\" class=\"dataframe\">\n",
       "  <thead>\n",
       "    <tr style=\"text-align: right;\">\n",
       "      <th></th>\n",
       "      <th>TPM</th>\n",
       "      <th>stage</th>\n",
       "      <th>binding_stage</th>\n",
       "      <th>order</th>\n",
       "      <th>Group</th>\n",
       "    </tr>\n",
       "  </thead>\n",
       "  <tbody>\n",
       "    <tr>\n",
       "      <th>0</th>\n",
       "      <td>-0.697036</td>\n",
       "      <td>1cell</td>\n",
       "      <td>256-cell binding</td>\n",
       "      <td>0</td>\n",
       "      <td>pre-MBT target</td>\n",
       "    </tr>\n",
       "    <tr>\n",
       "      <th>1</th>\n",
       "      <td>-0.698146</td>\n",
       "      <td>2cell</td>\n",
       "      <td>256-cell binding</td>\n",
       "      <td>1</td>\n",
       "      <td>pre-MBT target</td>\n",
       "    </tr>\n",
       "    <tr>\n",
       "      <th>2</th>\n",
       "      <td>-0.689991</td>\n",
       "      <td>128cell</td>\n",
       "      <td>256-cell binding</td>\n",
       "      <td>2</td>\n",
       "      <td>pre-MBT target</td>\n",
       "    </tr>\n",
       "    <tr>\n",
       "      <th>3</th>\n",
       "      <td>-0.026035</td>\n",
       "      <td>1kcell</td>\n",
       "      <td>256-cell binding</td>\n",
       "      <td>3</td>\n",
       "      <td>pre-MBT target</td>\n",
       "    </tr>\n",
       "    <tr>\n",
       "      <th>4</th>\n",
       "      <td>1.237792</td>\n",
       "      <td>dome</td>\n",
       "      <td>256-cell binding</td>\n",
       "      <td>4</td>\n",
       "      <td>pre-MBT target</td>\n",
       "    </tr>\n",
       "  </tbody>\n",
       "</table>\n",
       "</div>"
      ],
      "text/plain": [
       "        TPM    stage     binding_stage  order           Group\n",
       "0 -0.697036    1cell  256-cell binding      0  pre-MBT target\n",
       "1 -0.698146    2cell  256-cell binding      1  pre-MBT target\n",
       "2 -0.689991  128cell  256-cell binding      2  pre-MBT target\n",
       "3 -0.026035   1kcell  256-cell binding      3  pre-MBT target\n",
       "4  1.237792     dome  256-cell binding      4  pre-MBT target"
      ]
     },
     "execution_count": 88,
     "metadata": {},
     "output_type": "execute_result"
    }
   ],
   "source": [
    "group = []\n",
    "for b in normalized_expression_nanog_binding_first_wave_dynamic['binding_stage'] :\n",
    "    if b == '256-cell binding' :\n",
    "        group.append('pre-MBT target')\n",
    "    elif b == '1k-cell new binding' :\n",
    "        group.append('MBT new target')\n",
    "    elif b == 'dome new binding' :\n",
    "        group.append('post-MBT new target')\n",
    "\n",
    "normalized_expression_nanog_binding_first_wave_dynamic['Group'] = group\n",
    "normalized_expression_nanog_binding_first_wave_dynamic.head()"
   ]
  },
  {
   "cell_type": "markdown",
   "metadata": {},
   "source": [
    "#### line plot -- Fig.4D"
   ]
  },
  {
   "cell_type": "code",
   "execution_count": 89,
   "metadata": {
    "ExecuteTime": {
     "end_time": "2021-04-10T03:34:21.214019Z",
     "start_time": "2021-04-10T03:34:20.628493Z"
    }
   },
   "outputs": [
    {
     "data": {
      "image/png": "[encoded data removed]",
      "text/plain": [
       "<Figure size 345.6x259.2 with 1 Axes>"
      ]
     },
     "metadata": {},
     "output_type": "display_data"
    }
   ],
   "source": [
    "with sns.axes_style('whitegrid', rc={\n",
    "        'xtick.bottom': True,\n",
    "        'ytick.left': True\n",
    "}), sns.plotting_context('paper',\n",
    "                         rc={\n",
    "                             'axes.titlesize': 14,\n",
    "                             'axes.labelsize': 12,\n",
    "                             'xtick.labelsize': 10,\n",
    "                             'ytick.labelsize': 10,\n",
    "                             'legend.fontsize': 10\n",
    "                         }):\n",
    "\n",
    "    fig, ax = plt.subplots(figsize = (6.4 * .75, 4.8 * .75))\n",
    "    sns.lineplot(\n",
    "        x='order',\n",
    "        y='TPM',\n",
    "        hue='Group',\n",
    "        data=normalized_expression_nanog_binding_first_wave_dynamic,\n",
    "        palette=['#727F8D', '#92AC93', '#98BDD8'],\n",
    "        lw=2,\n",
    "        ci=None,\n",
    "        #err_style='bars',\n",
    "        ax=ax,\n",
    "    )\n",
    "    ax.set_ylabel('Z-score-transformed expression level')\n",
    "    ax.set_ylim(-0.9, 2.0)\n",
    "    ax.set_xticks(np.arange(len(expression_stages)))\n",
    "    ax.set_xticklabels(expression_stages, rotation='vertical')\n",
    "    ax.set_xlabel('')\n",
    "    ax.set_title('First-wave genes')\n",
    "    fig.tight_layout()\n",
    "    fig.savefig(f'/mnt/Storage/home/wangyiman/fitCUTRUN/revision_1/analysis/figures/Fig4D_target_first_wave_genes_expresion_{tss}.pdf',\n",
    "                transparent=True)\n",
    "    "
   ]
  },
  {
   "cell_type": "markdown",
   "metadata": {},
   "source": [
    "# earlyZGA genes (cell rep 2014)"
   ]
  },
  {
   "cell_type": "code",
   "execution_count": 68,
   "metadata": {
    "ExecuteTime": {
     "end_time": "2021-04-10T03:34:25.575728Z",
     "start_time": "2021-04-10T03:34:25.517867Z"
    }
   },
   "outputs": [
    {
     "name": "stdout",
     "output_type": "stream",
     "text": [
      "342\n"
     ]
    }
   ],
   "source": [
    "import os\n",
    "earlyGA_genes = set(pd.read_csv(os.path.expanduser('/mnt/Storage/home/wangwen/project/fitCR/source/cellrep2014_4sUTP/genelist.txt'),header=None)[0])\n",
    "earlyGA_genes_danRer11_2 =  earlyGA_genes & set(\n",
    "    [x.split('.')[0] for x in danRer11_2_transcript_to_gene.values()])\n",
    "print(len(earlyGA_genes_danRer11_2))\n"
   ]
  },
  {
   "cell_type": "code",
   "execution_count": 69,
   "metadata": {
    "ExecuteTime": {
     "end_time": "2021-04-10T03:34:26.074477Z",
     "start_time": "2021-04-10T03:34:26.058558Z"
    }
   },
   "outputs": [],
   "source": [
    "with open('earlyZGA_genes/earlyZGA_genes_danRer11_2.txt', 'w') as fhd:\n",
    "    for g in earlyGA_genes_danRer11_2:\n",
    "        fhd.write(g+'\\n')\n"
   ]
  },
  {
   "cell_type": "markdown",
   "metadata": {},
   "source": [
    "## target by dynamic binding"
   ]
  },
  {
   "cell_type": "code",
   "execution_count": 93,
   "metadata": {
    "ExecuteTime": {
     "end_time": "2021-04-10T03:34:26.824485Z",
     "start_time": "2021-04-10T03:34:26.818628Z"
    }
   },
   "outputs": [
    {
     "name": "stdout",
     "output_type": "stream",
     "text": [
      "0.28654970760233917\n",
      "0.13157894736842105\n",
      "0.1871345029239766\n"
     ]
    }
   ],
   "source": [
    "print(len(earlyGA_genes_danRer11_2 & nanog_256_genes) / len(earlyGA_genes_danRer11_2))\n",
    "print(len(earlyGA_genes_danRer11_2 & nanog_1k_new_genes) / len(earlyGA_genes_danRer11_2))\n",
    "print(len(earlyGA_genes_danRer11_2 & nanog_dome_new_genes) / len(earlyGA_genes_danRer11_2))\n",
    "\n"
   ]
  },
  {
   "cell_type": "code",
   "execution_count": 71,
   "metadata": {
    "ExecuteTime": {
     "end_time": "2021-04-10T03:34:27.271842Z",
     "start_time": "2021-04-10T03:34:27.266624Z"
    }
   },
   "outputs": [
    {
     "name": "stdout",
     "output_type": "stream",
     "text": [
      "126\n"
     ]
    }
   ],
   "source": [
    "print(len(earlyGA_genes_danRer11_2 & first_wave_genes_danRer11_2))\n"
   ]
  },
  {
   "cell_type": "markdown",
   "metadata": {},
   "source": [
    "## expression status under MO"
   ]
  },
  {
   "cell_type": "code",
   "execution_count": 72,
   "metadata": {
    "ExecuteTime": {
     "end_time": "2021-04-10T03:34:30.418071Z",
     "start_time": "2021-04-10T03:34:28.211339Z"
    }
   },
   "outputs": [
    {
     "data": {
      "text/html": [
       "<div>\n",
       "<style scoped>\n",
       "    .dataframe tbody tr th:only-of-type {\n",
       "        vertical-align: middle;\n",
       "    }\n",
       "\n",
       "    .dataframe tbody tr th {\n",
       "        vertical-align: top;\n",
       "    }\n",
       "\n",
       "    .dataframe thead th {\n",
       "        text-align: right;\n",
       "    }\n",
       "</style>\n",
       "<table border=\"1\" class=\"dataframe\">\n",
       "  <thead>\n",
       "    <tr style=\"text-align: right;\">\n",
       "      <th></th>\n",
       "      <th>percentage</th>\n",
       "      <th>stage</th>\n",
       "      <th>target_status</th>\n",
       "    </tr>\n",
       "  </thead>\n",
       "  <tbody>\n",
       "    <tr>\n",
       "      <th>0</th>\n",
       "      <td>44.210526</td>\n",
       "      <td>4hpf</td>\n",
       "      <td>256-cell</td>\n",
       "    </tr>\n",
       "    <tr>\n",
       "      <th>1</th>\n",
       "      <td>24.444444</td>\n",
       "      <td>4hpf</td>\n",
       "      <td>1k-cell new</td>\n",
       "    </tr>\n",
       "    <tr>\n",
       "      <th>2</th>\n",
       "      <td>16.129032</td>\n",
       "      <td>4hpf</td>\n",
       "      <td>dome new</td>\n",
       "    </tr>\n",
       "    <tr>\n",
       "      <th>3</th>\n",
       "      <td>11.111111</td>\n",
       "      <td>4hpf</td>\n",
       "      <td>non-target</td>\n",
       "    </tr>\n",
       "    <tr>\n",
       "      <th>4</th>\n",
       "      <td>69.473684</td>\n",
       "      <td>6hpf</td>\n",
       "      <td>256-cell</td>\n",
       "    </tr>\n",
       "  </tbody>\n",
       "</table>\n",
       "</div>"
      ],
      "text/plain": [
       "   percentage stage target_status\n",
       "0   44.210526  4hpf      256-cell\n",
       "1   24.444444  4hpf   1k-cell new\n",
       "2   16.129032  4hpf      dome new\n",
       "3   11.111111  4hpf    non-target\n",
       "4   69.473684  6hpf      256-cell"
      ]
     },
     "execution_count": 72,
     "metadata": {},
     "output_type": "execute_result"
    }
   ],
   "source": [
    "\n",
    "total = pd.DataFrame(np.zeros((2,4)),index=['4hpf','6hpf'],columns=['256-cell','1k-cell new','dome new','non-target'])\n",
    "down_regulated = pd.DataFrame(np.zeros((2,4)),index=['4hpf','6hpf'],columns=['256-cell','1k-cell new','dome new','non-target'])\n",
    "for index, row in nature_2013_genes.iterrows():\n",
    "    if row['Gene_id'] in earlyGA_genes_danRer11_2:\n",
    "        if row['Gene_id'] in nanog_256_genes:\n",
    "            ci = 0\n",
    "        elif row['Gene_id'] in nanog_1k_genes:\n",
    "            ci = 1\n",
    "        elif row['Gene_id'] in nanog_dome_genes:\n",
    "            ci = 2\n",
    "        else:\n",
    "            ci = 3\n",
    "        total.iloc[0,ci] += 1\n",
    "        total.iloc[1,ci] += 1\n",
    "        if row['N4_down'] == 'X':\n",
    "            down_regulated.iloc[0,ci] += 1\n",
    "        if row['N6_down'] == 'X':\n",
    "            down_regulated.iloc[1,ci] += 1\n",
    "\n",
    "\n",
    "def gen():\n",
    "    for ri, stage in enumerate(['4hpf','6hpf']):\n",
    "        for ci, target_status in enumerate(['256-cell','1k-cell new','dome new','non-target']):\n",
    "            yield 100 * down_regulated.iloc[ri,ci] / total.iloc[ri,ci], stage, target_status\n",
    "\n",
    "earlyZGA_genes_down_status = pd.DataFrame(gen(),columns=['percentage','stage','target_status'])\n",
    "earlyZGA_genes_down_status.head()\n"
   ]
  },
  {
   "cell_type": "markdown",
   "metadata": {},
   "source": [
    "### bar plot -- Fig.S5G"
   ]
  },
  {
   "cell_type": "code",
   "execution_count": 85,
   "metadata": {
    "ExecuteTime": {
     "end_time": "2021-04-10T03:34:31.154276Z",
     "start_time": "2021-04-10T03:34:30.584861Z"
    }
   },
   "outputs": [
    {
     "data": {
      "image/png": "[encoded data removed]",
      "text/plain": [
       "<Figure size 299.52x259.2 with 1 Axes>"
      ]
     },
     "metadata": {},
     "output_type": "display_data"
    }
   ],
   "source": [
    "with sns.axes_style('whitegrid', rc={\n",
    "        'xtick.bottom': True,\n",
    "        'ytick.left': True\n",
    "}), sns.plotting_context('paper',\n",
    "                         rc={\n",
    "                             'axes.titlesize': 14,\n",
    "                             'axes.labelsize': 12,\n",
    "                             'xtick.labelsize': 10,\n",
    "                             'ytick.labelsize': 10,\n",
    "                             'legend.fontsize': 10\n",
    "                         }):\n",
    "\n",
    "    fig, ax = plt.subplots(figsize = (6.4 * .65, 4.8 * .75))\n",
    "    sns.barplot(\n",
    "        x='target_status',\n",
    "        hue='stage',\n",
    "        y='percentage',\n",
    "        data=earlyZGA_genes_down_status,\n",
    "        palette=['#C89B84','#9075A1'],\n",
    "        edgecolor='black',\n",
    "        ax=ax,\n",
    "    )\n",
    "    ax.set_ylabel('Down regulate percentage (%)')\n",
    "    ax.legend(title='Expression data stage')\n",
    "    ax.set_title('Early ZGA genes')\n",
    "    fig.tight_layout()\n",
    "    fig.savefig(f'/mnt/Storage/home/wangyiman/fitCUTRUN/revision_1/analysis/figures/Supple_Fig5G_barplot_down_regulate_status_earlyZGA_genes_{tss}.pdf',\n",
    "                transparent=True)\n",
    "    "
   ]
  },
  {
   "cell_type": "markdown",
   "metadata": {},
   "source": [
    "## expression in WT"
   ]
  },
  {
   "cell_type": "markdown",
   "metadata": {},
   "source": [
    "### normalize"
   ]
  },
  {
   "cell_type": "code",
   "execution_count": 74,
   "metadata": {
    "ExecuteTime": {
     "end_time": "2021-04-10T03:34:33.971296Z",
     "start_time": "2021-04-10T03:34:33.955895Z"
    }
   },
   "outputs": [],
   "source": [
    "def gen():\n",
    "    from scipy import stats\n",
    "    for gene, row in wt_TPM.iterrows():\n",
    "        if gene in earlyGA_genes_danRer11_2 & nanog_256_genes:\n",
    "            TPM = []\n",
    "            for stage in stage_to_int.keys():\n",
    "                TPM.append(wt_TPM.loc[gene, [\n",
    "                    True if stage in x else False for x in wt_TPM.columns\n",
    "                ]].mean())\n",
    "            TPM = stats.zscore(TPM)\n",
    "            for t, stage in zip(TPM, stage_to_int.keys()):\n",
    "                yield t, stage, '256-cell binding'\n",
    "    \n",
    "    for gene, row in wt_TPM.iterrows():\n",
    "        if gene in earlyGA_genes_danRer11_2 & nanog_1k_new_genes:\n",
    "            TPM = []\n",
    "            for stage in stage_to_int.keys():\n",
    "                TPM.append(wt_TPM.loc[gene, [\n",
    "                    True if stage in x else False for x in wt_TPM.columns\n",
    "                ]].mean())\n",
    "            TPM = stats.zscore(TPM)\n",
    "            for t, stage in zip(TPM, stage_to_int.keys()):\n",
    "                yield t, stage, '1k-cell new binding'\n",
    "            \n",
    "    for gene, row in wt_TPM.iterrows():\n",
    "        if gene in earlyGA_genes_danRer11_2 & nanog_dome_new_genes:\n",
    "            TPM = []\n",
    "            for stage in stage_to_int.keys():\n",
    "                TPM.append(wt_TPM.loc[gene, [\n",
    "                    True if stage in x else False for x in wt_TPM.columns\n",
    "                ]].mean())\n",
    "            TPM = stats.zscore(TPM)\n",
    "            for t, stage in zip(TPM, stage_to_int.keys()):\n",
    "                yield t, stage, 'dome new binding'\n",
    "\n",
    "\n"
   ]
  },
  {
   "cell_type": "code",
   "execution_count": 75,
   "metadata": {
    "ExecuteTime": {
     "end_time": "2021-04-10T03:34:43.197978Z",
     "start_time": "2021-04-10T03:34:35.074191Z"
    }
   },
   "outputs": [
    {
     "name": "stderr",
     "output_type": "stream",
     "text": [
      "/mnt/Storage/home/wangyiman/.local/lib/python3.8/site-packages/scipy/stats/stats.py:2500: RuntimeWarning: invalid value encountered in true_divide\n",
      "  return (a - mns) / sstd\n"
     ]
    },
    {
     "data": {
      "text/html": [
       "<div>\n",
       "<style scoped>\n",
       "    .dataframe tbody tr th:only-of-type {\n",
       "        vertical-align: middle;\n",
       "    }\n",
       "\n",
       "    .dataframe tbody tr th {\n",
       "        vertical-align: top;\n",
       "    }\n",
       "\n",
       "    .dataframe thead th {\n",
       "        text-align: right;\n",
       "    }\n",
       "</style>\n",
       "<table border=\"1\" class=\"dataframe\">\n",
       "  <thead>\n",
       "    <tr style=\"text-align: right;\">\n",
       "      <th></th>\n",
       "      <th>TPM</th>\n",
       "      <th>stage</th>\n",
       "      <th>binding_stage</th>\n",
       "    </tr>\n",
       "  </thead>\n",
       "  <tbody>\n",
       "    <tr>\n",
       "      <th>0</th>\n",
       "      <td>-0.697036</td>\n",
       "      <td>1cell</td>\n",
       "      <td>256-cell binding</td>\n",
       "    </tr>\n",
       "    <tr>\n",
       "      <th>1</th>\n",
       "      <td>-0.698146</td>\n",
       "      <td>2cell</td>\n",
       "      <td>256-cell binding</td>\n",
       "    </tr>\n",
       "    <tr>\n",
       "      <th>2</th>\n",
       "      <td>-0.689991</td>\n",
       "      <td>128cell</td>\n",
       "      <td>256-cell binding</td>\n",
       "    </tr>\n",
       "    <tr>\n",
       "      <th>3</th>\n",
       "      <td>-0.026035</td>\n",
       "      <td>1kcell</td>\n",
       "      <td>256-cell binding</td>\n",
       "    </tr>\n",
       "    <tr>\n",
       "      <th>4</th>\n",
       "      <td>1.237792</td>\n",
       "      <td>dome</td>\n",
       "      <td>256-cell binding</td>\n",
       "    </tr>\n",
       "  </tbody>\n",
       "</table>\n",
       "</div>"
      ],
      "text/plain": [
       "        TPM    stage     binding_stage\n",
       "0 -0.697036    1cell  256-cell binding\n",
       "1 -0.698146    2cell  256-cell binding\n",
       "2 -0.689991  128cell  256-cell binding\n",
       "3 -0.026035   1kcell  256-cell binding\n",
       "4  1.237792     dome  256-cell binding"
      ]
     },
     "execution_count": 75,
     "metadata": {},
     "output_type": "execute_result"
    }
   ],
   "source": [
    "normalized_expression_nanog_binding_earlyZGA_dynamic = pd.DataFrame(\n",
    "    gen(), columns=['TPM', 'stage', 'binding_stage'])\n",
    "\n",
    "normalized_expression_nanog_binding_earlyZGA_dynamic.head()\n"
   ]
  },
  {
   "cell_type": "code",
   "execution_count": 76,
   "metadata": {
    "ExecuteTime": {
     "end_time": "2021-04-10T03:34:20.402101Z",
     "start_time": "2021-04-10T03:34:13.351774Z"
    }
   },
   "outputs": [
    {
     "data": {
      "text/html": [
       "<div>\n",
       "<style scoped>\n",
       "    .dataframe tbody tr th:only-of-type {\n",
       "        vertical-align: middle;\n",
       "    }\n",
       "\n",
       "    .dataframe tbody tr th {\n",
       "        vertical-align: top;\n",
       "    }\n",
       "\n",
       "    .dataframe thead th {\n",
       "        text-align: right;\n",
       "    }\n",
       "</style>\n",
       "<table border=\"1\" class=\"dataframe\">\n",
       "  <thead>\n",
       "    <tr style=\"text-align: right;\">\n",
       "      <th></th>\n",
       "      <th>TPM</th>\n",
       "      <th>stage</th>\n",
       "      <th>binding_stage</th>\n",
       "      <th>order</th>\n",
       "    </tr>\n",
       "  </thead>\n",
       "  <tbody>\n",
       "    <tr>\n",
       "      <th>0</th>\n",
       "      <td>-0.697036</td>\n",
       "      <td>1cell</td>\n",
       "      <td>256-cell binding</td>\n",
       "      <td>0</td>\n",
       "    </tr>\n",
       "    <tr>\n",
       "      <th>1</th>\n",
       "      <td>-0.698146</td>\n",
       "      <td>2cell</td>\n",
       "      <td>256-cell binding</td>\n",
       "      <td>1</td>\n",
       "    </tr>\n",
       "    <tr>\n",
       "      <th>2</th>\n",
       "      <td>-0.689991</td>\n",
       "      <td>128cell</td>\n",
       "      <td>256-cell binding</td>\n",
       "      <td>2</td>\n",
       "    </tr>\n",
       "    <tr>\n",
       "      <th>3</th>\n",
       "      <td>-0.026035</td>\n",
       "      <td>1kcell</td>\n",
       "      <td>256-cell binding</td>\n",
       "      <td>3</td>\n",
       "    </tr>\n",
       "    <tr>\n",
       "      <th>4</th>\n",
       "      <td>1.237792</td>\n",
       "      <td>dome</td>\n",
       "      <td>256-cell binding</td>\n",
       "      <td>4</td>\n",
       "    </tr>\n",
       "  </tbody>\n",
       "</table>\n",
       "</div>"
      ],
      "text/plain": [
       "        TPM    stage     binding_stage  order\n",
       "0 -0.697036    1cell  256-cell binding      0\n",
       "1 -0.698146    2cell  256-cell binding      1\n",
       "2 -0.689991  128cell  256-cell binding      2\n",
       "3 -0.026035   1kcell  256-cell binding      3\n",
       "4  1.237792     dome  256-cell binding      4"
      ]
     },
     "execution_count": 76,
     "metadata": {},
     "output_type": "execute_result"
    }
   ],
   "source": [
    "stage_order = []\n",
    "for s in normalized_expression_nanog_binding_earlyZGA_dynamic['stage'] :\n",
    "    for i in range(len(expression_stages)) :\n",
    "        if s == expression_stages[i] :\n",
    "            stage_order.append(i)\n",
    "            \n",
    "normalized_expression_nanog_binding_earlyZGA_dynamic['order'] = stage_order\n",
    "normalized_expression_nanog_binding_earlyZGA_dynamic.head()\n"
   ]
  },
  {
   "cell_type": "code",
   "execution_count": 86,
   "metadata": {},
   "outputs": [
    {
     "data": {
      "text/html": [
       "<div>\n",
       "<style scoped>\n",
       "    .dataframe tbody tr th:only-of-type {\n",
       "        vertical-align: middle;\n",
       "    }\n",
       "\n",
       "    .dataframe tbody tr th {\n",
       "        vertical-align: top;\n",
       "    }\n",
       "\n",
       "    .dataframe thead th {\n",
       "        text-align: right;\n",
       "    }\n",
       "</style>\n",
       "<table border=\"1\" class=\"dataframe\">\n",
       "  <thead>\n",
       "    <tr style=\"text-align: right;\">\n",
       "      <th></th>\n",
       "      <th>TPM</th>\n",
       "      <th>stage</th>\n",
       "      <th>binding_stage</th>\n",
       "      <th>order</th>\n",
       "      <th>Group</th>\n",
       "    </tr>\n",
       "  </thead>\n",
       "  <tbody>\n",
       "    <tr>\n",
       "      <th>0</th>\n",
       "      <td>-0.697036</td>\n",
       "      <td>1cell</td>\n",
       "      <td>256-cell binding</td>\n",
       "      <td>0</td>\n",
       "      <td>pre-MBT target</td>\n",
       "    </tr>\n",
       "    <tr>\n",
       "      <th>1</th>\n",
       "      <td>-0.698146</td>\n",
       "      <td>2cell</td>\n",
       "      <td>256-cell binding</td>\n",
       "      <td>1</td>\n",
       "      <td>pre-MBT target</td>\n",
       "    </tr>\n",
       "    <tr>\n",
       "      <th>2</th>\n",
       "      <td>-0.689991</td>\n",
       "      <td>128cell</td>\n",
       "      <td>256-cell binding</td>\n",
       "      <td>2</td>\n",
       "      <td>pre-MBT target</td>\n",
       "    </tr>\n",
       "    <tr>\n",
       "      <th>3</th>\n",
       "      <td>-0.026035</td>\n",
       "      <td>1kcell</td>\n",
       "      <td>256-cell binding</td>\n",
       "      <td>3</td>\n",
       "      <td>pre-MBT target</td>\n",
       "    </tr>\n",
       "    <tr>\n",
       "      <th>4</th>\n",
       "      <td>1.237792</td>\n",
       "      <td>dome</td>\n",
       "      <td>256-cell binding</td>\n",
       "      <td>4</td>\n",
       "      <td>pre-MBT target</td>\n",
       "    </tr>\n",
       "  </tbody>\n",
       "</table>\n",
       "</div>"
      ],
      "text/plain": [
       "        TPM    stage     binding_stage  order           Group\n",
       "0 -0.697036    1cell  256-cell binding      0  pre-MBT target\n",
       "1 -0.698146    2cell  256-cell binding      1  pre-MBT target\n",
       "2 -0.689991  128cell  256-cell binding      2  pre-MBT target\n",
       "3 -0.026035   1kcell  256-cell binding      3  pre-MBT target\n",
       "4  1.237792     dome  256-cell binding      4  pre-MBT target"
      ]
     },
     "execution_count": 86,
     "metadata": {},
     "output_type": "execute_result"
    }
   ],
   "source": [
    "group = []\n",
    "for b in normalized_expression_nanog_binding_earlyZGA_dynamic['binding_stage'] :\n",
    "    if b == '256-cell binding' :\n",
    "        group.append('pre-MBT target')\n",
    "    elif b == '1k-cell new binding' :\n",
    "        group.append('MBT new target')\n",
    "    elif b == 'dome new binding' :\n",
    "        group.append('post-MBT new target')\n",
    "\n",
    "normalized_expression_nanog_binding_earlyZGA_dynamic['Group'] = group\n",
    "normalized_expression_nanog_binding_earlyZGA_dynamic.head()"
   ]
  },
  {
   "cell_type": "markdown",
   "metadata": {},
   "source": [
    "#### line plot -- Fig.S5F"
   ]
  },
  {
   "cell_type": "code",
   "execution_count": 87,
   "metadata": {
    "ExecuteTime": {
     "end_time": "2021-04-10T03:34:21.214019Z",
     "start_time": "2021-04-10T03:34:20.628493Z"
    }
   },
   "outputs": [
    {
     "data": {
      "image/png": "[encoded data removed]",
      "text/plain": [
       "<Figure size 345.6x259.2 with 1 Axes>"
      ]
     },
     "metadata": {},
     "output_type": "display_data"
    }
   ],
   "source": [
    "with sns.axes_style('whitegrid', rc={\n",
    "        'xtick.bottom': True,\n",
    "        'ytick.left': True\n",
    "}), sns.plotting_context('paper',\n",
    "                         rc={\n",
    "                             'axes.titlesize': 14,\n",
    "                             'axes.labelsize': 12,\n",
    "                             'xtick.labelsize': 10,\n",
    "                             'ytick.labelsize': 10,\n",
    "                             'legend.fontsize': 10\n",
    "                         }):\n",
    "\n",
    "    fig, ax = plt.subplots(figsize = (6.4 * .75, 4.8 * .75))\n",
    "    sns.lineplot(\n",
    "        x='order',\n",
    "        y='TPM',\n",
    "        hue='Group',\n",
    "        data=normalized_expression_nanog_binding_earlyZGA_dynamic,\n",
    "        palette=['#727F8D', '#92AC93', '#98BDD8'],\n",
    "        lw=2,\n",
    "        ci=None,\n",
    "        #err_style='bars',\n",
    "        ax=ax,\n",
    "    )\n",
    "    ax.set_ylabel('Z-score-transformed expression level')\n",
    "    ax.set_ylim(-1, 2.0)\n",
    "    ax.set_xticks(np.arange(len(expression_stages)))\n",
    "    ax.set_xticklabels(expression_stages, rotation='vertical')\n",
    "    ax.set_xlabel('')\n",
    "    ax.set_title('First-wave genes')\n",
    "    fig.tight_layout()\n",
    "    ax.set_title('Early ZGA genes')\n",
    "    fig.savefig(f'/mnt/Storage/home/wangyiman/fitCUTRUN/revision_1/analysis/figures/Supple_Fig5F_target_earlyZGA_genes_expresion_{tss}.pdf',\n",
    "                transparent=True)\n",
    "    "
   ]
  },
  {
   "cell_type": "code",
   "execution_count": null,
   "metadata": {},
   "outputs": [],
   "source": []
  }
 ],
 "metadata": {
  "kernelspec": {
   "display_name": "Python 3",
   "language": "python",
   "name": "python3"
  },
  "language_info": {
   "codemirror_mode": {
    "name": "ipython",
    "version": 3
   },
   "file_extension": ".py",
   "mimetype": "text/x-python",
   "name": "python",
   "nbconvert_exporter": "python",
   "pygments_lexer": "ipython3",
   "version": "3.8.5"
  },
  "toc": {
   "base_numbering": 1,
   "nav_menu": {},
   "number_sections": true,
   "sideBar": true,
   "skip_h1_title": false,
   "title_cell": "Table of Contents",
   "title_sidebar": "Contents",
   "toc_cell": true,
   "toc_position": {
    "height": "calc(100% - 180px)",
    "left": "10px",
    "top": "150px",
    "width": "384px"
   },
   "toc_section_display": true,
   "toc_window_display": true
  },
  "varInspector": {
   "cols": {
    "lenName": 16,
    "lenType": 16,
    "lenVar": 40
   },
   "kernels_config": {
    "python": {
     "delete_cmd_postfix": "",
     "delete_cmd_prefix": "del ",
     "library": "var_list.py",
     "varRefreshCmd": "print(var_dic_list())"
    },
    "r": {
     "delete_cmd_postfix": ") ",
     "delete_cmd_prefix": "rm(",
     "library": "var_list.r",
     "varRefreshCmd": "cat(var_dic_list()) "
    }
   },
   "types_to_exclude": [
    "module",
    "function",
    "builtin_function_or_method",
    "instance",
    "_Feature"
   ],
   "window_display": false
  }
 },
 "nbformat": 4,
 "nbformat_minor": 4
}
