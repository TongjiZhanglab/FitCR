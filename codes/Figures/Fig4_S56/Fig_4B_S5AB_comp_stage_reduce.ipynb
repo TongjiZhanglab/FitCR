{
 "cells": [
  {
   "cell_type": "markdown",
   "metadata": {},
   "source": [
    "# Load Modules"
   ]
  },
  {
   "cell_type": "code",
   "execution_count": 2,
   "metadata": {
    "ExecuteTime": {
     "end_time": "2021-09-03T07:59:54.823807Z",
     "start_time": "2021-09-03T07:59:39.345816Z"
    }
   },
   "outputs": [],
   "source": [
    "import os\n",
    "import numpy as np\n",
    "import pandas as pd\n",
    "import matplotlib as mpl\n",
    "mpl.rcParams['pdf.fonttype'] = 42\n",
    "mpl.rcParams['ps.fonttype'] = 42\n",
    "mpl.rcParams['font.sans-serif'] = 'Arial'\n",
    "import matplotlib.pyplot as plt\n",
    "import seaborn as sns\n",
    "from pprint import pprint\n",
    "%matplotlib inline"
   ]
  },
  {
   "cell_type": "markdown",
   "metadata": {},
   "source": [
    "## load data function"
   ]
  },
  {
   "cell_type": "code",
   "execution_count": 2,
   "metadata": {
    "ExecuteTime": {
     "end_time": "2021-09-03T07:59:54.845902Z",
     "start_time": "2021-09-03T07:59:54.832729Z"
    }
   },
   "outputs": [],
   "source": [
    "def load_data(file_pairs,src_dir='',dst_dir='.'):\n",
    "    import os\n",
    "    if not os.path.isdir(dst_dir):\n",
    "        os.mkdir(dst_dir)\n",
    "    for file_pair in file_pairs:\n",
    "        src = os.path.abspath(os.path.expanduser(os.path.join(src_dir,file_pair[0])))\n",
    "        dst = os.path.expanduser(os.path.join(dst_dir,file_pair[1]))\n",
    "        if os.path.isfile(dst):\n",
    "            os.remove(dst)\n",
    "        if not os.path.islink(dst):\n",
    "            os.symlink(src,dst)\n",
    "\n",
    "def load_data_suffixes(file_pairs, src_dir='', dst_dir='.', suffixes=None):\n",
    "    import os\n",
    "    if not os.path.isdir(dst_dir):\n",
    "        os.mkdir(dst_dir)\n",
    "    if not suffixes:\n",
    "        for file_pair in file_pairs:\n",
    "            src = os.path.abspath(os.path.expanduser(os.path.join(src_dir, file_pair[0])))\n",
    "            dst = os.path.expanduser(os.path.join(dst_dir, file_pair[1]))\n",
    "            if os.path.isfile(dst):\n",
    "                os.remove(dst)\n",
    "            if not os.path.islink(dst):\n",
    "                os.symlink(src, dst)\n",
    "    else:\n",
    "        for file_pair in file_pairs:\n",
    "            for suffix_pair in suffixes:\n",
    "                src = os.path.abspath(os.path.expanduser(\n",
    "                    os.path.join(src_dir, file_pair[0] + suffix_pair[0])))\n",
    "                dst = os.path.expanduser(\n",
    "                    os.path.join(dst_dir, file_pair[1] + suffix_pair[1]))\n",
    "                if os.path.isfile(dst):\n",
    "                    os.remove(dst)\n",
    "                if not os.path.islink(dst):\n",
    "                    os.symlink(src, dst)"
   ]
  },
  {
   "cell_type": "markdown",
   "metadata": {},
   "source": [
    "## venn2 function"
   ]
  },
  {
   "cell_type": "code",
   "execution_count": 3,
   "metadata": {},
   "outputs": [],
   "source": [
    "def peak_overlap_venn2(peak1,\n",
    "                       peak2,\n",
    "                       label1='A',\n",
    "                       label2='B',\n",
    "                       col1='C1',\n",
    "                       col2='C2',\n",
    "                       col12='C12',\n",
    "                       label_ha='center',\n",
    "                       output_file=None):\n",
    "    import subprocess\n",
    "    from matplotlib_venn import venn2\n",
    "    from matplotlib_venn._common import mix_colors\n",
    "    from matplotlib.colors import ColorConverter\n",
    "    a = int(\n",
    "        subprocess.check_output(\n",
    "            f'wc -l {peak1}'.split()).decode().strip().split()[0])\n",
    "    b = int(\n",
    "        subprocess.check_output(\n",
    "            f'wc -l {peak2}'.split()).decode().strip().split()[0])\n",
    "    ab = int(\n",
    "        subprocess.check_output(\n",
    "            f'intersectBed -u -a {peak1} -b {peak2} | wc -l',\n",
    "            shell=True).decode().strip())\n",
    "    ba = int(\n",
    "        subprocess.check_output(\n",
    "            f'intersectBed -u -a {peak2} -b {peak1} | wc -l',\n",
    "            shell=True).decode().strip())\n",
    "    intersect = (ab + ba) >> 1\n",
    "    v = venn2((a - intersect, b - intersect, intersect),\n",
    "              set_colors=(col1, col2),\n",
    "              alpha=.5,\n",
    "              set_labels=(label1, label2))\n",
    "    v.get_label_by_id('10').set_text(f'{a-intersect:,}\\n')\n",
    "    v.get_label_by_id('01').set_text(f'\\n{b-intersect:,}')\n",
    "    v.get_label_by_id('11').set_text(f'{intersect:,}')\n",
    "    v.get_patch_by_id('11').set_color(col12)\n",
    "    v.get_patch_by_id('11').set_edgecolor('none')\n",
    "    v.get_patch_by_id('11').set_alpha(0.4)\n",
    "    \n",
    "    if label_ha != 'auto' :\n",
    "        for label in v.set_labels:\n",
    "            label.set_ha(label_ha)\n",
    "            \n",
    "    if output_file:\n",
    "        plt.savefig(output_file, transparent=True)\n",
    "        plt.close()"
   ]
  },
  {
   "cell_type": "code",
   "execution_count": 34,
   "metadata": {},
   "outputs": [
    {
     "data": {
      "image/png": "[encoded data removed]",
      "text/plain": [
       "<Figure size 360x360 with 1 Axes>"
      ]
     },
     "metadata": {},
     "output_type": "display_data"
    }
   ],
   "source": [
    "from matplotlib_venn import venn2\n",
    "fig, ax = plt.subplots(figsize=(5,5))\n",
    "v = venn2((1,2,3), set_labels=('abccc\\nab', 'abccc\\nab'), ax = ax)\n",
    "# print(v)\n",
    "# dir(v)\n",
    "for label in v.set_labels:\n",
    "#     print(dir(label))\n",
    "    label.set_ha('center')"
   ]
  },
  {
   "cell_type": "markdown",
   "metadata": {},
   "source": [
    "## venn3 function"
   ]
  },
  {
   "cell_type": "code",
   "execution_count": 271,
   "metadata": {},
   "outputs": [],
   "source": [
    "def peak_overlap_venn3(peak1,\n",
    "                       peak2,\n",
    "                       peak3,\n",
    "                       label1='A',\n",
    "                       label2='B',\n",
    "                       label3='C',\n",
    "                       title='Title',\n",
    "                       col1='C1',\n",
    "                       col2='C2',\n",
    "                       col3='C3',\n",
    "                       output_file=None):\n",
    "    import subprocess\n",
    "    from matplotlib_venn import venn3\n",
    "    from matplotlib_venn._common import mix_colors\n",
    "    from matplotlib.colors import ColorConverter\n",
    "    a = int(\n",
    "        subprocess.check_output(\n",
    "            f'wc -l {peak1}'.split()).decode().strip().split()[0])\n",
    "    b = int(\n",
    "        subprocess.check_output(\n",
    "            f'wc -l {peak2}'.split()).decode().strip().split()[0])\n",
    "    c = int(\n",
    "        subprocess.check_output(\n",
    "            f'wc -l {peak3}'.split()).decode().strip().split()[0])\n",
    "    ab = int(\n",
    "        subprocess.check_output(\n",
    "            f'intersectBed -u -a {peak1} -b {peak2} | wc -l',\n",
    "            shell=True).decode().strip())\n",
    "    ba = int(\n",
    "        subprocess.check_output(\n",
    "            f'intersectBed -u -a {peak2} -b {peak1} | wc -l',\n",
    "            shell=True).decode().strip())\n",
    "    ac = int(\n",
    "        subprocess.check_output(\n",
    "            f'intersectBed -u -a {peak1} -b {peak3} | wc -l',\n",
    "            shell=True).decode().strip())\n",
    "    ca = int(\n",
    "        subprocess.check_output(\n",
    "            f'intersectBed -u -a {peak3} -b {peak1} | wc -l',\n",
    "            shell=True).decode().strip())\n",
    "    bc = int(\n",
    "        subprocess.check_output(\n",
    "            f'intersectBed -u -a {peak2} -b {peak3} | wc -l',\n",
    "            shell=True).decode().strip())\n",
    "    cb = int(\n",
    "        subprocess.check_output(\n",
    "            f'intersectBed -u -a {peak3} -b {peak2} | wc -l',\n",
    "            shell=True).decode().strip())\n",
    "    abc = int(\n",
    "        subprocess.check_output(\n",
    "            f'intersectBed -u -a {peak1} -b {peak2} | intersectBed -u -a - -b {peak3} | wc -l',\n",
    "            shell=True).decode().strip())\n",
    "    bca = int(\n",
    "        subprocess.check_output(\n",
    "            f'intersectBed -u -a {peak2} -b {peak3} | intersectBed -u -a - -b {peak1} | wc -l',\n",
    "            shell=True).decode().strip())\n",
    "    cab = int(\n",
    "        subprocess.check_output(\n",
    "            f'intersectBed -u -a {peak3} -b {peak1} | intersectBed -u -a - -b {peak2} | wc -l',\n",
    "            shell=True).decode().strip())\n",
    "    intersect_ab = (ab + ba) >> 1\n",
    "    intersect_ac = (ac + ca) >> 1\n",
    "    intersect_cb = (cb + bc) >> 1\n",
    "    intersect_abc = (abc + bca + cab) // 3\n",
    "    print(a - intersect_ab - intersect_ac + intersect_abc,\n",
    "          b - intersect_ab - intersect_cb + intersect_abc,\n",
    "          intersect_ab - intersect_abc,\n",
    "          c - intersect_ac - intersect_cb + intersect_abc,\n",
    "          intersect_ac - intersect_abc, intersect_cb - intersect_abc,\n",
    "          intersect_abc)\n",
    "    v = venn3(\n",
    "        (a - intersect_ab - intersect_ac + intersect_abc, b - intersect_ab -\n",
    "         intersect_cb + intersect_abc, intersect_ab - intersect_abc,\n",
    "         c - intersect_ac - intersect_cb + intersect_abc, intersect_ac -\n",
    "         intersect_abc, intersect_cb - intersect_abc, intersect_abc),\n",
    "        set_colors=(col1, col2, col3),\n",
    "        alpha=.5,\n",
    "        set_labels=(label1, label2, label3))\n",
    "    #if a - intersect_ab - intersect_ac + intersect_abc > 0:\n",
    "    #    v.get_label_by_id('100').set_text(\n",
    "    #        f'{a - intersect_ab - intersect_ac + intersect_abc:,}')\n",
    "    #if b - intersect_ab - intersect_cb + intersect_abc > 0:\n",
    "    #    v.get_label_by_id('010').set_text(\n",
    "    #        f'{b - intersect_ab - intersect_cb + intersect_abc:,}')\n",
    "    #if intersect_ab - intersect_abc > 0:\n",
    "    #    v.get_label_by_id('110').set_text(f'{intersect_ab - intersect_abc:,}')\n",
    "    #if c - intersect_ac - intersect_cb + intersect_abc > 0:\n",
    "    #    v.get_label_by_id('001').set_text(\n",
    "    #        f'{c - intersect_ac - intersect_cb + intersect_abc:,}')\n",
    "    #if intersect_ac - intersect_abc > 0:\n",
    "    #    v.get_label_by_id('101').set_text(f'{intersect_ac - intersect_abc:,}')\n",
    "    #if intersect_cb - intersect_abc > 0:\n",
    "    #    v.get_label_by_id('011').set_text(f'{intersect_cb - intersect_abc:,}')\n",
    "    #if intersect_abc > 0:\n",
    "    #    v.get_label_by_id('111').set_text(f'{intersect_abc:,}')\n",
    "    if output_file:\n",
    "        plt.title(title)\n",
    "        plt.savefig(output_file, transparent=True)\n",
    "        plt.close()"
   ]
  },
  {
   "cell_type": "markdown",
   "metadata": {},
   "source": [
    "# 256 v.s. 1k v.s. dome"
   ]
  },
  {
   "cell_type": "markdown",
   "metadata": {},
   "source": [
    "## venn -- Fig.4B"
   ]
  },
  {
   "cell_type": "code",
   "execution_count": 274,
   "metadata": {},
   "outputs": [
    {
     "name": "stdout",
     "output_type": "stream",
     "text": [
      "210 1170 370 11214 116 2552 1592\n"
     ]
    }
   ],
   "source": [
    "import os\n",
    "os.chdir('/mnt/Storage/home/wangyiman/fitCUTRUN/revision_1/analysis/TF/sampling_down')\n",
    "peak_overlap_venn3(\n",
    "    'Nanog_256_excludeIgG_filtered_peaks.narrowPeak',\n",
    "    'Nanog_1k_excludeIgG_filtered_peaks.narrowPeak',\n",
    "    'Nanog_dome_excludeIgG_filtered_peaks.narrowPeak',\n",
    "    label1='256-cell',\n",
    "    label2='1k-cell',\n",
    "    label3='dome',\n",
    "    title = 'Nanog',\n",
    "    col1='#6F7B88',\n",
    "    col2='#8DA58E',\n",
    "    col3='#92B2CB',\n",
    "    output_file='/mnt/Storage/home/wangyiman/fitCUTRUN/revision_1/analysis/figures/Fig4B_Venn3_reduceInput_Nanog.pdf')"
   ]
  },
  {
   "cell_type": "markdown",
   "metadata": {},
   "source": [
    "# dome 20E v.s. 50E"
   ]
  },
  {
   "cell_type": "markdown",
   "metadata": {},
   "source": [
    "## venn -- Fig.S5A"
   ]
  },
  {
   "cell_type": "code",
   "execution_count": 4,
   "metadata": {},
   "outputs": [],
   "source": [
    "os.chdir('/mnt/Storage/home/wangyiman/fitCUTRUN/revision_1/analysis/TF/sampling_down')\n",
    "peak_overlap_venn2('Nanog_dome_excludeIgG_filtered_peaks.narrowPeak',\n",
    "                   'Nanog_dome_20E_excludeIgG_filtered_peaks.narrowPeak',\n",
    "                   label1='50 embryos',\n",
    "                   label2='20 embryos',\n",
    "                   col1='#98BDD8',\n",
    "                   col2='#E4DDC3',\n",
    "                   col12='#8BB38D',\n",
    "                   label_ha='auto',\n",
    "                   output_file='/mnt/Storage/home/wangyiman/fitCUTRUN/revision_1/analysis/figures/Supple_Fig5A_Venn3_50E_20E_Nanog.pdf')"
   ]
  },
  {
   "cell_type": "markdown",
   "metadata": {},
   "source": [
    "## scatter plot -- Fig.S5B"
   ]
  },
  {
   "cell_type": "code",
   "execution_count": 9,
   "metadata": {
    "ExecuteTime": {
     "end_time": "2021-04-08T03:07:45.957175Z",
     "start_time": "2021-04-08T03:07:44.123214Z"
    }
   },
   "outputs": [
    {
     "data": {
      "text/html": [
       "<div>\n",
       "<style scoped>\n",
       "    .dataframe tbody tr th:only-of-type {\n",
       "        vertical-align: middle;\n",
       "    }\n",
       "\n",
       "    .dataframe tbody tr th {\n",
       "        vertical-align: top;\n",
       "    }\n",
       "\n",
       "    .dataframe thead th {\n",
       "        text-align: right;\n",
       "    }\n",
       "</style>\n",
       "<table border=\"1\" class=\"dataframe\">\n",
       "  <thead>\n",
       "    <tr style=\"text-align: right;\">\n",
       "      <th></th>\n",
       "      <th>Nanog_dome_20E</th>\n",
       "      <th>Nanog_dome</th>\n",
       "    </tr>\n",
       "  </thead>\n",
       "  <tbody>\n",
       "    <tr>\n",
       "      <th>P1</th>\n",
       "      <td>2.619116</td>\n",
       "      <td>2.069805</td>\n",
       "    </tr>\n",
       "    <tr>\n",
       "      <th>P2</th>\n",
       "      <td>1.003375</td>\n",
       "      <td>0.607529</td>\n",
       "    </tr>\n",
       "    <tr>\n",
       "      <th>P3</th>\n",
       "      <td>1.951815</td>\n",
       "      <td>1.475200</td>\n",
       "    </tr>\n",
       "    <tr>\n",
       "      <th>P4</th>\n",
       "      <td>2.686978</td>\n",
       "      <td>2.136050</td>\n",
       "    </tr>\n",
       "    <tr>\n",
       "      <th>P5</th>\n",
       "      <td>2.619116</td>\n",
       "      <td>2.136050</td>\n",
       "    </tr>\n",
       "  </tbody>\n",
       "</table>\n",
       "</div>"
      ],
      "text/plain": [
       "    Nanog_dome_20E  Nanog_dome\n",
       "P1        2.619116    2.069805\n",
       "P2        1.003375    0.607529\n",
       "P3        1.951815    1.475200\n",
       "P4        2.686978    2.136050\n",
       "P5        2.619116    2.136050"
      ]
     },
     "execution_count": 9,
     "metadata": {},
     "output_type": "execute_result"
    }
   ],
   "source": [
    "bw_scan = True\n",
    "os.chdir('/mnt/Storage/home/wangyiman/fitCUTRUN/revision_1/analysis/TF/sampling_down')\n",
    "\n",
    "import subprocess\n",
    "\n",
    "def get_bigwig_mean(bigwig_file):\n",
    "    import subprocess\n",
    "    fold = subprocess.check_output(f'bigWigInfo {bigwig_file} | grep mean',\n",
    "                                   shell=True).decode()\n",
    "    fold = float(fold.split()[1])\n",
    "    return fold\n",
    "\n",
    "name = 'danRer11_2_promoter'\n",
    "capture_regions_file = '~/source/bySpecies/danRer11_2/ensGene/danRer11_2.ensGene.promoter.bed'\n",
    "bigwig_files = [\n",
    "    'before_filter/Nanog_dome_20E.bw', '../comparison/bigWig/Nanog_dome.bw'\n",
    "]\n",
    "labels = ['Nanog_dome_20E', 'Nanog_dome']\n",
    "cmd = f'''cut -f 1-3 {capture_regions_file} | awk '{{print $1\"\\\\t\"$2\"\\\\t\"$3\"\\\\tP\"NR}}' > captures_regions.bed'''\n",
    "subprocess.call(cmd, shell=True)\n",
    "for label, bigwig_file in zip(labels, bigwig_files):\n",
    "    bw_scan_cmd = f'bigWigAverageOverBed {bigwig_file} captures_regions.bed {name}_{label}_signal.tsv'\n",
    "    if bw_scan:\n",
    "        print(subprocess.check_output(bw_scan_cmd.split()).decode(), end='')\n",
    "capture_regions = pd.read_csv('captures_regions.bed', sep='\\t', header=None)\n",
    "capture_signal = pd.DataFrame(index=capture_regions[3].to_list())\n",
    "for label, bigwig_file in zip(labels, bigwig_files):\n",
    "    avg = get_bigwig_mean(bigwig_file)\n",
    "    capture_signal[label] = pd.read_csv(\n",
    "        f'{name}_{label}_signal.tsv',\n",
    "        sep='\\t',\n",
    "        header=None,\n",
    "        index_col=0,\n",
    "        names=['size', 'covered', 'sum', 'mean0', 'mean'])['mean0'] / avg\n",
    "capture_signal.head()"
   ]
  },
  {
   "cell_type": "code",
   "execution_count": 10,
   "metadata": {},
   "outputs": [],
   "source": [
    "capture_signal = capture_signal.dropna()"
   ]
  },
  {
   "cell_type": "code",
   "execution_count": 13,
   "metadata": {},
   "outputs": [],
   "source": [
    "capture_signal = capture_signal.sort_values(['Nanog_dome_20E', 'Nanog_dome']).head(57622) ##### bottom 99%"
   ]
  },
  {
   "cell_type": "code",
   "execution_count": 14,
   "metadata": {
    "ExecuteTime": {
     "end_time": "2021-04-08T03:07:46.103629Z",
     "start_time": "2021-04-08T03:07:46.030246Z"
    }
   },
   "outputs": [
    {
     "data": {
      "text/html": [
       "<div>\n",
       "<style scoped>\n",
       "    .dataframe tbody tr th:only-of-type {\n",
       "        vertical-align: middle;\n",
       "    }\n",
       "\n",
       "    .dataframe tbody tr th {\n",
       "        vertical-align: top;\n",
       "    }\n",
       "\n",
       "    .dataframe thead th {\n",
       "        text-align: right;\n",
       "    }\n",
       "</style>\n",
       "<table border=\"1\" class=\"dataframe\">\n",
       "  <thead>\n",
       "    <tr style=\"text-align: right;\">\n",
       "      <th></th>\n",
       "      <th>Nanog_dome_20E</th>\n",
       "      <th>Nanog_dome</th>\n",
       "    </tr>\n",
       "  </thead>\n",
       "  <tbody>\n",
       "    <tr>\n",
       "      <th>Nanog_dome_20E</th>\n",
       "      <td>1.000000</td>\n",
       "      <td>0.946066</td>\n",
       "    </tr>\n",
       "    <tr>\n",
       "      <th>Nanog_dome</th>\n",
       "      <td>0.946066</td>\n",
       "      <td>1.000000</td>\n",
       "    </tr>\n",
       "  </tbody>\n",
       "</table>\n",
       "</div>"
      ],
      "text/plain": [
       "                Nanog_dome_20E  Nanog_dome\n",
       "Nanog_dome_20E        1.000000    0.946066\n",
       "Nanog_dome            0.946066    1.000000"
      ]
     },
     "execution_count": 14,
     "metadata": {},
     "output_type": "execute_result"
    }
   ],
   "source": [
    "capture_signal.corr()"
   ]
  },
  {
   "cell_type": "code",
   "execution_count": 23,
   "metadata": {},
   "outputs": [
    {
     "data": {
      "image/png": "[encoded data removed]",
      "text/plain": [
       "<Figure size 172.8x172.8 with 1 Axes>"
      ]
     },
     "metadata": {},
     "output_type": "display_data"
    }
   ],
   "source": [
    "from sklearn.linear_model import LinearRegression\n",
    "from sklearn.metrics import r2_score\n",
    "import statsmodels.api as sm\n",
    "import copy\n",
    "\n",
    "regr = LinearRegression()\n",
    "\n",
    "with sns.axes_style('white', rc={\n",
    "        'xtick.bottom': True,\n",
    "        'ytick.left': True\n",
    "}), sns.plotting_context('paper',\n",
    "                         rc={\n",
    "                             'axes.titlesize': 10,\n",
    "                             'axes.labelsize': 8,\n",
    "                             'xtick.labelsize': 6,\n",
    "                             'ytick.labelsize': 6,\n",
    "                             'legend.fontsize': 6\n",
    "                         }):\n",
    "    fig, ax = plt.subplots(figsize=(4.8 * .5, 4.8 * .5))\n",
    "    sns.scatterplot(\n",
    "        capture_signal['Nanog_dome'],\n",
    "        capture_signal['Nanog_dome_20E'],\n",
    "        s=1,\n",
    "        color='navy',\n",
    "        alpha=.1,\n",
    "        edgecolor=None,\n",
    "    )    \n",
    "    regr.fit(capture_signal['Nanog_dome'].values.reshape(-1,1),capture_signal['Nanog_dome'].values.reshape(-1,1))\n",
    "    test = copy.deepcopy(capture_signal['Nanog_dome'].values.reshape(-1,1))\n",
    "    test.sort(axis=0)\n",
    "    predict = regr.predict(test)\n",
    "    ax.plot(test,predict,lw=1,color='g')\n",
    "    X = capture_signal['Nanog_dome']\n",
    "    y = capture_signal['Nanog_dome_20E']\n",
    "    X2 = sm.add_constant(X)\n",
    "    est = sm.OLS(y, X2)\n",
    "    est2 = est.fit()\n",
    "    ax.set_xlabel('Fold of 50 embryo input sample')\n",
    "    ax.set_ylabel('Fold of 20 embryo input sample')\n",
    "    ax.set_title(f\"Nanog dome ({est2.rsquared:.2f})\")\n",
    "#     ax.set_xlim(-40/20,40)\n",
    "#     ax.set_ylim(-40/20,40)\n",
    "    fig.tight_layout()\n",
    "    fig.savefig('/mnt/Storage/home/wangyiman/fitCUTRUN/revision_1/analysis/figures/Supple_Fig5B_scatter_promoterCorr_50E_20E_Nanog.pdf', transparent=True)\n"
   ]
  }
 ],
 "metadata": {
  "kernelspec": {
   "display_name": "Python 3",
   "language": "python",
   "name": "python3"
  },
  "language_info": {
   "codemirror_mode": {
    "name": "ipython",
    "version": 3
   },
   "file_extension": ".py",
   "mimetype": "text/x-python",
   "name": "python",
   "nbconvert_exporter": "python",
   "pygments_lexer": "ipython3",
   "version": "3.8.5"
  }
 },
 "nbformat": 4,
 "nbformat_minor": 4
}
