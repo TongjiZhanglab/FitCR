{
 "cells": [
  {
   "cell_type": "markdown",
   "metadata": {},
   "source": [
    "# Load Modules"
   ]
  },
  {
   "cell_type": "code",
   "execution_count": 1,
   "metadata": {
    "ExecuteTime": {
     "end_time": "2021-09-07T06:56:50.635884Z",
     "start_time": "2021-09-07T06:56:43.548150Z"
    }
   },
   "outputs": [],
   "source": [
    "import numpy as np\n",
    "import pandas as pd\n",
    "import matplotlib as mpl\n",
    "mpl.rcParams['pdf.fonttype'] = 42\n",
    "mpl.rcParams['ps.fonttype'] = 42\n",
    "mpl.rcParams['font.sans-serif'] = 'Arial'\n",
    "import matplotlib.pyplot as plt\n",
    "import seaborn as sns\n",
    "from pprint import pprint\n",
    "%matplotlib inline"
   ]
  },
  {
   "cell_type": "markdown",
   "metadata": {},
   "source": [
    "## venn3"
   ]
  },
  {
   "cell_type": "code",
   "execution_count": 4,
   "metadata": {
    "ExecuteTime": {
     "end_time": "2021-09-10T04:13:03.503376Z",
     "start_time": "2021-09-10T04:13:03.474481Z"
    }
   },
   "outputs": [],
   "source": [
    "def peak_overlap_venn3(peak1,\n",
    "                       peak2,\n",
    "                       peak3,\n",
    "                       label1='A',\n",
    "                       label2='B',\n",
    "                       label3='C',\n",
    "                       title='Title',\n",
    "                       col1='C1',\n",
    "                       col2='C2',\n",
    "                       col3='C3',\n",
    "                       output_file=None):\n",
    "    import subprocess\n",
    "    from matplotlib_venn import venn3\n",
    "    from matplotlib_venn._common import mix_colors\n",
    "    from matplotlib.colors import ColorConverter\n",
    "    a = int(\n",
    "        subprocess.check_output(\n",
    "            f'wc -l {peak1}'.split()).decode().strip().split()[0])\n",
    "    b = int(\n",
    "        subprocess.check_output(\n",
    "            f'wc -l {peak2}'.split()).decode().strip().split()[0])\n",
    "    c = int(\n",
    "        subprocess.check_output(\n",
    "            f'wc -l {peak3}'.split()).decode().strip().split()[0])\n",
    "    ab = int(\n",
    "        subprocess.check_output(\n",
    "            f'intersectBed -u -a {peak1} -b {peak2} | wc -l',\n",
    "            shell=True).decode().strip())\n",
    "    ba = int(\n",
    "        subprocess.check_output(\n",
    "            f'intersectBed -u -a {peak2} -b {peak1} | wc -l',\n",
    "            shell=True).decode().strip())\n",
    "    ac = int(\n",
    "        subprocess.check_output(\n",
    "            f'intersectBed -u -a {peak1} -b {peak3} | wc -l',\n",
    "            shell=True).decode().strip())\n",
    "    ca = int(\n",
    "        subprocess.check_output(\n",
    "            f'intersectBed -u -a {peak3} -b {peak1} | wc -l',\n",
    "            shell=True).decode().strip())\n",
    "    bc = int(\n",
    "        subprocess.check_output(\n",
    "            f'intersectBed -u -a {peak2} -b {peak3} | wc -l',\n",
    "            shell=True).decode().strip())\n",
    "    cb = int(\n",
    "        subprocess.check_output(\n",
    "            f'intersectBed -u -a {peak3} -b {peak2} | wc -l',\n",
    "            shell=True).decode().strip())\n",
    "    abc = int(\n",
    "        subprocess.check_output(\n",
    "            f'intersectBed -u -a {peak1} -b {peak2} | intersectBed -u -a - -b {peak3} | wc -l',\n",
    "            shell=True).decode().strip())\n",
    "    bca = int(\n",
    "        subprocess.check_output(\n",
    "            f'intersectBed -u -a {peak2} -b {peak3} | intersectBed -u -a - -b {peak1} | wc -l',\n",
    "            shell=True).decode().strip())\n",
    "    cab = int(\n",
    "        subprocess.check_output(\n",
    "            f'intersectBed -u -a {peak3} -b {peak1} | intersectBed -u -a - -b {peak2} | wc -l',\n",
    "            shell=True).decode().strip())\n",
    "    intersect_ab = (ab + ba) >> 1\n",
    "    intersect_ac = (ac + ca) >> 1\n",
    "    intersect_cb = (cb + bc) >> 1\n",
    "    intersect_abc = (abc + bca + cab) // 3\n",
    "    print(a - intersect_ab - intersect_ac + intersect_abc,\n",
    "          b - intersect_ab - intersect_cb + intersect_abc,\n",
    "          intersect_ab - intersect_abc,\n",
    "          c - intersect_ac - intersect_cb + intersect_abc,\n",
    "          intersect_ac - intersect_abc, intersect_cb - intersect_abc,\n",
    "          intersect_abc)\n",
    "    v = venn3(\n",
    "        (a - intersect_ab - intersect_ac + intersect_abc, b - intersect_ab -\n",
    "         intersect_cb + intersect_abc, intersect_ab - intersect_abc,\n",
    "         c - intersect_ac - intersect_cb + intersect_abc, intersect_ac -\n",
    "         intersect_abc, intersect_cb - intersect_abc, intersect_abc),\n",
    "        set_colors=(col1, col2, col3),\n",
    "        alpha=.5,\n",
    "        set_labels=(label1, label2, label3))\n",
    "    #if a - intersect_ab - intersect_ac + intersect_abc > 0:\n",
    "    #    v.get_label_by_id('100').set_text(\n",
    "    #        f'{a - intersect_ab - intersect_ac + intersect_abc:,}')\n",
    "    #if b - intersect_ab - intersect_cb + intersect_abc > 0:\n",
    "    #    v.get_label_by_id('010').set_text(\n",
    "    #        f'{b - intersect_ab - intersect_cb + intersect_abc:,}')\n",
    "    #if intersect_ab - intersect_abc > 0:\n",
    "    #    v.get_label_by_id('110').set_text(f'{intersect_ab - intersect_abc:,}')\n",
    "    #if c - intersect_ac - intersect_cb + intersect_abc > 0:\n",
    "    #    v.get_label_by_id('001').set_text(\n",
    "    #        f'{c - intersect_ac - intersect_cb + intersect_abc:,}')\n",
    "    #if intersect_ac - intersect_abc > 0:\n",
    "    #    v.get_label_by_id('101').set_text(f'{intersect_ac - intersect_abc:,}')\n",
    "    #if intersect_cb - intersect_abc > 0:\n",
    "    #    v.get_label_by_id('011').set_text(f'{intersect_cb - intersect_abc:,}')\n",
    "    #if intersect_abc > 0:\n",
    "    #    v.get_label_by_id('111').set_text(f'{intersect_abc:,}')\n",
    "    if output_file:\n",
    "        plt.title(title)\n",
    "        plt.savefig(output_file, transparent=True)\n",
    "        plt.close()"
   ]
  },
  {
   "cell_type": "markdown",
   "metadata": {},
   "source": [
    "## load data function"
   ]
  },
  {
   "cell_type": "code",
   "execution_count": 2,
   "metadata": {
    "ExecuteTime": {
     "end_time": "2021-09-07T06:56:50.659886Z",
     "start_time": "2021-09-07T06:56:50.645228Z"
    }
   },
   "outputs": [],
   "source": [
    "def load_data(file_pairs,src_dir='',dst_dir='.'):\n",
    "    import os\n",
    "    if not os.path.isdir(dst_dir):\n",
    "        os.mkdir(dst_dir)\n",
    "    for file_pair in file_pairs:\n",
    "        src = os.path.abspath(os.path.expanduser(os.path.join(src_dir,file_pair[0])))\n",
    "        dst = os.path.expanduser(os.path.join(dst_dir,file_pair[1]))\n",
    "        if os.path.isfile(dst):\n",
    "            os.remove(dst)\n",
    "        if not os.path.islink(dst):\n",
    "            os.symlink(src,dst)\n",
    "\n",
    "def load_data_suffixes(file_pairs, src_dir='', dst_dir='.', suffixes=None):\n",
    "    import os\n",
    "    if not os.path.isdir(dst_dir):\n",
    "        os.mkdir(dst_dir)\n",
    "    if not suffixes:\n",
    "        for file_pair in file_pairs:\n",
    "            src = os.path.abspath(os.path.expanduser(os.path.join(src_dir, file_pair[0])))\n",
    "            dst = os.path.expanduser(os.path.join(dst_dir, file_pair[1]))\n",
    "            if os.path.isfile(dst):\n",
    "                os.remove(dst)\n",
    "            if not os.path.islink(dst):\n",
    "                os.symlink(src, dst)\n",
    "    else:\n",
    "        for file_pair in file_pairs:\n",
    "            for suffix_pair in suffixes:\n",
    "                src = os.path.abspath(os.path.expanduser(\n",
    "                    os.path.join(src_dir, file_pair[0] + suffix_pair[0])))\n",
    "                dst = os.path.expanduser(\n",
    "                    os.path.join(dst_dir, file_pair[1] + suffix_pair[1]))\n",
    "                if os.path.isfile(dst):\n",
    "                    os.remove(dst)\n",
    "                if not os.path.islink(dst):\n",
    "                    os.symlink(src, dst)"
   ]
  },
  {
   "cell_type": "markdown",
   "metadata": {},
   "source": [
    "## make_Ramp"
   ]
  },
  {
   "cell_type": "code",
   "execution_count": 5,
   "metadata": {},
   "outputs": [],
   "source": [
    "from colour import Color\n",
    "from matplotlib.colors import LinearSegmentedColormap\n",
    "def make_Ramp( ramp_colors ): \n",
    "    color_ramp = LinearSegmentedColormap.from_list( 'my_list', [ Color( c1 ).rgb for c1 in ramp_colors ] )\n",
    "    plt.figure( figsize = (15,3))\n",
    "    plt.imshow( [list(np.arange(0, len( ramp_colors ) , 0.1)) ] , interpolation='nearest', origin='lower', cmap= color_ramp )\n",
    "    plt.xticks([])\n",
    "    plt.yticks([])\n",
    "    return color_ramp"
   ]
  },
  {
   "cell_type": "code",
   "execution_count": 6,
   "metadata": {},
   "outputs": [
    {
     "data": {
      "image/png": "[encoded data removed]",
      "text/plain": [
       "<Figure size 1080x216 with 1 Axes>"
      ]
     },
     "metadata": {},
     "output_type": "display_data"
    }
   ],
   "source": [
    "my_cmap_4 = make_Ramp(['#8BA2B2', '#91BEDF', '#8BB38D', '#F4E6B3'])"
   ]
  },
  {
   "cell_type": "markdown",
   "metadata": {},
   "source": [
    "## box plot"
   ]
  },
  {
   "cell_type": "code",
   "execution_count": 8,
   "metadata": {
    "ExecuteTime": {
     "end_time": "2021-09-07T06:58:02.656138Z",
     "start_time": "2021-09-07T06:58:02.618388Z"
    }
   },
   "outputs": [],
   "source": [
    "from seaborn.categorical import _BoxPlotter\n",
    "\n",
    "\n",
    "class box_plotter(_BoxPlotter):\n",
    "    def add_statistic_annotate(self, ax, x1, x2, y, h, value, text_type,\n",
    "                               **kws):\n",
    "        default_lw = mpl.rcParams[\"patch.linewidth\"]\n",
    "        lw = kws.get(\"linewidth\", kws.get(\"lw\", default_lw))\n",
    "        width = x2 - x1\n",
    "#         x1, x2 = x1 + .1 * width, x2 - .1 * width\n",
    "#         x1, x2 = x1 + .5, x2 - .5\n",
    "        ax.plot([x1, x1, x2, x2], [y + .5 * h, y + h, y + h, y + .5 * h],\n",
    "                lw=1.5,\n",
    "                c='k')\n",
    "        if text_type == 'raw':\n",
    "            ax.text((x1 + x2) * .5,\n",
    "                    y + h * 1.5,\n",
    "                    f'P = {value:.2e}',\n",
    "                    ha='center',\n",
    "                    va='bottom',\n",
    "                    color='k')\n",
    "        elif value >= 0.05:\n",
    "            ax.text((x1 + x2) * .5,\n",
    "                    y + h * 1.5,\n",
    "                    'n.s.',\n",
    "                    ha='center',\n",
    "                    va='bottom',\n",
    "                    color='k')\n",
    "        elif value >= 0.01:\n",
    "            ax.text((x1 + x2) * .5,\n",
    "                    y + h * 1.5,\n",
    "                    '*',\n",
    "                    ha='center',\n",
    "                    va='bottom',\n",
    "                    color='k')\n",
    "        elif value >= 0.001:\n",
    "            ax.text((x1 + x2) * .5,\n",
    "                    y_ + h * 1.5,\n",
    "                    '**',\n",
    "                    ha='center',\n",
    "                    va='bottom',\n",
    "                    color='k')\n",
    "        else:\n",
    "            ax.text((x1 + x2) * .5,\n",
    "                    y + h * 1.5,\n",
    "                    '***',\n",
    "                    ha='center',\n",
    "                    va='bottom',\n",
    "                    color='k')\n",
    "\n",
    "    def draw_statistic_annotate(self, ax, centerCol, **kwargs):\n",
    "        from operator import methodcaller\n",
    "        from scipy import stats\n",
    "        if kwargs.get('statistic_test') == 'mannwhitneyu':\n",
    "            statistic_kwargs = {\n",
    "                'use_continuity': kwargs.get('use_continuity', True),\n",
    "                'alternative': kwargs.get('alternative', None)\n",
    "            }\n",
    "        elif kwargs.get('statistic_test') == 'wilcoxon':\n",
    "            statistic_kwargs = {\n",
    "                'zero_method': kwargs.get('zero_method', 'wilcox'),\n",
    "                'correction': kwargs.get('correction', False),\n",
    "                'alternative': kwargs.get('alternative', 'two-sided')\n",
    "            }\n",
    "        elif kwargs.get('statistic_test') == 'ttest_ind':\n",
    "            statistic_kwargs = {\n",
    "                'axis': kwargs.get('axis', 0),\n",
    "                'equal_var': kwargs.get('equal_var', True),\n",
    "                'nan_policy': kwargs.get('nan_policy', 'propagate')\n",
    "            }\n",
    "        elif kwargs.get('statistic_test') == 'ttest_rel':\n",
    "            statistic_kwargs = {\n",
    "                'axis': kwargs.get('axis', 0),\n",
    "                'nan_policy': kwargs.get('nan_policy', 'propagate')\n",
    "            }\n",
    "        else:\n",
    "            raise ValueError(\n",
    "                'statistic_test must be either mannwhitneyu, wilcoxon, ttest_ind or ttest_rel.'\n",
    "            )\n",
    "        ylim = ax.get_ylim()\n",
    "        h = .05 * (ylim[1] - ylim[0])\n",
    "#         print(self.plot_hues)\n",
    "        if self.plot_hues is None:\n",
    "            if centerCol == None :\n",
    "                for i in range(len(self.plot_data) - 1):\n",
    "                    pvalue = methodcaller(kwargs.get('statistic_test'),\n",
    "                                          self.plot_data[i], self.plot_data[i + 1],\n",
    "                                          **statistic_kwargs)(stats).pvalue\n",
    "                    y = max(\n",
    "                        mpl.cbook.boxplot_stats(self.plot_data[i])[0]['whishi'],\n",
    "                        mpl.cbook.boxplot_stats(\n",
    "                            self.plot_data[i + 1])[0]['whishi']) + .25 * h\n",
    "                    self.add_statistic_annotate(ax,\n",
    "                                                i,\n",
    "                                                i + 1,\n",
    "                                                y,\n",
    "                                                h,\n",
    "                                                pvalue,\n",
    "                                                text_type=kwargs.get(\n",
    "                                                    'text_type', 'raw'))\n",
    "            else :\n",
    "                for i in range(len(self.plot_data)):\n",
    "                    if i != centerCol :\n",
    "                        pvalue = methodcaller(kwargs.get('statistic_test'),\n",
    "                                              self.plot_data[i], self.plot_data[centerCol],\n",
    "                                              **statistic_kwargs)(stats).pvalue\n",
    "                        y = max(\n",
    "                            mpl.cbook.boxplot_stats(self.plot_data[i])[0]['whishi'],\n",
    "                            mpl.cbook.boxplot_stats(\n",
    "                                self.plot_data[centerCol])[0]['whishi']) + 2 * h * i\n",
    "                        self.add_statistic_annotate(ax,\n",
    "                                                    i,\n",
    "                                                    centerCol,\n",
    "                                                    y,\n",
    "                                                    h,\n",
    "                                                    pvalue,\n",
    "                                                    text_type=kwargs.get(\n",
    "                                                        'text_type', 'raw'))\n",
    "                    \n",
    "        else:\n",
    "            for i in range(len(self.plot_data)):\n",
    "                offsets = self.hue_offsets\n",
    "                for j in range(len(self.hue_names) - 1):\n",
    "                    pvalue = methodcaller(\n",
    "                        kwargs.get('statistic_test'), self.plot_data[i][\n",
    "                            self.plot_hues[i] == self.hue_names[j]],\n",
    "                        self.plot_data[i][self.plot_hues[i] == self.hue_names[\n",
    "                            j + 1]], **statistic_kwargs)(stats).pvalue\n",
    "                    y = max(\n",
    "                        mpl.cbook.boxplot_stats(\n",
    "                            self.plot_data[i][self.plot_hues[i] ==\n",
    "                                              self.hue_names[j]])[0]['whishi'],\n",
    "                        mpl.cbook.boxplot_stats(self.plot_data[i][\n",
    "                            self.plot_hues[i] == self.hue_names[j + 1]])[0]\n",
    "                        ['whishi']) + .25 * h\n",
    "                    self.add_statistic_annotate(ax,\n",
    "                                                i + offsets[j],\n",
    "                                                i + offsets[j + 1],\n",
    "                                                y,\n",
    "                                                h,\n",
    "                                                pvalue,\n",
    "                                                text_type=kwargs.get(\n",
    "                                                    'text_type', 'raw'))\n",
    "    \n",
    "        ax.set_ylim(ylim[0], ylim[1] + 2.5 * h)\n",
    "\n",
    "\n",
    "def boxplot(x=None,\n",
    "            y=None,\n",
    "            hue=None,\n",
    "            data=None,\n",
    "            order=None,\n",
    "            hue_order=None,\n",
    "            orient=None,\n",
    "            color=None,\n",
    "            palette=None,\n",
    "            saturation=0.75,\n",
    "            width=0.8,\n",
    "            dodge=True,\n",
    "            fliersize=5,\n",
    "            linewidth=None,\n",
    "            whis=1.5,\n",
    "            ax=None,\n",
    "            statistic_args=None,\n",
    "            centerCol=None,\n",
    "            **kwargs):\n",
    "    plotter = box_plotter(x, y, hue, data, order, hue_order, orient, color,\n",
    "                          palette, saturation, width, dodge, fliersize,\n",
    "                          linewidth)\n",
    "    if ax is None:\n",
    "        ax = plt.gca()\n",
    "    kwargs.update(dict(whis=whis))\n",
    "    plotter.draw_boxplot(ax, kwargs)\n",
    "    plotter.annotate_axes(ax)\n",
    "    if statistic_args:\n",
    "        kwargs = statistic_args\n",
    "        plotter.draw_statistic_annotate(ax, centerCol, **kwargs)\n",
    "    if plotter.orient == \"h\":\n",
    "        ax.invert_yaxis()"
   ]
  },
  {
   "cell_type": "markdown",
   "metadata": {},
   "source": [
    "# 1e5 v.s. 1e4 v.s. 1e3"
   ]
  },
  {
   "cell_type": "code",
   "execution_count": 40,
   "metadata": {},
   "outputs": [],
   "source": [
    "os.chdir(\"/mnt/Storage/home/wangyiman/fitCUTRUN/revision_1/analysis/TF/comparison\")"
   ]
  },
  {
   "cell_type": "markdown",
   "metadata": {},
   "source": [
    "## venn plot -- Fig.2C S3C "
   ]
  },
  {
   "cell_type": "code",
   "execution_count": 250,
   "metadata": {
    "ExecuteTime": {
     "end_time": "2021-09-10T04:13:07.410153Z",
     "start_time": "2021-09-10T04:13:06.164211Z"
    }
   },
   "outputs": [
    {
     "name": "stdout",
     "output_type": "stream",
     "text": [
      "11698 113 3230 14 6 18 525\n"
     ]
    }
   ],
   "source": [
    "peak_overlap_venn3(\n",
    "    'ATF1_1e5_excludeIgG_filtered_peaks.narrowPeak',\n",
    "    'ATF1_1e4_excludeIgG_filtered_peaks.narrowPeak',\n",
    "    'ATF1_5e3_excludeIgG_filtered_peaks.narrowPeak',\n",
    "    label1='1e5',\n",
    "    label2='1e4',\n",
    "    label3='5e3',\n",
    "    title = 'ATF1 peak numbers',\n",
    "    col1='#98BDD8',\n",
    "    col2='#92AC93',\n",
    "    col3='#6F7B88',\n",
    "    output_file='/mnt/Storage/home/wangyiman/fitCUTRUN/revision_1/analysis/figures/Supple_Fig3C_Venn3_reduceInput_ATF1.pdf')"
   ]
  },
  {
   "cell_type": "code",
   "execution_count": 251,
   "metadata": {
    "ExecuteTime": {
     "end_time": "2021-09-10T04:13:09.249201Z",
     "start_time": "2021-09-10T04:13:07.564602Z"
    }
   },
   "outputs": [
    {
     "name": "stdout",
     "output_type": "stream",
     "text": [
      "12229 421 4150 16 18 34 1445\n"
     ]
    }
   ],
   "source": [
    "peak_overlap_venn3(\n",
    "    'ELF1_1e5_excludeIgG_filtered_peaks.narrowPeak',\n",
    "    'ELF1_1e4_excludeIgG_filtered_peaks.narrowPeak',\n",
    "    'ELF1_5e3_excludeIgG_filtered_peaks.narrowPeak',\n",
    "    label1='1e5',\n",
    "    label2='1e4',\n",
    "    label3='5e3',\n",
    "    title = 'ELF1 peak numbers',\n",
    "    col1='#98BDD8',\n",
    "    col2='#92AC93',\n",
    "    col3='#6F7B88',\n",
    "    output_file='/mnt/Storage/home/wangyiman/fitCUTRUN/revision_1/analysis/figures/Fig2C_Venn3_reduceInput_ELF1.pdf')"
   ]
  },
  {
   "cell_type": "markdown",
   "metadata": {},
   "source": [
    "## scatter plot -- Fig.2B S3B S3E S3F"
   ]
  },
  {
   "cell_type": "code",
   "execution_count": 133,
   "metadata": {},
   "outputs": [],
   "source": [
    "os.chdir('/mnt/Storage/home/wangyiman/fitCUTRUN/revision_1/analysis/TF/comparison/reduceInput_corr')"
   ]
  },
  {
   "cell_type": "markdown",
   "metadata": {},
   "source": [
    "### FitCR"
   ]
  },
  {
   "cell_type": "code",
   "execution_count": 134,
   "metadata": {
    "ExecuteTime": {
     "end_time": "2021-09-10T02:52:45.579152Z",
     "start_time": "2021-09-10T02:52:45.019931Z"
    }
   },
   "outputs": [
    {
     "data": {
      "text/plain": [
       "0"
      ]
     },
     "execution_count": 134,
     "metadata": {},
     "output_type": "execute_result"
    }
   ],
   "source": [
    "# load promoter\n",
    "import subprocess\n",
    "cmd = '''grep NM ~/source/bySpecies/hg38/refGene/hg38.refGene.genePredExt | awk '{if($3==\"+\") print $2\"\\t\"$4-3000\"\\t\"$4+3000\"\\t\"$1\"\\t0\\t\"$3; else print $2\"\\t\"$5-3000\"\\t\"$5+3000\"\\t\"$1\"\\t0\\t\"$3}' | awk '{if($2<0) print $1\"\\t0\\t\"$3\"\\t\"$4\"\\t\"$5\"\\t\"$6; else print $0}' | awk '$1 !~ /_/' > hg38_refGene_promoter.bed'''\n",
    "subprocess.call(cmd,shell=True)"
   ]
  },
  {
   "cell_type": "code",
   "execution_count": 135,
   "metadata": {
    "ExecuteTime": {
     "end_time": "2021-09-10T03:18:56.091734Z",
     "start_time": "2021-09-10T03:18:51.574889Z"
    }
   },
   "outputs": [
    {
     "data": {
      "text/html": [
       "<div>\n",
       "<style scoped>\n",
       "    .dataframe tbody tr th:only-of-type {\n",
       "        vertical-align: middle;\n",
       "    }\n",
       "\n",
       "    .dataframe tbody tr th {\n",
       "        vertical-align: top;\n",
       "    }\n",
       "\n",
       "    .dataframe thead th {\n",
       "        text-align: right;\n",
       "    }\n",
       "</style>\n",
       "<table border=\"1\" class=\"dataframe\">\n",
       "  <thead>\n",
       "    <tr style=\"text-align: right;\">\n",
       "      <th></th>\n",
       "      <th>ATF1_1e5</th>\n",
       "      <th>ATF1_1e4</th>\n",
       "      <th>ATF1_5e3</th>\n",
       "      <th>ELF1_1e5</th>\n",
       "      <th>ELF1_1e4</th>\n",
       "      <th>ELF1_5e3</th>\n",
       "    </tr>\n",
       "  </thead>\n",
       "  <tbody>\n",
       "    <tr>\n",
       "      <th>P1</th>\n",
       "      <td>6.726943</td>\n",
       "      <td>3.345269</td>\n",
       "      <td>1.698175</td>\n",
       "      <td>2.589010</td>\n",
       "      <td>1.701873</td>\n",
       "      <td>1.902845</td>\n",
       "    </tr>\n",
       "    <tr>\n",
       "      <th>P2</th>\n",
       "      <td>4.520067</td>\n",
       "      <td>2.485431</td>\n",
       "      <td>2.004517</td>\n",
       "      <td>5.765040</td>\n",
       "      <td>3.082847</td>\n",
       "      <td>1.994171</td>\n",
       "    </tr>\n",
       "    <tr>\n",
       "      <th>P3</th>\n",
       "      <td>5.456663</td>\n",
       "      <td>2.828481</td>\n",
       "      <td>1.795281</td>\n",
       "      <td>9.773539</td>\n",
       "      <td>5.147672</td>\n",
       "      <td>3.287780</td>\n",
       "    </tr>\n",
       "    <tr>\n",
       "      <th>P4</th>\n",
       "      <td>1.237479</td>\n",
       "      <td>0.865363</td>\n",
       "      <td>2.055381</td>\n",
       "      <td>1.808574</td>\n",
       "      <td>1.995106</td>\n",
       "      <td>2.056596</td>\n",
       "    </tr>\n",
       "    <tr>\n",
       "      <th>P5</th>\n",
       "      <td>5.603713</td>\n",
       "      <td>3.246776</td>\n",
       "      <td>2.458830</td>\n",
       "      <td>15.428824</td>\n",
       "      <td>7.973770</td>\n",
       "      <td>4.360586</td>\n",
       "    </tr>\n",
       "  </tbody>\n",
       "</table>\n",
       "</div>"
      ],
      "text/plain": [
       "    ATF1_1e5  ATF1_1e4  ATF1_5e3   ELF1_1e5  ELF1_1e4  ELF1_5e3\n",
       "P1  6.726943  3.345269  1.698175   2.589010  1.701873  1.902845\n",
       "P2  4.520067  2.485431  2.004517   5.765040  3.082847  1.994171\n",
       "P3  5.456663  2.828481  1.795281   9.773539  5.147672  3.287780\n",
       "P4  1.237479  0.865363  2.055381   1.808574  1.995106  2.056596\n",
       "P5  5.603713  3.246776  2.458830  15.428824  7.973770  4.360586"
      ]
     },
     "execution_count": 135,
     "metadata": {},
     "output_type": "execute_result"
    }
   ],
   "source": [
    "bw_scan = True\n",
    "\n",
    "import subprocess\n",
    "def get_bigwig_mean(bigwig_file):\n",
    "    import subprocess\n",
    "    fold = subprocess.check_output(f'bigWigInfo {bigwig_file} | grep mean',\n",
    "                                   shell=True).decode()\n",
    "    fold = float(fold.split()[1])\n",
    "    return fold\n",
    "name = 'hg38_promoter'\n",
    "capture_regions_file = 'hg38_refGene_promoter.bed'\n",
    "bigwig_files = [\n",
    "    'ATF1_1e5.bw', 'ATF1_1e4.bw', 'ATF1_5e3.bw','ELF1_1e5.bw',  'ELF1_1e4.bw', 'ELF1_5e3.bw'\n",
    "]\n",
    "labels = ['ATF1_1e5', 'ATF1_1e4', 'ATF1_5e3', 'ELF1_1e5',  'ELF1_1e4', 'ELF1_5e3']\n",
    "cmd = f'''cut -f 1-3 {capture_regions_file} | awk '{{print $1\"\\\\t\"$2\"\\\\t\"$3\"\\\\tP\"NR}}' > captures_regions.bed'''\n",
    "subprocess.call(cmd, shell=True)\n",
    "for label, bigwig_file in zip(labels, bigwig_files):\n",
    "    bw_scan_cmd = f'bigWigAverageOverBed {bigwig_file} captures_regions.bed {name}_{label}_signal.tsv'\n",
    "    if bw_scan:\n",
    "        print(subprocess.check_output(bw_scan_cmd.split()).decode(), end='')\n",
    "capture_regions = pd.read_csv('captures_regions.bed', sep='\\t', header=None)\n",
    "capture_signal = pd.DataFrame(index=capture_regions[3].to_list())\n",
    "for label, bigwig_file in zip(labels, bigwig_files):\n",
    "    avg = get_bigwig_mean(bigwig_file)\n",
    "    capture_signal[label] = pd.read_csv(\n",
    "        f'{name}_{label}_signal.tsv',\n",
    "        sep='\\t',\n",
    "        header=None,\n",
    "        index_col=0,\n",
    "        names=['size', 'covered', 'sum', 'mean0', 'mean'])['mean0'] / avg\n",
    "capture_signal.head()"
   ]
  },
  {
   "cell_type": "code",
   "execution_count": 137,
   "metadata": {
    "ExecuteTime": {
     "end_time": "2021-09-10T02:52:50.435784Z",
     "start_time": "2021-09-10T02:52:50.339558Z"
    }
   },
   "outputs": [
    {
     "data": {
      "text/html": [
       "<div>\n",
       "<style scoped>\n",
       "    .dataframe tbody tr th:only-of-type {\n",
       "        vertical-align: middle;\n",
       "    }\n",
       "\n",
       "    .dataframe tbody tr th {\n",
       "        vertical-align: top;\n",
       "    }\n",
       "\n",
       "    .dataframe thead th {\n",
       "        text-align: right;\n",
       "    }\n",
       "</style>\n",
       "<table border=\"1\" class=\"dataframe\">\n",
       "  <thead>\n",
       "    <tr style=\"text-align: right;\">\n",
       "      <th></th>\n",
       "      <th>ATF1_1e5</th>\n",
       "      <th>ATF1_1e4</th>\n",
       "      <th>ATF1_5e3</th>\n",
       "      <th>ELF1_1e5</th>\n",
       "      <th>ELF1_1e4</th>\n",
       "      <th>ELF1_5e3</th>\n",
       "    </tr>\n",
       "  </thead>\n",
       "  <tbody>\n",
       "    <tr>\n",
       "      <th>ATF1_1e5</th>\n",
       "      <td>1.000000</td>\n",
       "      <td>0.940421</td>\n",
       "      <td>0.811308</td>\n",
       "      <td>0.779326</td>\n",
       "      <td>0.692275</td>\n",
       "      <td>0.653183</td>\n",
       "    </tr>\n",
       "    <tr>\n",
       "      <th>ATF1_1e4</th>\n",
       "      <td>0.940421</td>\n",
       "      <td>1.000000</td>\n",
       "      <td>0.897242</td>\n",
       "      <td>0.748059</td>\n",
       "      <td>0.703503</td>\n",
       "      <td>0.719370</td>\n",
       "    </tr>\n",
       "    <tr>\n",
       "      <th>ATF1_5e3</th>\n",
       "      <td>0.811308</td>\n",
       "      <td>0.897242</td>\n",
       "      <td>1.000000</td>\n",
       "      <td>0.704826</td>\n",
       "      <td>0.698870</td>\n",
       "      <td>0.789619</td>\n",
       "    </tr>\n",
       "    <tr>\n",
       "      <th>ELF1_1e5</th>\n",
       "      <td>0.779326</td>\n",
       "      <td>0.748059</td>\n",
       "      <td>0.704826</td>\n",
       "      <td>1.000000</td>\n",
       "      <td>0.931153</td>\n",
       "      <td>0.838901</td>\n",
       "    </tr>\n",
       "    <tr>\n",
       "      <th>ELF1_1e4</th>\n",
       "      <td>0.692275</td>\n",
       "      <td>0.703503</td>\n",
       "      <td>0.698870</td>\n",
       "      <td>0.931153</td>\n",
       "      <td>1.000000</td>\n",
       "      <td>0.909095</td>\n",
       "    </tr>\n",
       "    <tr>\n",
       "      <th>ELF1_5e3</th>\n",
       "      <td>0.653183</td>\n",
       "      <td>0.719370</td>\n",
       "      <td>0.789619</td>\n",
       "      <td>0.838901</td>\n",
       "      <td>0.909095</td>\n",
       "      <td>1.000000</td>\n",
       "    </tr>\n",
       "  </tbody>\n",
       "</table>\n",
       "</div>"
      ],
      "text/plain": [
       "          ATF1_1e5  ATF1_1e4  ATF1_5e3  ELF1_1e5  ELF1_1e4  ELF1_5e3\n",
       "ATF1_1e5  1.000000  0.940421  0.811308  0.779326  0.692275  0.653183\n",
       "ATF1_1e4  0.940421  1.000000  0.897242  0.748059  0.703503  0.719370\n",
       "ATF1_5e3  0.811308  0.897242  1.000000  0.704826  0.698870  0.789619\n",
       "ELF1_1e5  0.779326  0.748059  0.704826  1.000000  0.931153  0.838901\n",
       "ELF1_1e4  0.692275  0.703503  0.698870  0.931153  1.000000  0.909095\n",
       "ELF1_5e3  0.653183  0.719370  0.789619  0.838901  0.909095  1.000000"
      ]
     },
     "execution_count": 137,
     "metadata": {},
     "output_type": "execute_result"
    }
   ],
   "source": [
    "capture_signal.corr()"
   ]
  },
  {
   "cell_type": "code",
   "execution_count": 139,
   "metadata": {
    "ExecuteTime": {
     "end_time": "2021-09-10T03:25:33.824707Z",
     "start_time": "2021-09-10T03:25:19.831106Z"
    }
   },
   "outputs": [
    {
     "data": {
      "image/png": "[encoded data removed]",
      "text/plain": [
       "<Figure size 172.8x172.8 with 1 Axes>"
      ]
     },
     "metadata": {},
     "output_type": "display_data"
    },
    {
     "data": {
      "image/png": "[encoded data removed]",
      "text/plain": [
       "<Figure size 172.8x172.8 with 1 Axes>"
      ]
     },
     "metadata": {},
     "output_type": "display_data"
    },
    {
     "data": {
      "image/png": "[encoded data removed]",
      "text/plain": [
       "<Figure size 172.8x172.8 with 1 Axes>"
      ]
     },
     "metadata": {},
     "output_type": "display_data"
    },
    {
     "data": {
      "image/png": "[encoded data removed]",
      "text/plain": [
       "<Figure size 172.8x172.8 with 1 Axes>"
      ]
     },
     "metadata": {},
     "output_type": "display_data"
    }
   ],
   "source": [
    "from sklearn.linear_model import LinearRegression\n",
    "from sklearn.metrics import r2_score\n",
    "import statsmodels.api as sm\n",
    "import copy\n",
    "\n",
    "regr = LinearRegression()\n",
    "\n",
    "with sns.axes_style('white', rc={\n",
    "        'xtick.bottom': True,\n",
    "        'ytick.left': True\n",
    "}), sns.plotting_context('paper',\n",
    "                         rc={\n",
    "                             'axes.titlesize': 10,\n",
    "                             'axes.labelsize': 8,\n",
    "                             'xtick.labelsize': 6,\n",
    "                             'ytick.labelsize': 6,\n",
    "                             'legend.fontsize': 6\n",
    "                         }):\n",
    "    fig, ax = plt.subplots(figsize=(4.8 * .5, 4.8 * .5))\n",
    "    sns.scatterplot(\n",
    "        capture_signal['ATF1_1e5'],\n",
    "        capture_signal['ATF1_1e4'],\n",
    "        s=5,\n",
    "        color='navy',\n",
    "        alpha=1,\n",
    "        #edgecolor=None,\n",
    "    )\n",
    "    regr.fit(capture_signal['ATF1_1e5'].values.reshape(-1,1),capture_signal['ATF1_1e4'].values.reshape(-1,1))\n",
    "    test = copy.deepcopy(capture_signal['ATF1_1e5'].values.reshape(-1,1))\n",
    "    test.sort(axis=0)\n",
    "    predict = regr.predict(test)\n",
    "    ax.plot(test,predict,lw=1,color='g')\n",
    "    X = capture_signal['ATF1_1e5']\n",
    "    y = capture_signal['ATF1_1e4']\n",
    "    X2 = sm.add_constant(X)\n",
    "    est = sm.OLS(y, X2)\n",
    "    est2 = est.fit()\n",
    "    ax.set_xlabel('Fold of 1e5 cell input sample')\n",
    "    ax.set_ylabel('Fold of 1e4 cell input sample')\n",
    "    ax.set_title(f\"ATF1 ({est2.rsquared:.2f})\")\n",
    "    ax.set_xlim(-40/20,40)\n",
    "    ax.set_ylim(-20/20,20)\n",
    "    fig.tight_layout()\n",
    "    fig.savefig('/mnt/Storage/home/wangyiman/fitCUTRUN/revision_1/analysis/figures/Supple_Fig3B_ATF1_1e5_1e4.pdf', transparent=True)\n",
    "\n",
    "    fig, ax = plt.subplots(figsize=(4.8 * .5, 4.8 * .5))\n",
    "    sns.scatterplot(\n",
    "        capture_signal['ATF1_1e5'],\n",
    "        capture_signal['ATF1_5e3'],\n",
    "        s=5,\n",
    "        color='navy',\n",
    "        alpha=1,\n",
    "        #edgecolor=None,\n",
    "    )\n",
    "    regr.fit(capture_signal['ATF1_1e5'].values.reshape(-1,1),capture_signal['ATF1_5e3'].values.reshape(-1,1))\n",
    "    test = copy.deepcopy(capture_signal['ATF1_1e5'].values.reshape(-1,1))\n",
    "    test.sort(axis=0)\n",
    "    predict = regr.predict(test)\n",
    "    ax.plot(test,predict,lw=1,color='g')\n",
    "    X = capture_signal['ATF1_1e5']\n",
    "    y = capture_signal['ATF1_5e3']\n",
    "    X2 = sm.add_constant(X)\n",
    "    est = sm.OLS(y, X2)\n",
    "    est2 = est.fit()\n",
    "    ax.set_xlabel('Fold of 1e5 cell input sample')\n",
    "    ax.set_ylabel('Fold of 5e3 cell input sample')\n",
    "    ax.set_title(f'ATF1 ({est2.rsquared:.2f})')\n",
    "    ax.set_xlim(-40/20,40)\n",
    "    ax.set_ylim(-10/20,10)\n",
    "    fig.tight_layout()\n",
    "    fig.savefig('/mnt/Storage/home/wangyiman/fitCUTRUN/revision_1/analysis/figures/Supple_Fig3B_ATF1_1e5_5e3.pdf', transparent=True)\n",
    "    \n",
    "    fig, ax = plt.subplots(figsize=(4.8 * .5, 4.8 * .5))\n",
    "    sns.scatterplot(\n",
    "        capture_signal['ELF1_1e5'],\n",
    "        capture_signal['ELF1_1e4'],\n",
    "        s=5,\n",
    "        color='navy',\n",
    "        alpha=1,\n",
    "        #edgecolor=None,\n",
    "    )\n",
    "    regr.fit(capture_signal['ELF1_1e5'].values.reshape(-1,1),capture_signal['ELF1_1e4'].values.reshape(-1,1))\n",
    "    test = copy.deepcopy(capture_signal['ATF1_1e5'].values.reshape(-1,1))\n",
    "    test.sort(axis=0)\n",
    "    predict = regr.predict(test)\n",
    "    ax.plot(test,predict,lw=1,color='g')\n",
    "    X = capture_signal['ELF1_1e5']\n",
    "    y = capture_signal['ELF1_1e4']\n",
    "    X2 = sm.add_constant(X)\n",
    "    est = sm.OLS(y, X2)\n",
    "    est2 = est.fit()\n",
    "    ax.set_xlabel('Fold of 1e5 cell input sample')\n",
    "    ax.set_ylabel('Fold of 1e4 cell input sample')\n",
    "    ax.set_title(f'ELF1 ({est2.rsquared:.2f})')\n",
    "    ax.set_xlim(-30/20,30)\n",
    "    ax.set_ylim(-20/20,20)\n",
    "    fig.tight_layout()\n",
    "    fig.savefig('/mnt/Storage/home/wangyiman/fitCUTRUN/revision_1/analysis/figures/Fig2B_ELF1_1e5_1e4.pdf', transparent=True)\n",
    "    \n",
    "    fig, ax = plt.subplots(figsize=(4.8 * .5, 4.8 * .5))\n",
    "    sns.scatterplot(\n",
    "        capture_signal['ELF1_1e5'],\n",
    "        capture_signal['ELF1_5e3'],\n",
    "        s=5,\n",
    "        color='navy',\n",
    "        alpha=1,\n",
    "        #edgecolor=None,\n",
    "    )\n",
    "    regr.fit(capture_signal['ELF1_1e5'].values.reshape(-1,1),capture_signal['ELF1_5e3'].values.reshape(-1,1))\n",
    "    test = copy.deepcopy(capture_signal['ELF1_1e5'].values.reshape(-1,1))\n",
    "    test.sort(axis=0)\n",
    "    predict = regr.predict(test)\n",
    "    ax.plot(test,predict,lw=1,color='g')\n",
    "    X = capture_signal['ELF1_1e5']\n",
    "    y = capture_signal['ELF1_5e3']\n",
    "    X2 = sm.add_constant(X)\n",
    "    est = sm.OLS(y, X2)\n",
    "    est2 = est.fit()\n",
    "    ax.set_xlabel('Fold of 1e5 cell input sample')\n",
    "    ax.set_ylabel('Fold of 5e3 cell input sample')\n",
    "    ax.set_title(f'ELF1 ({est2.rsquared:.2f})')\n",
    "    ax.set_xlim(-30/20,30)\n",
    "    ax.set_ylim(-12/20,12)\n",
    "    fig.tight_layout()\n",
    "    fig.savefig('/mnt/Storage/home/wangyiman/fitCUTRUN/revision_1/analysis/figures/Fig2B_ELF1_1e5_5e3.pdf', transparent=True)"
   ]
  },
  {
   "cell_type": "markdown",
   "metadata": {},
   "source": [
    "### FlagCR"
   ]
  },
  {
   "cell_type": "code",
   "execution_count": 140,
   "metadata": {
    "ExecuteTime": {
     "end_time": "2021-09-10T03:18:56.091734Z",
     "start_time": "2021-09-10T03:18:51.574889Z"
    }
   },
   "outputs": [
    {
     "data": {
      "text/html": [
       "<div>\n",
       "<style scoped>\n",
       "    .dataframe tbody tr th:only-of-type {\n",
       "        vertical-align: middle;\n",
       "    }\n",
       "\n",
       "    .dataframe tbody tr th {\n",
       "        vertical-align: top;\n",
       "    }\n",
       "\n",
       "    .dataframe thead th {\n",
       "        text-align: right;\n",
       "    }\n",
       "</style>\n",
       "<table border=\"1\" class=\"dataframe\">\n",
       "  <thead>\n",
       "    <tr style=\"text-align: right;\">\n",
       "      <th></th>\n",
       "      <th>ATF1_FlagCR_1e5</th>\n",
       "      <th>ATF1_FlagCR_5e3</th>\n",
       "      <th>ELF1_FlagCR_1e5</th>\n",
       "      <th>ELF1_FlagCR_5e3</th>\n",
       "    </tr>\n",
       "  </thead>\n",
       "  <tbody>\n",
       "    <tr>\n",
       "      <th>P1</th>\n",
       "      <td>9.448370</td>\n",
       "      <td>2.519131</td>\n",
       "      <td>1.984236</td>\n",
       "      <td>2.185440</td>\n",
       "    </tr>\n",
       "    <tr>\n",
       "      <th>P2</th>\n",
       "      <td>2.871240</td>\n",
       "      <td>2.625028</td>\n",
       "      <td>3.145542</td>\n",
       "      <td>1.472165</td>\n",
       "    </tr>\n",
       "    <tr>\n",
       "      <th>P3</th>\n",
       "      <td>6.179687</td>\n",
       "      <td>2.315481</td>\n",
       "      <td>4.918638</td>\n",
       "      <td>1.810836</td>\n",
       "    </tr>\n",
       "    <tr>\n",
       "      <th>P4</th>\n",
       "      <td>1.528129</td>\n",
       "      <td>4.345857</td>\n",
       "      <td>1.434713</td>\n",
       "      <td>3.151678</td>\n",
       "    </tr>\n",
       "    <tr>\n",
       "      <th>P5</th>\n",
       "      <td>10.077429</td>\n",
       "      <td>2.918283</td>\n",
       "      <td>5.197456</td>\n",
       "      <td>2.956777</td>\n",
       "    </tr>\n",
       "  </tbody>\n",
       "</table>\n",
       "</div>"
      ],
      "text/plain": [
       "    ATF1_FlagCR_1e5  ATF1_FlagCR_5e3  ELF1_FlagCR_1e5  ELF1_FlagCR_5e3\n",
       "P1         9.448370         2.519131         1.984236         2.185440\n",
       "P2         2.871240         2.625028         3.145542         1.472165\n",
       "P3         6.179687         2.315481         4.918638         1.810836\n",
       "P4         1.528129         4.345857         1.434713         3.151678\n",
       "P5        10.077429         2.918283         5.197456         2.956777"
      ]
     },
     "execution_count": 140,
     "metadata": {},
     "output_type": "execute_result"
    }
   ],
   "source": [
    "bw_scan = True\n",
    "\n",
    "import subprocess\n",
    "def get_bigwig_mean(bigwig_file):\n",
    "    import subprocess\n",
    "    fold = subprocess.check_output(f'bigWigInfo {bigwig_file} | grep mean',\n",
    "                                   shell=True).decode()\n",
    "    fold = float(fold.split()[1])\n",
    "    return fold\n",
    "name = 'hg38_promoter'\n",
    "capture_regions_file = 'hg38_refGene_promoter.bed'\n",
    "bigwig_files = [\n",
    "    'ATF1_FlagCR_1e5.bw', 'ATF1_FlagCR_5e3.bw', 'ELF1_FlagCR_1e5.bw', 'ELF1_FlagCR_5e3.bw',\n",
    "]\n",
    "labels = ['ATF1_FlagCR_1e5', 'ATF1_FlagCR_5e3', 'ELF1_FlagCR_1e5', 'ELF1_FlagCR_5e3']\n",
    "cmd = f'''cut -f 1-3 {capture_regions_file} | awk '{{print $1\"\\\\t\"$2\"\\\\t\"$3\"\\\\tP\"NR}}' > captures_regions.bed'''\n",
    "subprocess.call(cmd, shell=True)\n",
    "for label, bigwig_file in zip(labels, bigwig_files):\n",
    "    bw_scan_cmd = f'bigWigAverageOverBed {bigwig_file} captures_regions.bed {name}_{label}_signal.tsv'\n",
    "    if bw_scan:\n",
    "        print(subprocess.check_output(bw_scan_cmd.split()).decode(), end='')\n",
    "capture_regions = pd.read_csv('captures_regions.bed', sep='\\t', header=None)\n",
    "capture_signal_FlagCR = pd.DataFrame(index=capture_regions[3].to_list())\n",
    "for label, bigwig_file in zip(labels, bigwig_files):\n",
    "    avg = get_bigwig_mean(bigwig_file)\n",
    "    capture_signal_FlagCR[label] = pd.read_csv(\n",
    "        f'{name}_{label}_signal.tsv',\n",
    "        sep='\\t',\n",
    "        header=None,\n",
    "        index_col=0,\n",
    "        names=['size', 'covered', 'sum', 'mean0', 'mean'])['mean0'] / avg\n",
    "capture_signal_FlagCR.head()"
   ]
  },
  {
   "cell_type": "code",
   "execution_count": 141,
   "metadata": {
    "ExecuteTime": {
     "end_time": "2021-09-10T02:52:50.435784Z",
     "start_time": "2021-09-10T02:52:50.339558Z"
    }
   },
   "outputs": [
    {
     "data": {
      "text/html": [
       "<div>\n",
       "<style scoped>\n",
       "    .dataframe tbody tr th:only-of-type {\n",
       "        vertical-align: middle;\n",
       "    }\n",
       "\n",
       "    .dataframe tbody tr th {\n",
       "        vertical-align: top;\n",
       "    }\n",
       "\n",
       "    .dataframe thead th {\n",
       "        text-align: right;\n",
       "    }\n",
       "</style>\n",
       "<table border=\"1\" class=\"dataframe\">\n",
       "  <thead>\n",
       "    <tr style=\"text-align: right;\">\n",
       "      <th></th>\n",
       "      <th>ATF1_FlagCR_1e5</th>\n",
       "      <th>ATF1_FlagCR_5e3</th>\n",
       "      <th>ELF1_FlagCR_1e5</th>\n",
       "      <th>ELF1_FlagCR_5e3</th>\n",
       "    </tr>\n",
       "  </thead>\n",
       "  <tbody>\n",
       "    <tr>\n",
       "      <th>ATF1_FlagCR_1e5</th>\n",
       "      <td>1.000000</td>\n",
       "      <td>0.744591</td>\n",
       "      <td>0.738043</td>\n",
       "      <td>0.637452</td>\n",
       "    </tr>\n",
       "    <tr>\n",
       "      <th>ATF1_FlagCR_5e3</th>\n",
       "      <td>0.744591</td>\n",
       "      <td>1.000000</td>\n",
       "      <td>0.737652</td>\n",
       "      <td>0.885819</td>\n",
       "    </tr>\n",
       "    <tr>\n",
       "      <th>ELF1_FlagCR_1e5</th>\n",
       "      <td>0.738043</td>\n",
       "      <td>0.737652</td>\n",
       "      <td>1.000000</td>\n",
       "      <td>0.765526</td>\n",
       "    </tr>\n",
       "    <tr>\n",
       "      <th>ELF1_FlagCR_5e3</th>\n",
       "      <td>0.637452</td>\n",
       "      <td>0.885819</td>\n",
       "      <td>0.765526</td>\n",
       "      <td>1.000000</td>\n",
       "    </tr>\n",
       "  </tbody>\n",
       "</table>\n",
       "</div>"
      ],
      "text/plain": [
       "                 ATF1_FlagCR_1e5  ATF1_FlagCR_5e3  ELF1_FlagCR_1e5  \\\n",
       "ATF1_FlagCR_1e5         1.000000         0.744591         0.738043   \n",
       "ATF1_FlagCR_5e3         0.744591         1.000000         0.737652   \n",
       "ELF1_FlagCR_1e5         0.738043         0.737652         1.000000   \n",
       "ELF1_FlagCR_5e3         0.637452         0.885819         0.765526   \n",
       "\n",
       "                 ELF1_FlagCR_5e3  \n",
       "ATF1_FlagCR_1e5         0.637452  \n",
       "ATF1_FlagCR_5e3         0.885819  \n",
       "ELF1_FlagCR_1e5         0.765526  \n",
       "ELF1_FlagCR_5e3         1.000000  "
      ]
     },
     "execution_count": 141,
     "metadata": {},
     "output_type": "execute_result"
    }
   ],
   "source": [
    "capture_signal_FlagCR.corr()"
   ]
  },
  {
   "cell_type": "code",
   "execution_count": 146,
   "metadata": {
    "ExecuteTime": {
     "end_time": "2021-09-10T03:25:33.824707Z",
     "start_time": "2021-09-10T03:25:19.831106Z"
    }
   },
   "outputs": [
    {
     "data": {
      "image/png": "[encoded data removed]",
      "text/plain": [
       "<Figure size 172.8x172.8 with 1 Axes>"
      ]
     },
     "metadata": {},
     "output_type": "display_data"
    },
    {
     "data": {
      "image/png": "[encoded data removed]",
      "text/plain": [
       "<Figure size 172.8x172.8 with 1 Axes>"
      ]
     },
     "metadata": {},
     "output_type": "display_data"
    }
   ],
   "source": [
    "from sklearn.linear_model import LinearRegression\n",
    "from sklearn.metrics import r2_score\n",
    "import statsmodels.api as sm\n",
    "import copy\n",
    "\n",
    "regr = LinearRegression()\n",
    "\n",
    "with sns.axes_style('white', rc={\n",
    "        'xtick.bottom': True,\n",
    "        'ytick.left': True\n",
    "}), sns.plotting_context('paper',\n",
    "                         rc={\n",
    "                             'axes.titlesize': 10,\n",
    "                             'axes.labelsize': 8,\n",
    "                             'xtick.labelsize': 6,\n",
    "                             'ytick.labelsize': 6,\n",
    "                             'legend.fontsize': 6\n",
    "                         }):\n",
    "\n",
    "\n",
    "    fig, ax = plt.subplots(figsize=(4.8 * .5, 4.8 * .5))\n",
    "    sns.scatterplot(\n",
    "        capture_signal_FlagCR['ATF1_FlagCR_1e5'],\n",
    "        capture_signal_FlagCR['ATF1_FlagCR_5e3'],\n",
    "        s=5,\n",
    "        color='navy',\n",
    "        alpha=1,\n",
    "        #edgecolor=None,\n",
    "    )\n",
    "    regr.fit(capture_signal_FlagCR['ATF1_FlagCR_1e5'].values.reshape(-1,1),capture_signal_FlagCR['ATF1_FlagCR_5e3'].values.reshape(-1,1))\n",
    "    test = copy.deepcopy(capture_signal_FlagCR['ATF1_FlagCR_1e5'].values.reshape(-1,1))\n",
    "    test.sort(axis=0)\n",
    "    predict = regr.predict(test)\n",
    "    ax.plot(test,predict,lw=1,color='g')\n",
    "    X = capture_signal_FlagCR['ATF1_FlagCR_1e5']\n",
    "    y = capture_signal_FlagCR['ATF1_FlagCR_5e3']\n",
    "    X2 = sm.add_constant(X)\n",
    "    est = sm.OLS(y, X2)\n",
    "    est2 = est.fit()\n",
    "    ax.set_xlabel('Fold of 1e5 cell input sample')\n",
    "    ax.set_ylabel('Fold of 5e3 cell input sample')\n",
    "    ax.set_title(f'ATF1 ({est2.rsquared:.2f})')\n",
    "    ax.set_xlim(-50/20,50)\n",
    "    ax.set_ylim(-15/20,15)\n",
    "    fig.tight_layout()\n",
    "    fig.savefig('/mnt/Storage/home/wangyiman/fitCUTRUN/revision_1/analysis/figures/Supple_Fig3F_ATF1_FlagCR_1e5_5e3.pdf', transparent=True)\n",
    "    \n",
    "    \n",
    "    fig, ax = plt.subplots(figsize=(4.8 * .5, 4.8 * .5))\n",
    "    sns.scatterplot(\n",
    "        capture_signal_FlagCR['ELF1_FlagCR_1e5'],\n",
    "        capture_signal_FlagCR['ELF1_FlagCR_5e3'],\n",
    "        s=5,\n",
    "        color='navy',\n",
    "        alpha=1,\n",
    "        #edgecolor=None,\n",
    "    )\n",
    "    regr.fit(capture_signal_FlagCR['ELF1_FlagCR_1e5'].values.reshape(-1,1),capture_signal_FlagCR['ELF1_FlagCR_5e3'].values.reshape(-1,1))\n",
    "    test = copy.deepcopy(capture_signal_FlagCR['ELF1_FlagCR_1e5'].values.reshape(-1,1))\n",
    "    test.sort(axis=0)\n",
    "    predict = regr.predict(test)\n",
    "    ax.plot(test,predict,lw=1,color='g')\n",
    "    X = capture_signal_FlagCR['ELF1_FlagCR_1e5']\n",
    "    y = capture_signal_FlagCR['ELF1_FlagCR_5e3']\n",
    "    X2 = sm.add_constant(X)\n",
    "    est = sm.OLS(y, X2)\n",
    "    est2 = est.fit()\n",
    "    ax.set_xlabel('Fold of 1e5 cell input sample')\n",
    "    ax.set_ylabel('Fold of 5e3 cell input sample')\n",
    "    ax.set_title(f'ELF1 ({est2.rsquared:.2f})')\n",
    "    ax.set_xlim(-20/20,20)\n",
    "    ax.set_ylim(-12/20,12)\n",
    "    fig.tight_layout()\n",
    "    fig.savefig('/mnt/Storage/home/wangyiman/fitCUTRUN/revision_1/analysis/figures/Supple_Fig3E_ELF1_FlagCR_1e5_5e3.pdf', transparent=True)"
   ]
  },
  {
   "cell_type": "markdown",
   "metadata": {},
   "source": [
    "## box plot -- Fig.2D S3D"
   ]
  },
  {
   "cell_type": "markdown",
   "metadata": {},
   "source": [
    "### ATF1\n"
   ]
  },
  {
   "cell_type": "code",
   "execution_count": 34,
   "metadata": {
    "ExecuteTime": {
     "end_time": "2021-09-10T04:07:58.569564Z",
     "start_time": "2021-09-10T04:07:42.345736Z"
    }
   },
   "outputs": [
    {
     "data": {
      "text/html": [
       "<div>\n",
       "<style scoped>\n",
       "    .dataframe tbody tr th:only-of-type {\n",
       "        vertical-align: middle;\n",
       "    }\n",
       "\n",
       "    .dataframe tbody tr th {\n",
       "        vertical-align: top;\n",
       "    }\n",
       "\n",
       "    .dataframe thead th {\n",
       "        text-align: right;\n",
       "    }\n",
       "</style>\n",
       "<table border=\"1\" class=\"dataframe\">\n",
       "  <thead>\n",
       "    <tr style=\"text-align: right;\">\n",
       "      <th></th>\n",
       "      <th>ATF1</th>\n",
       "    </tr>\n",
       "  </thead>\n",
       "  <tbody>\n",
       "    <tr>\n",
       "      <th>ATF1_1e5_peak_1</th>\n",
       "      <td>38.895679</td>\n",
       "    </tr>\n",
       "    <tr>\n",
       "      <th>ATF1_1e5_peak_4</th>\n",
       "      <td>43.714506</td>\n",
       "    </tr>\n",
       "    <tr>\n",
       "      <th>ATF1_1e5_peak_5</th>\n",
       "      <td>71.233796</td>\n",
       "    </tr>\n",
       "    <tr>\n",
       "      <th>ATF1_1e5_peak_6</th>\n",
       "      <td>45.845062</td>\n",
       "    </tr>\n",
       "    <tr>\n",
       "      <th>ATF1_1e5_peak_7</th>\n",
       "      <td>85.311265</td>\n",
       "    </tr>\n",
       "  </tbody>\n",
       "</table>\n",
       "</div>"
      ],
      "text/plain": [
       "                      ATF1\n",
       "ATF1_1e5_peak_1  38.895679\n",
       "ATF1_1e5_peak_4  43.714506\n",
       "ATF1_1e5_peak_5  71.233796\n",
       "ATF1_1e5_peak_6  45.845062\n",
       "ATF1_1e5_peak_7  85.311265"
      ]
     },
     "execution_count": 34,
     "metadata": {},
     "output_type": "execute_result"
    }
   ],
   "source": [
    "\n",
    "bw_scan = False\n",
    "\n",
    "import subprocess\n",
    "\n",
    "def get_bigwig_mean(bigwig_file):\n",
    "    import subprocess\n",
    "    fold = subprocess.check_output(f'bigWigInfo {bigwig_file} | grep mean',\n",
    "                                   shell=True).decode()\n",
    "    fold = float(fold.split()[1])\n",
    "    return fold\n",
    "\n",
    "name = 'ATF1'\n",
    "capture_regions_file = 'ATF1_1e5_peaks_excludeIgG.narrowPeak'\n",
    "bigwig_files = [\n",
    "    'ATF1_1e5.bw'\n",
    "]\n",
    "labels = ['ATF1']\n",
    "cmd = f'cut -f 1-4 {capture_regions_file} > captures_regions.bed'\n",
    "subprocess.call(cmd, shell=True)\n",
    "for label, bigwig_file in zip(labels, bigwig_files):\n",
    "    bw_scan_cmd = f'bigWigAverageOverBed {bigwig_file} captures_regions.bed {name}_{label}_signal.tsv'\n",
    "    if bw_scan:\n",
    "        print(subprocess.check_output(bw_scan_cmd.split()).decode(), end='')\n",
    "capture_regions = pd.read_csv('captures_regions.bed', sep='\\t', header=None)\n",
    "capture_signal = pd.DataFrame(index=capture_regions[3].to_list())\n",
    "for label, bigwig_file in zip(labels, bigwig_files):\n",
    "    avg = get_bigwig_mean(bigwig_file)\n",
    "    capture_signal[label] = pd.read_csv(\n",
    "        f'{name}_{label}_signal.tsv',\n",
    "        sep='\\t',\n",
    "        header=None,\n",
    "        index_col=0,\n",
    "        names=['size', 'covered', 'sum', 'mean0', 'mean'])['mean0'] / avg\n",
    "capture_signal.head()\n",
    "\n"
   ]
  },
  {
   "cell_type": "code",
   "execution_count": 35,
   "metadata": {
    "ExecuteTime": {
     "end_time": "2021-09-10T04:07:58.926879Z",
     "start_time": "2021-09-10T04:07:58.735833Z"
    }
   },
   "outputs": [
    {
     "data": {
      "text/html": [
       "<div>\n",
       "<style scoped>\n",
       "    .dataframe tbody tr th:only-of-type {\n",
       "        vertical-align: middle;\n",
       "    }\n",
       "\n",
       "    .dataframe tbody tr th {\n",
       "        vertical-align: top;\n",
       "    }\n",
       "\n",
       "    .dataframe thead th {\n",
       "        text-align: right;\n",
       "    }\n",
       "</style>\n",
       "<table border=\"1\" class=\"dataframe\">\n",
       "  <thead>\n",
       "    <tr style=\"text-align: right;\">\n",
       "      <th></th>\n",
       "      <th>0</th>\n",
       "      <th>1</th>\n",
       "      <th>2</th>\n",
       "      <th>3</th>\n",
       "      <th>4</th>\n",
       "      <th>5</th>\n",
       "      <th>6</th>\n",
       "      <th>7</th>\n",
       "      <th>8</th>\n",
       "      <th>9</th>\n",
       "      <th>10</th>\n",
       "      <th>11</th>\n",
       "    </tr>\n",
       "  </thead>\n",
       "  <tbody>\n",
       "    <tr>\n",
       "      <th>0</th>\n",
       "      <td>chr1</td>\n",
       "      <td>136692</td>\n",
       "      <td>136811</td>\n",
       "      <td>ATF1_1e5_peak_1</td>\n",
       "      <td>135</td>\n",
       "      <td>.</td>\n",
       "      <td>10.11941</td>\n",
       "      <td>16.92333</td>\n",
       "      <td>13.55167</td>\n",
       "      <td>59</td>\n",
       "      <td>0</td>\n",
       "      <td>0</td>\n",
       "    </tr>\n",
       "    <tr>\n",
       "      <th>1</th>\n",
       "      <td>chr1</td>\n",
       "      <td>817273</td>\n",
       "      <td>817393</td>\n",
       "      <td>ATF1_1e5_peak_4</td>\n",
       "      <td>123</td>\n",
       "      <td>.</td>\n",
       "      <td>9.52228</td>\n",
       "      <td>15.62824</td>\n",
       "      <td>12.30306</td>\n",
       "      <td>70</td>\n",
       "      <td>0</td>\n",
       "      <td>0</td>\n",
       "    </tr>\n",
       "    <tr>\n",
       "      <th>2</th>\n",
       "      <td>chr1</td>\n",
       "      <td>827295</td>\n",
       "      <td>827778</td>\n",
       "      <td>ATF1_1e5_peak_5</td>\n",
       "      <td>546</td>\n",
       "      <td>.</td>\n",
       "      <td>21.11607</td>\n",
       "      <td>59.10123</td>\n",
       "      <td>54.60751</td>\n",
       "      <td>441</td>\n",
       "      <td>0</td>\n",
       "      <td>0</td>\n",
       "    </tr>\n",
       "    <tr>\n",
       "      <th>3</th>\n",
       "      <td>chr1</td>\n",
       "      <td>842867</td>\n",
       "      <td>843042</td>\n",
       "      <td>ATF1_1e5_peak_6</td>\n",
       "      <td>119</td>\n",
       "      <td>.</td>\n",
       "      <td>9.15118</td>\n",
       "      <td>15.29255</td>\n",
       "      <td>11.97950</td>\n",
       "      <td>99</td>\n",
       "      <td>0</td>\n",
       "      <td>0</td>\n",
       "    </tr>\n",
       "    <tr>\n",
       "      <th>4</th>\n",
       "      <td>chr1</td>\n",
       "      <td>911264</td>\n",
       "      <td>911434</td>\n",
       "      <td>ATF1_1e5_peak_7</td>\n",
       "      <td>243</td>\n",
       "      <td>.</td>\n",
       "      <td>13.62340</td>\n",
       "      <td>28.06910</td>\n",
       "      <td>24.35725</td>\n",
       "      <td>56</td>\n",
       "      <td>1</td>\n",
       "      <td>1</td>\n",
       "    </tr>\n",
       "  </tbody>\n",
       "</table>\n",
       "</div>"
      ],
      "text/plain": [
       "     0       1       2                3    4  5         6         7   \\\n",
       "0  chr1  136692  136811  ATF1_1e5_peak_1  135  .  10.11941  16.92333   \n",
       "1  chr1  817273  817393  ATF1_1e5_peak_4  123  .   9.52228  15.62824   \n",
       "2  chr1  827295  827778  ATF1_1e5_peak_5  546  .  21.11607  59.10123   \n",
       "3  chr1  842867  843042  ATF1_1e5_peak_6  119  .   9.15118  15.29255   \n",
       "4  chr1  911264  911434  ATF1_1e5_peak_7  243  .  13.62340  28.06910   \n",
       "\n",
       "         8    9   10  11  \n",
       "0  13.55167   59   0   0  \n",
       "1  12.30306   70   0   0  \n",
       "2  54.60751  441   0   0  \n",
       "3  11.97950   99   0   0  \n",
       "4  24.35725   56   1   1  "
      ]
     },
     "execution_count": 35,
     "metadata": {},
     "output_type": "execute_result"
    }
   ],
   "source": [
    "ATF1_ov = pd.read_csv('ATF1_peaks_ov_reduce_input.bed',sep='\\t',header=None)\n",
    "ATF1_ov.head()\n"
   ]
  },
  {
   "cell_type": "code",
   "execution_count": 36,
   "metadata": {
    "ExecuteTime": {
     "end_time": "2021-09-10T04:07:59.184285Z",
     "start_time": "2021-09-10T04:07:59.162986Z"
    }
   },
   "outputs": [],
   "source": [
    "capture_signal['class'] = [\n",
    "    '1e5 only' if x == 0 and y == 0 else ('with 1e4' if y == 0 else 'with 5e3')\n",
    "    for x, y in zip(ATF1_ov[10], ATF1_ov[11])\n",
    "]\n"
   ]
  },
  {
   "cell_type": "code",
   "execution_count": 37,
   "metadata": {
    "ExecuteTime": {
     "end_time": "2021-09-10T04:08:00.590415Z",
     "start_time": "2021-09-10T04:07:59.391344Z"
    }
   },
   "outputs": [
    {
     "data": {
      "image/png": "[encoded data removed]",
      "text/plain": [
       "<Figure size 230.4x345.6 with 1 Axes>"
      ]
     },
     "metadata": {},
     "output_type": "display_data"
    }
   ],
   "source": [
    "with sns.axes_style('whitegrid', rc={\n",
    "        'xtick.bottom': True,\n",
    "        'ytick.left': True\n",
    "}), sns.plotting_context('paper',\n",
    "                         rc={\n",
    "                             'axes.titlesize': 12,\n",
    "                             'axes.labelsize': 10\n",
    "                         }):\n",
    "    fig, ax = plt.subplots(figsize=(6.4 * .5, 4.8))\n",
    "    boxplot(\n",
    "        x='class',\n",
    "        y='ATF1',\n",
    "        data=capture_signal,\n",
    "        order=['1e5 only', 'with 1e4', 'with 5e3'],\n",
    "        palette=['#98BDD8', '#92AC93', '#E4DDC3'],\n",
    "        statistic_args={'statistic_test': 'mannwhitneyu',\n",
    "            'use_continuity': False,},\n",
    "        ax=ax,\n",
    "        showfliers=False,\n",
    "    )\n",
    "    ax.set_ylabel('Fold of ATF1 FitCUT&RUN data')\n",
    "    fig.tight_layout()\n",
    "    fig.savefig('/mnt/Storage/home/wangyiman/fitCUTRUN/analysis/figures/Supple_Fig3D_reduce_input_signal_ATF1.pdf', transparent=True)\n",
    "    "
   ]
  },
  {
   "cell_type": "markdown",
   "metadata": {},
   "source": [
    "### ELF1"
   ]
  },
  {
   "cell_type": "code",
   "execution_count": 38,
   "metadata": {
    "ExecuteTime": {
     "end_time": "2021-09-10T04:08:18.063294Z",
     "start_time": "2021-09-10T04:08:00.737218Z"
    }
   },
   "outputs": [
    {
     "data": {
      "text/html": [
       "<div>\n",
       "<style scoped>\n",
       "    .dataframe tbody tr th:only-of-type {\n",
       "        vertical-align: middle;\n",
       "    }\n",
       "\n",
       "    .dataframe tbody tr th {\n",
       "        vertical-align: top;\n",
       "    }\n",
       "\n",
       "    .dataframe thead th {\n",
       "        text-align: right;\n",
       "    }\n",
       "</style>\n",
       "<table border=\"1\" class=\"dataframe\">\n",
       "  <thead>\n",
       "    <tr style=\"text-align: right;\">\n",
       "      <th></th>\n",
       "      <th>ELF1</th>\n",
       "    </tr>\n",
       "  </thead>\n",
       "  <tbody>\n",
       "    <tr>\n",
       "      <th>ELF1_1e5_peak_1</th>\n",
       "      <td>369.649691</td>\n",
       "    </tr>\n",
       "    <tr>\n",
       "      <th>ELF1_1e5_peak_4</th>\n",
       "      <td>28.926543</td>\n",
       "    </tr>\n",
       "    <tr>\n",
       "      <th>ELF1_1e5_peak_5</th>\n",
       "      <td>33.356790</td>\n",
       "    </tr>\n",
       "    <tr>\n",
       "      <th>ELF1_1e5_peak_6</th>\n",
       "      <td>65.380556</td>\n",
       "    </tr>\n",
       "    <tr>\n",
       "      <th>ELF1_1e5_peak_7</th>\n",
       "      <td>32.824537</td>\n",
       "    </tr>\n",
       "  </tbody>\n",
       "</table>\n",
       "</div>"
      ],
      "text/plain": [
       "                       ELF1\n",
       "ELF1_1e5_peak_1  369.649691\n",
       "ELF1_1e5_peak_4   28.926543\n",
       "ELF1_1e5_peak_5   33.356790\n",
       "ELF1_1e5_peak_6   65.380556\n",
       "ELF1_1e5_peak_7   32.824537"
      ]
     },
     "execution_count": 38,
     "metadata": {},
     "output_type": "execute_result"
    }
   ],
   "source": [
    "\n",
    "bw_scan = False\n",
    "\n",
    "import subprocess\n",
    "\n",
    "def get_bigwig_mean(bigwig_file):\n",
    "    import subprocess\n",
    "    fold = subprocess.check_output(f'bigWigInfo {bigwig_file} | grep mean',\n",
    "                                   shell=True).decode()\n",
    "    fold = float(fold.split()[1])\n",
    "    return fold\n",
    "\n",
    "name = 'ELF1'\n",
    "capture_regions_file = 'ELF1_1e5_peaks_excludeIgG.narrowPeak'\n",
    "bigwig_files = [\n",
    "    'ELF1_1e5.bw'\n",
    "]\n",
    "labels = ['ELF1']\n",
    "cmd = f'cut -f 1-4 {capture_regions_file} > captures_regions.bed'\n",
    "subprocess.call(cmd, shell=True)\n",
    "for label, bigwig_file in zip(labels, bigwig_files):\n",
    "    bw_scan_cmd = f'bigWigAverageOverBed {bigwig_file} captures_regions.bed {name}_{label}_signal.tsv'\n",
    "    if bw_scan:\n",
    "        print(subprocess.check_output(bw_scan_cmd.split()).decode(), end='')\n",
    "capture_regions = pd.read_csv('captures_regions.bed', sep='\\t', header=None)\n",
    "capture_signal = pd.DataFrame(index=capture_regions[3].to_list())\n",
    "for label, bigwig_file in zip(labels, bigwig_files):\n",
    "    avg = get_bigwig_mean(bigwig_file)\n",
    "    capture_signal[label] = pd.read_csv(\n",
    "        f'{name}_{label}_signal.tsv',\n",
    "        sep='\\t',\n",
    "        header=None,\n",
    "        index_col=0,\n",
    "        names=['size', 'covered', 'sum', 'mean0', 'mean'])['mean0'] / avg\n",
    "capture_signal.head()\n",
    "\n"
   ]
  },
  {
   "cell_type": "code",
   "execution_count": 39,
   "metadata": {
    "ExecuteTime": {
     "end_time": "2021-09-10T04:08:18.405199Z",
     "start_time": "2021-09-10T04:08:18.223449Z"
    }
   },
   "outputs": [
    {
     "data": {
      "text/html": [
       "<div>\n",
       "<style scoped>\n",
       "    .dataframe tbody tr th:only-of-type {\n",
       "        vertical-align: middle;\n",
       "    }\n",
       "\n",
       "    .dataframe tbody tr th {\n",
       "        vertical-align: top;\n",
       "    }\n",
       "\n",
       "    .dataframe thead th {\n",
       "        text-align: right;\n",
       "    }\n",
       "</style>\n",
       "<table border=\"1\" class=\"dataframe\">\n",
       "  <thead>\n",
       "    <tr style=\"text-align: right;\">\n",
       "      <th></th>\n",
       "      <th>0</th>\n",
       "      <th>1</th>\n",
       "      <th>2</th>\n",
       "      <th>3</th>\n",
       "      <th>4</th>\n",
       "      <th>5</th>\n",
       "      <th>6</th>\n",
       "      <th>7</th>\n",
       "      <th>8</th>\n",
       "      <th>9</th>\n",
       "      <th>10</th>\n",
       "      <th>11</th>\n",
       "    </tr>\n",
       "  </thead>\n",
       "  <tbody>\n",
       "    <tr>\n",
       "      <th>0</th>\n",
       "      <td>chr1</td>\n",
       "      <td>629909</td>\n",
       "      <td>630010</td>\n",
       "      <td>ELF1_1e5_peak_1</td>\n",
       "      <td>1400</td>\n",
       "      <td>.</td>\n",
       "      <td>30.52444</td>\n",
       "      <td>146.13313</td>\n",
       "      <td>140.01196</td>\n",
       "      <td>30</td>\n",
       "      <td>1</td>\n",
       "      <td>1</td>\n",
       "    </tr>\n",
       "    <tr>\n",
       "      <th>1</th>\n",
       "      <td>chr1</td>\n",
       "      <td>817323</td>\n",
       "      <td>817419</td>\n",
       "      <td>ELF1_1e5_peak_4</td>\n",
       "      <td>69</td>\n",
       "      <td>.</td>\n",
       "      <td>6.77818</td>\n",
       "      <td>9.97720</td>\n",
       "      <td>6.93286</td>\n",
       "      <td>21</td>\n",
       "      <td>0</td>\n",
       "      <td>0</td>\n",
       "    </tr>\n",
       "    <tr>\n",
       "      <th>2</th>\n",
       "      <td>chr1</td>\n",
       "      <td>826712</td>\n",
       "      <td>826823</td>\n",
       "      <td>ELF1_1e5_peak_5</td>\n",
       "      <td>52</td>\n",
       "      <td>.</td>\n",
       "      <td>5.39991</td>\n",
       "      <td>8.12264</td>\n",
       "      <td>5.21293</td>\n",
       "      <td>71</td>\n",
       "      <td>0</td>\n",
       "      <td>0</td>\n",
       "    </tr>\n",
       "    <tr>\n",
       "      <th>3</th>\n",
       "      <td>chr1</td>\n",
       "      <td>827306</td>\n",
       "      <td>827575</td>\n",
       "      <td>ELF1_1e5_peak_6</td>\n",
       "      <td>270</td>\n",
       "      <td>.</td>\n",
       "      <td>13.50946</td>\n",
       "      <td>30.98226</td>\n",
       "      <td>27.01847</td>\n",
       "      <td>136</td>\n",
       "      <td>1</td>\n",
       "      <td>0</td>\n",
       "    </tr>\n",
       "    <tr>\n",
       "      <th>4</th>\n",
       "      <td>chr1</td>\n",
       "      <td>842937</td>\n",
       "      <td>843031</td>\n",
       "      <td>ELF1_1e5_peak_7</td>\n",
       "      <td>86</td>\n",
       "      <td>.</td>\n",
       "      <td>7.66775</td>\n",
       "      <td>11.75514</td>\n",
       "      <td>8.60239</td>\n",
       "      <td>54</td>\n",
       "      <td>0</td>\n",
       "      <td>0</td>\n",
       "    </tr>\n",
       "  </tbody>\n",
       "</table>\n",
       "</div>"
      ],
      "text/plain": [
       "     0       1       2                3     4  5         6          7   \\\n",
       "0  chr1  629909  630010  ELF1_1e5_peak_1  1400  .  30.52444  146.13313   \n",
       "1  chr1  817323  817419  ELF1_1e5_peak_4    69  .   6.77818    9.97720   \n",
       "2  chr1  826712  826823  ELF1_1e5_peak_5    52  .   5.39991    8.12264   \n",
       "3  chr1  827306  827575  ELF1_1e5_peak_6   270  .  13.50946   30.98226   \n",
       "4  chr1  842937  843031  ELF1_1e5_peak_7    86  .   7.66775   11.75514   \n",
       "\n",
       "          8    9   10  11  \n",
       "0  140.01196   30   1   1  \n",
       "1    6.93286   21   0   0  \n",
       "2    5.21293   71   0   0  \n",
       "3   27.01847  136   1   0  \n",
       "4    8.60239   54   0   0  "
      ]
     },
     "execution_count": 39,
     "metadata": {},
     "output_type": "execute_result"
    }
   ],
   "source": [
    "ELF1_ov = pd.read_csv('ELF1_peaks_ov_reduce_input.bed',sep='\\t',header=None)\n",
    "ELF1_ov.head()\n"
   ]
  },
  {
   "cell_type": "code",
   "execution_count": 40,
   "metadata": {
    "ExecuteTime": {
     "end_time": "2021-09-10T04:08:18.627636Z",
     "start_time": "2021-09-10T04:08:18.596937Z"
    }
   },
   "outputs": [],
   "source": [
    "capture_signal['class'] = [\n",
    "    '1e5 only' if x == 0 and y == 0 else ('with 1e4' if y == 0 else 'with 5e3')\n",
    "    for x, y in zip(ELF1_ov[10], ELF1_ov[11])\n",
    "]\n"
   ]
  },
  {
   "cell_type": "code",
   "execution_count": 41,
   "metadata": {
    "ExecuteTime": {
     "end_time": "2021-09-10T04:08:19.347557Z",
     "start_time": "2021-09-10T04:08:18.821587Z"
    }
   },
   "outputs": [
    {
     "data": {
      "image/png": "[encoded data removed]",
      "text/plain": [
       "<Figure size 230.4x345.6 with 1 Axes>"
      ]
     },
     "metadata": {},
     "output_type": "display_data"
    }
   ],
   "source": [
    "with sns.axes_style('whitegrid', rc={\n",
    "        'xtick.bottom': True,\n",
    "        'ytick.left': True\n",
    "}), sns.plotting_context('paper',\n",
    "                         rc={\n",
    "                             'axes.titlesize': 12,\n",
    "                             'axes.labelsize': 10\n",
    "                         }):\n",
    "    fig, ax = plt.subplots(figsize=(6.4 * .5, 4.8))\n",
    "    boxplot(\n",
    "        x='class',\n",
    "        y='ELF1',\n",
    "        data=capture_signal,\n",
    "        order=['1e5 only', 'with 1e4', 'with 5e3'],\n",
    "        palette=['#98BDD8', '#92AC93', '#E4DDC3'],\n",
    "        statistic_args={'statistic_test': 'mannwhitneyu',\n",
    "            'use_continuity': False,},\n",
    "        ax=ax,\n",
    "        showfliers=False,\n",
    "    )\n",
    "    ax.set_ylabel('Fold of ELF1 FitCUT&RUN data')\n",
    "    fig.tight_layout()\n",
    "    fig.savefig('/mnt/Storage/home/wangyiman/fitCUTRUN/analysis/figures/Fig2D_reduce_input_signal_ELF1.pdf', transparent=True)"
   ]
  }
 ],
 "metadata": {
  "kernelspec": {
   "display_name": "Python 3",
   "language": "python",
   "name": "python3"
  },
  "language_info": {
   "codemirror_mode": {
    "name": "ipython",
    "version": 3
   },
   "file_extension": ".py",
   "mimetype": "text/x-python",
   "name": "python",
   "nbconvert_exporter": "python",
   "pygments_lexer": "ipython3",
   "version": "3.7.6"
  }
 },
 "nbformat": 4,
 "nbformat_minor": 4
}
