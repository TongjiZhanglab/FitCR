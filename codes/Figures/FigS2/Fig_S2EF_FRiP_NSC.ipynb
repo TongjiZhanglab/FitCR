{
 "cells": [
  {
   "cell_type": "markdown",
   "metadata": {},
   "source": [
    "# Import modules"
   ]
  },
  {
   "cell_type": "code",
   "execution_count": 1,
   "metadata": {},
   "outputs": [],
   "source": [
    "import os\n",
    "import pandas as pd\n",
    "import numpy as np\n",
    "import math\n",
    "import seaborn as sns\n",
    "import matplotlib as mpl\n",
    "import matplotlib.pyplot as plt\n",
    "from matplotlib.backends.backend_pdf import PdfPages\n",
    "from pprint import pprint\n",
    "%matplotlib inline"
   ]
  },
  {
   "cell_type": "code",
   "execution_count": 2,
   "metadata": {},
   "outputs": [],
   "source": [
    "# mpl.font_manager._rebuild()\n",
    "mpl.rcParams['pdf.fonttype'] = 42\n",
    "mpl.rcParams['ps.fonttype'] = 42\n",
    "mpl.rcParams['font.sans-serif'] = 'Arial'"
   ]
  },
  {
   "cell_type": "markdown",
   "metadata": {},
   "source": [
    "## load data function"
   ]
  },
  {
   "cell_type": "code",
   "execution_count": 3,
   "metadata": {
    "ExecuteTime": {
     "end_time": "2021-09-07T06:56:50.659886Z",
     "start_time": "2021-09-07T06:56:50.645228Z"
    }
   },
   "outputs": [],
   "source": [
    "def load_data(file_pairs,src_dir='',dst_dir='.'):\n",
    "    import os\n",
    "    if not os.path.isdir(dst_dir):\n",
    "        os.mkdir(dst_dir)\n",
    "    for file_pair in file_pairs:\n",
    "        src = os.path.abspath(os.path.expanduser(os.path.join(src_dir,file_pair[0])))\n",
    "        dst = os.path.expanduser(os.path.join(dst_dir,file_pair[1]))\n",
    "        if os.path.isfile(dst):\n",
    "            os.remove(dst)\n",
    "        if not os.path.islink(dst):\n",
    "            os.symlink(src,dst)\n",
    "\n",
    "def load_data_suffixes(file_pairs, src_dir='', dst_dir='.', suffixes=None):\n",
    "    import os\n",
    "    if not os.path.isdir(dst_dir):\n",
    "        os.mkdir(dst_dir)\n",
    "    if not suffixes:\n",
    "        for file_pair in file_pairs:\n",
    "            src = os.path.abspath(os.path.expanduser(os.path.join(src_dir, file_pair[0])))\n",
    "            dst = os.path.expanduser(os.path.join(dst_dir, file_pair[1]))\n",
    "            if os.path.isfile(dst):\n",
    "                os.remove(dst)\n",
    "            if not os.path.islink(dst):\n",
    "                os.symlink(src, dst)\n",
    "    else:\n",
    "        for file_pair in file_pairs:\n",
    "            for suffix_pair in suffixes:\n",
    "                src = os.path.abspath(os.path.expanduser(\n",
    "                    os.path.join(src_dir, file_pair[0] + suffix_pair[0])))\n",
    "                dst = os.path.expanduser(\n",
    "                    os.path.join(dst_dir, file_pair[1] + suffix_pair[1]))\n",
    "                if os.path.isfile(dst):\n",
    "                    os.remove(dst)\n",
    "                if not os.path.islink(dst):\n",
    "                    os.symlink(src, dst)"
   ]
  },
  {
   "cell_type": "markdown",
   "metadata": {},
   "source": [
    "## load data"
   ]
  },
  {
   "cell_type": "code",
   "execution_count": 208,
   "metadata": {},
   "outputs": [],
   "source": [
    "import subprocess\n",
    "import os\n",
    "os.chdir(\"/mnt/Storage/home/wangyiman/fitCUTRUN/revision_1/analysis/TF/comparison/specificPeak_enrichment_3plot\")\n",
    "# load samples\n",
    "samples = [\n",
    "    'ATF1_FlagCR_1e5', \n",
    "    'ATF1_wtCR_1e5',\n",
    "    'ELF1_FlagCR_1e5', \n",
    "    'ELF1_wtCR_1e5'\n",
    "]\n",
    "\n",
    "for sample in samples:\n",
    "    file_pairs = [\n",
    "        [f'{sample}.bw', f'{sample}.bw'],\n",
    "    ]\n",
    "    load_data_suffixes(file_pairs, src_dir='/mnt/Storage/home/wangyiman/fitCUTRUN/revision_1/analysis/TF/sampling_down/before_filter', dst_dir='.')    "
   ]
  },
  {
   "cell_type": "code",
   "execution_count": 130,
   "metadata": {},
   "outputs": [],
   "source": [
    "import subprocess\n",
    "import os\n",
    "os.chdir(\"/mnt/Storage/home/wangyiman/fitCUTRUN/revision_1/analysis/TF/comparison\")\n",
    "samples = [\n",
    "    'ATF1_ChIP',\n",
    "    'ELF1_ChIP',\n",
    "]\n",
    "\n",
    "for sample in samples:\n",
    "    file_pairs = [\n",
    "        [f'{sample}_filtered_peaks.narrowPeak', f'{sample}_filtered_peaks.narrowPeak'],\n",
    "    ]\n",
    "    load_data_suffixes(file_pairs, src_dir='/mnt/Storage/home/wangyiman/fitCUTRUN/revision_1/analysis/TF/sampling_down', dst_dir='.')"
   ]
  },
  {
   "cell_type": "code",
   "execution_count": 12,
   "metadata": {},
   "outputs": [],
   "source": [
    "import subprocess\n",
    "import os\n",
    "os.chdir(\"/mnt/Storage/home/wangyiman/fitCUTRUN/revision_1/analysis/TF/comparison/FRiP/2_signal\")\n",
    "# load samples\n",
    "samples = [\n",
    "    'ATF1_1e5', \n",
    "    'ELF1_1e5', \n",
    "    'ATF1_FlagCR_1e5', 'ATF1_wtCR_1e5',\n",
    "    'ELF1_FlagCR_1e5', 'ELF1_wtCR_1e5'\n",
    "]\n",
    "\n",
    "for sample in samples:\n",
    "    for rep in ['rep1', 'rep2', 'rep3'] :\n",
    "        file_pairs = [\n",
    "            [f'{sample}_{rep}_OCR_fragments.bed', f'{sample}_{rep}_OCR_fragments.bed'],\n",
    "        ]\n",
    "        load_data_suffixes(file_pairs, src_dir='/mnt/Storage/home/wangyiman/fitCUTRUN/revision_1/analysis/TF/replicates', dst_dir='.')\n",
    "    "
   ]
  },
  {
   "cell_type": "code",
   "execution_count": 93,
   "metadata": {},
   "outputs": [],
   "source": [
    "import subprocess\n",
    "import os\n",
    "os.chdir(\"/mnt/Storage/home/wangyiman/fitCUTRUN/revision_1/analysis/TF/comparison/FRiP_bySample_intersect/2_signal\")\n",
    "# load samples\n",
    "samples = [\n",
    "    'ATF1_1e5', \n",
    "    'ELF1_1e5', \n",
    "    'ATF1_FlagCR_1e5', 'ATF1_wtCR_1e5',\n",
    "    'ELF1_FlagCR_1e5', 'ELF1_wtCR_1e5'\n",
    "]\n",
    "\n",
    "for sample in samples:\n",
    "    file_pairs = [\n",
    "        [f'{sample}_OCR_fragments.bed', f'{sample}_OCR_fragments.bed'],\n",
    "    ]\n",
    "    load_data_suffixes(file_pairs, src_dir='/mnt/Storage/home/wangyiman/fitCUTRUN/revision_1/analysis/TF/sampling_down/before_filter', dst_dir='.')\n",
    "    "
   ]
  },
  {
   "cell_type": "code",
   "execution_count": 112,
   "metadata": {},
   "outputs": [],
   "source": [
    "import subprocess\n",
    "import os\n",
    "os.chdir(\"/mnt/Storage/home/wangyiman/fitCUTRUN/revision_1/analysis/TF/comparison/FRiP_bySample_union/2_signal\")\n",
    "# load samples\n",
    "samples = [\n",
    "    'ATF1_1e5', \n",
    "    'ELF1_1e5', \n",
    "    'ATF1_FlagCR_1e5', 'ATF1_wtCR_1e5',\n",
    "    'ELF1_FlagCR_1e5', 'ELF1_wtCR_1e5'\n",
    "]\n",
    "\n",
    "for sample in samples:\n",
    "    file_pairs = [\n",
    "        [f'{sample}_OCR_fragments.bed', f'{sample}_OCR_fragments.bed'],\n",
    "    ]\n",
    "    load_data_suffixes(file_pairs, src_dir='/mnt/Storage/home/wangyiman/fitCUTRUN/revision_1/analysis/TF/sampling_down/before_filter', dst_dir='.')\n",
    "    "
   ]
  },
  {
   "cell_type": "code",
   "execution_count": 5,
   "metadata": {},
   "outputs": [],
   "source": [
    "import subprocess\n",
    "import os\n",
    "os.chdir(\"/mnt/Storage/home/wangyiman/fitCUTRUN/revision_1/analysis/TF/comparison/FRiP/2_signal\")\n",
    "# load samples\n",
    "samples = [\n",
    "    'ATF1_ChIP', \n",
    "    'ELF1_ChIP', \n",
    "]\n",
    "\n",
    "for sample in samples:\n",
    "    for rep in ['rep1', 'rep2'] :\n",
    "        file_pairs = [\n",
    "            [f'{sample}_{rep}_reads.bed', f'{sample}_{rep}_reads.bed'],\n",
    "        ]\n",
    "        load_data_suffixes(file_pairs, src_dir='/mnt/Storage/home/wangyiman/fitCUTRUN/revision_1/analysis/TF/replicates', dst_dir='.')\n",
    "    "
   ]
  },
  {
   "cell_type": "code",
   "execution_count": 95,
   "metadata": {},
   "outputs": [],
   "source": [
    "import subprocess\n",
    "import os\n",
    "os.chdir(\"/mnt/Storage/home/wangyiman/fitCUTRUN/revision_1/analysis/TF/comparison/FRiP_bySample_intersect/2_signal\")\n",
    "# load samples\n",
    "samples = [\n",
    "    'ATF1_ChIP', \n",
    "    'ELF1_ChIP', \n",
    "]\n",
    "\n",
    "for sample in samples:\n",
    "    file_pairs = [\n",
    "        [f'{sample}_reads.bed', f'{sample}_reads.bed'],\n",
    "    ]\n",
    "    load_data_suffixes(file_pairs, src_dir='/mnt/Storage/home/wangyiman/fitCUTRUN/revision_1/analysis/TF/sampling_down/before_filter', dst_dir='.')\n",
    "    "
   ]
  },
  {
   "cell_type": "code",
   "execution_count": 113,
   "metadata": {},
   "outputs": [],
   "source": [
    "import subprocess\n",
    "import os\n",
    "os.chdir(\"/mnt/Storage/home/wangyiman/fitCUTRUN/revision_1/analysis/TF/comparison/FRiP_bySample_union/2_signal\")\n",
    "# load samples\n",
    "samples = [\n",
    "    'ATF1_ChIP', \n",
    "    'ELF1_ChIP', \n",
    "]\n",
    "\n",
    "for sample in samples:\n",
    "    file_pairs = [\n",
    "        [f'{sample}_reads.bed', f'{sample}_reads.bed'],\n",
    "    ]\n",
    "    load_data_suffixes(file_pairs, src_dir='/mnt/Storage/home/wangyiman/fitCUTRUN/revision_1/analysis/TF/sampling_down/before_filter', dst_dir='.')\n",
    "    "
   ]
  },
  {
   "cell_type": "code",
   "execution_count": 22,
   "metadata": {},
   "outputs": [],
   "source": [
    "import subprocess\n",
    "import os\n",
    "os.chdir(\"/mnt/Storage/home/wangyiman/fitCUTRUN/revision_1/analysis/TF/comparison/FRiP/3_peak\")\n",
    "# load samples\n",
    "sample_name_pairs = [\n",
    "    ['atf1_K562_rep1', 'ATF1_ChIP_rep1'], \n",
    "    ['atf1_K562_rep2', 'ATF1_ChIP_rep2'], \n",
    "    \n",
    "    ['elf1_K562_rep3', 'ELF1_ChIP_rep1'],\n",
    "    ['elf1_K562_rep4', 'ELF1_ChIP_rep2'],\n",
    "]\n",
    "\n",
    "for samples in sample_name_pairs :\n",
    "    sample_old, sample_new = samples  \n",
    "    file_pairs = [\n",
    "        [f'{sample_old}_MACS.out', f'{sample_new}_MACS.out'],\n",
    "    ]\n",
    "    load_data_suffixes(file_pairs, src_dir='/mnt/Storage/home/wangyiman/fitCUTRUN/TF/encode_data_quality/FRiP/3_peak', dst_dir='.')\n",
    "    "
   ]
  },
  {
   "cell_type": "code",
   "execution_count": 13,
   "metadata": {},
   "outputs": [
    {
     "name": "stdout",
     "output_type": "stream",
     "text": [
      "[['ATF1_C_1e5_rep1_fragments_length.txt', 'ATF1_1e5_rep1_fragments_length.txt'], ['ATF1_C_1e5_rep2_fragments_length.txt', 'ATF1_1e5_rep2_fragments_length.txt'], ['ATF1_C_1e5_rep3_fragments_length.txt', 'ATF1_1e5_rep3_fragments_length.txt'], ['ELF1_C_1e5_rep1_fragments_length.txt', 'ELF1_1e5_rep1_fragments_length.txt'], ['ELF1_C_1e5_rep2_fragments_length.txt', 'ELF1_1e5_rep2_fragments_length.txt'], ['ELF1_C_1e5_rep3_fragments_length.txt', 'ELF1_1e5_rep3_fragments_length.txt']]\n"
     ]
    }
   ],
   "source": [
    "import subprocess\n",
    "import os\n",
    "os.chdir(\"/mnt/Storage/home/wangyiman/fitCUTRUN/revision_1/analysis/TF/comparison/FRiP/2_signal\")\n",
    "# load samples\n",
    "sample_name_pairs = [\n",
    "    ['ATF1_C_1e5_rep1', 'ATF1_1e5_rep1'],\n",
    "    ['ATF1_C_1e5_rep2', 'ATF1_1e5_rep2'],\n",
    "    ['ATF1_C_1e5_rep3', 'ATF1_1e5_rep3'],\n",
    "    \n",
    "    ['ELF1_C_1e5_rep1', 'ELF1_1e5_rep1'],\n",
    "    ['ELF1_C_1e5_rep2', 'ELF1_1e5_rep2'],\n",
    "    ['ELF1_C_1e5_rep3', 'ELF1_1e5_rep3'],\n",
    "    \n",
    "]\n",
    "\n",
    "file_pairs = []\n",
    "for samples in sample_name_pairs :\n",
    "    sample_old, sample_new = samples  \n",
    "    file_pairs.append([f'{sample_old}_fragments_length.txt', f'{sample_new}_fragments_length.txt'])    \n",
    "print(file_pairs)\n",
    "load_data_suffixes(file_pairs, src_dir='/mnt/Storage/home/wangwen/project/zebrafish_FitCR/202103/2_signal/', dst_dir='.')"
   ]
  },
  {
   "cell_type": "code",
   "execution_count": 15,
   "metadata": {},
   "outputs": [
    {
     "name": "stdout",
     "output_type": "stream",
     "text": [
      "[['CR-mFlag_ATF1_1e5_rep1_fragments_length.txt', 'ATF1_FlagCR_1e5_rep1_fragments_length.txt'], ['CR-mFlag_ATF1_1e5_rep2_fragments_length.txt', 'ATF1_FlagCR_1e5_rep2_fragments_length.txt'], ['CR-mFlag_ATF1_1e5_rep4_fragments_length.txt', 'ATF1_FlagCR_1e5_rep3_fragments_length.txt'], ['CR-mFlag_ELF1_1e5_rep1_fragments_length.txt', 'ELF1_FlagCR_1e5_rep1_fragments_length.txt'], ['CR-mFlag_ELF1_1e5_rep2_fragments_length.txt', 'ELF1_FlagCR_1e5_rep2_fragments_length.txt'], ['CR-mFlag_ELF1_1e5_rep5_fragments_length.txt', 'ELF1_FlagCR_1e5_rep3_fragments_length.txt'], ['CR-wt_ATF1_1e5_rep3_fragments_length.txt', 'ATF1_wtCR_1e5_rep1_fragments_length.txt'], ['CR-wt_ATF1_1e5_rep5_fragments_length.txt', 'ATF1_wtCR_1e5_rep2_fragments_length.txt'], ['CR-wt_ATF1_1e5_rep6_fragments_length.txt', 'ATF1_wtCR_1e5_rep3_fragments_length.txt'], ['CR-wt_ELF1_1e5_rep4_fragments_length.txt', 'ELF1_wtCR_1e5_rep1_fragments_length.txt'], ['CR-wt_ELF1_1e5_rep5_fragments_length.txt', 'ELF1_wtCR_1e5_rep2_fragments_length.txt'], ['CR-wt_ELF1_1e5_rep6_fragments_length.txt', 'ELF1_wtCR_1e5_rep3_fragments_length.txt']]\n"
     ]
    }
   ],
   "source": [
    "import subprocess\n",
    "import os\n",
    "os.chdir(\"/mnt/Storage/home/wangyiman/fitCUTRUN/revision_1/analysis/TF/comparison/FRiP/2_signal\")\n",
    "# load samples\n",
    "sample_name_pairs = [\n",
    "    ['CR-mFlag_ATF1_1e5_rep1', 'ATF1_FlagCR_1e5_rep1'],\n",
    "    ['CR-mFlag_ATF1_1e5_rep2', 'ATF1_FlagCR_1e5_rep2'],\n",
    "    ['CR-mFlag_ATF1_1e5_rep4', 'ATF1_FlagCR_1e5_rep3'],   \n",
    "    \n",
    "    ['CR-mFlag_ELF1_1e5_rep1', 'ELF1_FlagCR_1e5_rep1'],\n",
    "    ['CR-mFlag_ELF1_1e5_rep2', 'ELF1_FlagCR_1e5_rep2'],\n",
    "    ['CR-mFlag_ELF1_1e5_rep5', 'ELF1_FlagCR_1e5_rep3'],\n",
    "    \n",
    "    ['CR-wt_ATF1_1e5_rep3', 'ATF1_wtCR_1e5_rep1'],\n",
    "    ['CR-wt_ATF1_1e5_rep5', 'ATF1_wtCR_1e5_rep2'],\n",
    "    ['CR-wt_ATF1_1e5_rep6', 'ATF1_wtCR_1e5_rep3'],\n",
    "    \n",
    "    ['CR-wt_ELF1_1e5_rep4', 'ELF1_wtCR_1e5_rep1'],\n",
    "    ['CR-wt_ELF1_1e5_rep5', 'ELF1_wtCR_1e5_rep2'],\n",
    "    ['CR-wt_ELF1_1e5_rep6', 'ELF1_wtCR_1e5_rep3'],\n",
    "    \n",
    "]\n",
    "\n",
    "file_pairs = []\n",
    "for samples in sample_name_pairs :\n",
    "    sample_old, sample_new = samples  \n",
    "    file_pairs.append([f'{sample_old}_fragments_length.txt', f'{sample_new}_fragments_length.txt'])    \n",
    "    \n",
    "print(file_pairs)\n",
    "load_data_suffixes(file_pairs, src_dir='/mnt/Storage/home/wangyiman/fitCUTRUN/analysis/TF/replicates/total_replicates/', dst_dir='.')"
   ]
  },
  {
   "cell_type": "code",
   "execution_count": null,
   "metadata": {},
   "outputs": [],
   "source": []
  },
  {
   "cell_type": "code",
   "execution_count": 54,
   "metadata": {},
   "outputs": [],
   "source": [
    "import subprocess\n",
    "import os\n",
    "os.chdir(\"/mnt/Storage/home/wangyiman/fitCUTRUN/revision_1/analysis/TF/comparison/FRiP_intersect/2_signal\")\n",
    "# load samples\n",
    "samples = [\n",
    "    'ATF1_1e5', \n",
    "    'ELF1_1e5', \n",
    "    'ATF1_FlagCR_1e5', 'ATF1_wtCR_1e5',\n",
    "    'ELF1_FlagCR_1e5', 'ELF1_wtCR_1e5'\n",
    "]\n",
    "\n",
    "for sample in samples:\n",
    "    for rep in ['rep1', 'rep2', 'rep3'] :\n",
    "        file_pairs = [\n",
    "            [f'{sample}_{rep}_OCR_fragments.bed', f'{sample}_{rep}_OCR_fragments.bed'],\n",
    "        ]\n",
    "        load_data_suffixes(file_pairs, src_dir='/mnt/Storage/home/wangyiman/fitCUTRUN/revision_1/analysis/TF/replicates', dst_dir='.')\n",
    "    "
   ]
  },
  {
   "cell_type": "code",
   "execution_count": 55,
   "metadata": {},
   "outputs": [],
   "source": [
    "import subprocess\n",
    "import os\n",
    "os.chdir(\"/mnt/Storage/home/wangyiman/fitCUTRUN/revision_1/analysis/TF/comparison/FRiP_intersect/2_signal\")\n",
    "# load samples\n",
    "samples = [\n",
    "    'ATF1_ChIP', \n",
    "    'ELF1_ChIP', \n",
    "]\n",
    "\n",
    "for sample in samples:\n",
    "    for rep in ['rep1', 'rep2'] :\n",
    "        file_pairs = [\n",
    "            [f'{sample}_{rep}_reads.bed', f'{sample}_{rep}_reads.bed'],\n",
    "        ]\n",
    "        load_data_suffixes(file_pairs, src_dir='/mnt/Storage/home/wangyiman/fitCUTRUN/revision_1/analysis/TF/replicates', dst_dir='.')\n",
    "    "
   ]
  },
  {
   "cell_type": "code",
   "execution_count": 56,
   "metadata": {},
   "outputs": [],
   "source": [
    "import subprocess\n",
    "import os\n",
    "os.chdir(\"/mnt/Storage/home/wangyiman/fitCUTRUN/revision_1/analysis/TF/comparison/FRiP_intersect/3_peak\")\n",
    "# load samples\n",
    "sample_name_pairs = [\n",
    "    ['atf1_K562_rep1', 'ATF1_ChIP_rep1'], \n",
    "    ['atf1_K562_rep2', 'ATF1_ChIP_rep2'], \n",
    "    \n",
    "    ['elf1_K562_rep3', 'ELF1_ChIP_rep1'],\n",
    "    ['elf1_K562_rep4', 'ELF1_ChIP_rep2'],\n",
    "]\n",
    "\n",
    "for samples in sample_name_pairs :\n",
    "    sample_old, sample_new = samples  \n",
    "    file_pairs = [\n",
    "        [f'{sample_old}_MACS.out', f'{sample_new}_MACS.out'],\n",
    "    ]\n",
    "    load_data_suffixes(file_pairs, src_dir='/mnt/Storage/home/wangyiman/fitCUTRUN/TF/encode_data_quality/FRiP/3_peak', dst_dir='.')\n",
    "    "
   ]
  },
  {
   "cell_type": "code",
   "execution_count": 102,
   "metadata": {},
   "outputs": [],
   "source": [
    "import subprocess\n",
    "import os\n",
    "os.chdir(\"/mnt/Storage/home/wangyiman/fitCUTRUN/revision_1/analysis/TF/comparison/FRiP_bySample_intersect/3_peak\")\n",
    "# load samples\n",
    "sample_names = [\n",
    "    'ATF1_ChIP',     \n",
    "    'ELF1_ChIP', \n",
    "]\n",
    "\n",
    "for sample in sample_names :\n",
    "    file_pairs = [\n",
    "        [f'{sample}_MACS.out', f'{sample}_MACS.out'],\n",
    "    ]\n",
    "    load_data_suffixes(file_pairs, src_dir='/mnt/Storage/home/wangyiman/fitCUTRUN/revision_1/analysis/TF/sampling_down/before_filter', dst_dir='.')\n",
    "    "
   ]
  },
  {
   "cell_type": "code",
   "execution_count": 115,
   "metadata": {},
   "outputs": [],
   "source": [
    "import subprocess\n",
    "import os\n",
    "os.chdir(\"/mnt/Storage/home/wangyiman/fitCUTRUN/revision_1/analysis/TF/comparison/FRiP_bySample_union/3_peak\")\n",
    "# load samples\n",
    "sample_names = [\n",
    "    'ATF1_ChIP',     \n",
    "    'ELF1_ChIP', \n",
    "]\n",
    "\n",
    "for sample in sample_names :\n",
    "    file_pairs = [\n",
    "        [f'{sample}_MACS.out', f'{sample}_MACS.out'],\n",
    "    ]\n",
    "    load_data_suffixes(file_pairs, src_dir='/mnt/Storage/home/wangyiman/fitCUTRUN/revision_1/analysis/TF/sampling_down/before_filter', dst_dir='.')\n",
    "    "
   ]
  },
  {
   "cell_type": "code",
   "execution_count": 57,
   "metadata": {},
   "outputs": [
    {
     "name": "stdout",
     "output_type": "stream",
     "text": [
      "[['ATF1_C_1e5_rep1_fragments_length.txt', 'ATF1_1e5_rep1_fragments_length.txt'], ['ATF1_C_1e5_rep2_fragments_length.txt', 'ATF1_1e5_rep2_fragments_length.txt'], ['ATF1_C_1e5_rep3_fragments_length.txt', 'ATF1_1e5_rep3_fragments_length.txt'], ['ELF1_C_1e5_rep1_fragments_length.txt', 'ELF1_1e5_rep1_fragments_length.txt'], ['ELF1_C_1e5_rep2_fragments_length.txt', 'ELF1_1e5_rep2_fragments_length.txt'], ['ELF1_C_1e5_rep3_fragments_length.txt', 'ELF1_1e5_rep3_fragments_length.txt']]\n"
     ]
    }
   ],
   "source": [
    "import subprocess\n",
    "import os\n",
    "os.chdir(\"/mnt/Storage/home/wangyiman/fitCUTRUN/revision_1/analysis/TF/comparison/FRiP_intersect/2_signal\")\n",
    "# load samples\n",
    "sample_name_pairs = [\n",
    "    ['ATF1_C_1e5_rep1', 'ATF1_1e5_rep1'],\n",
    "    ['ATF1_C_1e5_rep2', 'ATF1_1e5_rep2'],\n",
    "    ['ATF1_C_1e5_rep3', 'ATF1_1e5_rep3'],\n",
    "    \n",
    "    ['ELF1_C_1e5_rep1', 'ELF1_1e5_rep1'],\n",
    "    ['ELF1_C_1e5_rep2', 'ELF1_1e5_rep2'],\n",
    "    ['ELF1_C_1e5_rep3', 'ELF1_1e5_rep3'],\n",
    "    \n",
    "]\n",
    "\n",
    "file_pairs = []\n",
    "for samples in sample_name_pairs :\n",
    "    sample_old, sample_new = samples  \n",
    "    file_pairs.append([f'{sample_old}_fragments_length.txt', f'{sample_new}_fragments_length.txt'])    \n",
    "print(file_pairs)\n",
    "load_data_suffixes(file_pairs, src_dir='/mnt/Storage/home/wangwen/project/zebrafish_FitCR/202103/2_signal/', dst_dir='.')"
   ]
  },
  {
   "cell_type": "code",
   "execution_count": 58,
   "metadata": {},
   "outputs": [
    {
     "name": "stdout",
     "output_type": "stream",
     "text": [
      "[['CR-mFlag_ATF1_1e5_rep1_fragments_length.txt', 'ATF1_FlagCR_1e5_rep1_fragments_length.txt'], ['CR-mFlag_ATF1_1e5_rep2_fragments_length.txt', 'ATF1_FlagCR_1e5_rep2_fragments_length.txt'], ['CR-mFlag_ATF1_1e5_rep4_fragments_length.txt', 'ATF1_FlagCR_1e5_rep3_fragments_length.txt'], ['CR-mFlag_ELF1_1e5_rep1_fragments_length.txt', 'ELF1_FlagCR_1e5_rep1_fragments_length.txt'], ['CR-mFlag_ELF1_1e5_rep2_fragments_length.txt', 'ELF1_FlagCR_1e5_rep2_fragments_length.txt'], ['CR-mFlag_ELF1_1e5_rep5_fragments_length.txt', 'ELF1_FlagCR_1e5_rep3_fragments_length.txt'], ['CR-wt_ATF1_1e5_rep3_fragments_length.txt', 'ATF1_wtCR_1e5_rep1_fragments_length.txt'], ['CR-wt_ATF1_1e5_rep5_fragments_length.txt', 'ATF1_wtCR_1e5_rep2_fragments_length.txt'], ['CR-wt_ATF1_1e5_rep6_fragments_length.txt', 'ATF1_wtCR_1e5_rep3_fragments_length.txt'], ['CR-wt_ELF1_1e5_rep4_fragments_length.txt', 'ELF1_wtCR_1e5_rep1_fragments_length.txt'], ['CR-wt_ELF1_1e5_rep5_fragments_length.txt', 'ELF1_wtCR_1e5_rep2_fragments_length.txt'], ['CR-wt_ELF1_1e5_rep6_fragments_length.txt', 'ELF1_wtCR_1e5_rep3_fragments_length.txt']]\n"
     ]
    }
   ],
   "source": [
    "import subprocess\n",
    "import os\n",
    "os.chdir(\"/mnt/Storage/home/wangyiman/fitCUTRUN/revision_1/analysis/TF/comparison/FRiP_intersect/2_signal\")\n",
    "# load samples\n",
    "sample_name_pairs = [\n",
    "    ['CR-mFlag_ATF1_1e5_rep1', 'ATF1_FlagCR_1e5_rep1'],\n",
    "    ['CR-mFlag_ATF1_1e5_rep2', 'ATF1_FlagCR_1e5_rep2'],\n",
    "    ['CR-mFlag_ATF1_1e5_rep4', 'ATF1_FlagCR_1e5_rep3'],   \n",
    "    \n",
    "    ['CR-mFlag_ELF1_1e5_rep1', 'ELF1_FlagCR_1e5_rep1'],\n",
    "    ['CR-mFlag_ELF1_1e5_rep2', 'ELF1_FlagCR_1e5_rep2'],\n",
    "    ['CR-mFlag_ELF1_1e5_rep5', 'ELF1_FlagCR_1e5_rep3'],\n",
    "    \n",
    "    ['CR-wt_ATF1_1e5_rep3', 'ATF1_wtCR_1e5_rep1'],\n",
    "    ['CR-wt_ATF1_1e5_rep5', 'ATF1_wtCR_1e5_rep2'],\n",
    "    ['CR-wt_ATF1_1e5_rep6', 'ATF1_wtCR_1e5_rep3'],\n",
    "    \n",
    "    ['CR-wt_ELF1_1e5_rep4', 'ELF1_wtCR_1e5_rep1'],\n",
    "    ['CR-wt_ELF1_1e5_rep5', 'ELF1_wtCR_1e5_rep2'],\n",
    "    ['CR-wt_ELF1_1e5_rep6', 'ELF1_wtCR_1e5_rep3'],\n",
    "    \n",
    "]\n",
    "\n",
    "file_pairs = []\n",
    "for samples in sample_name_pairs :\n",
    "    sample_old, sample_new = samples  \n",
    "    file_pairs.append([f'{sample_old}_fragments_length.txt', f'{sample_new}_fragments_length.txt'])    \n",
    "    \n",
    "print(file_pairs)\n",
    "load_data_suffixes(file_pairs, src_dir='/mnt/Storage/home/wangyiman/fitCUTRUN/analysis/TF/replicates/total_replicates/', dst_dir='.')"
   ]
  },
  {
   "cell_type": "markdown",
   "metadata": {},
   "source": [
    "# FRiP by sample (not replicate) union peaks"
   ]
  },
  {
   "cell_type": "markdown",
   "metadata": {},
   "source": [
    "## union peaks"
   ]
  },
  {
   "cell_type": "code",
   "execution_count": 4,
   "metadata": {},
   "outputs": [],
   "source": [
    "%%bash\n",
    "### ATF1\n",
    "\n",
    "cd /mnt/Storage/home/wangyiman/fitCUTRUN/revision_1/analysis/TF/comparison\n",
    "\n",
    "cat ATF1_ChIP_filtered_peaks.narrowPeak > FRiP/union_peaks/ATF1_union_peaks.bed\n",
    "for sample in ATF1_1e5 ATF1_FlagCR_1e5 ATF1_wtCR_1e5;do\n",
    "    cat ${sample}_excludeIgG_filtered_peaks.narrowPeak >> FRiP/union_peaks/ATF1_union_peaks.bed\n",
    "done\n",
    "\n",
    "cd FRiP/union_peaks/\n",
    "sort -k1,1 -k2,2n ATF1_union_peaks.bed | bedtools merge -i - -c 1 -o count > ATF1_union_peaks.merged.bed\n",
    "\n",
    "### ELF1\n",
    "cd /mnt/Storage/home/wangyiman/fitCUTRUN/revision_1/analysis/TF/comparison\n",
    "\n",
    "cat ELF1_ChIP_filtered_peaks.narrowPeak > FRiP/union_peaks/ELF1_union_peaks.bed\n",
    "for sample in ELF1_1e5 ELF1_FlagCR_1e5 ELF1_wtCR_1e5;do\n",
    "    cat ${sample}_excludeIgG_filtered_peaks.narrowPeak >> FRiP/union_peaks/ELF1_union_peaks.bed\n",
    "done\n",
    "\n",
    "cd FRiP/union_peaks/\n",
    "sort -k1,1 -k2,2n ELF1_union_peaks.bed | bedtools merge -i - -c 1 -o count > ELF1_union_peaks.merged.bed\n"
   ]
  },
  {
   "cell_type": "markdown",
   "metadata": {},
   "source": [
    "## calculate FRiP"
   ]
  },
  {
   "cell_type": "code",
   "execution_count": 5,
   "metadata": {},
   "outputs": [],
   "source": [
    "%%bash\n",
    "cd /mnt/Storage/home/wangyiman/fitCUTRUN/revision_1/analysis/TF/comparison/FRiP_bySample_union/\n",
    "export PATH=/mnt/Storage/home/wangyiman/bin/utilities:$PATH\n",
    "\n",
    "bash ~/bin/utilities/common_peak_FRiP.sh ATF1_1e5        PE CR ~/fitCUTRUN/revision_1/analysis/TF/comparison/FRiP/union_peaks/ATF1_union_peaks.merged.bed\n",
    "bash ~/bin/utilities/common_peak_FRiP.sh ATF1_FlagCR_1e5 PE CR ~/fitCUTRUN/revision_1/analysis/TF/comparison/FRiP/union_peaks/ATF1_union_peaks.merged.bed\n",
    "bash ~/bin/utilities/common_peak_FRiP.sh ATF1_wtCR_1e5   PE CR ~/fitCUTRUN/revision_1/analysis/TF/comparison/FRiP/union_peaks/ATF1_union_peaks.merged.bed\n",
    "bash ~/bin/utilities/common_peak_FRiP.sh ATF1_ChIP     SE ChIP ~/fitCUTRUN/revision_1/analysis/TF/comparison/FRiP/union_peaks/ATF1_union_peaks.merged.bed\n"
   ]
  },
  {
   "cell_type": "code",
   "execution_count": 6,
   "metadata": {},
   "outputs": [],
   "source": [
    "%%bash\n",
    "cd /mnt/Storage/home/wangyiman/fitCUTRUN/revision_1/analysis/TF/comparison/FRiP_bySample_union/\n",
    "export PATH=/mnt/Storage/home/wangyiman/bin/utilities:$PATH\n",
    "\n",
    "bash ~/bin/utilities/common_peak_FRiP.sh ELF1_1e5        PE CR ~/fitCUTRUN/revision_1/analysis/TF/comparison/FRiP/union_peaks/ELF1_union_peaks.merged.bed\n",
    "bash ~/bin/utilities/common_peak_FRiP.sh ELF1_FlagCR_1e5 PE CR ~/fitCUTRUN/revision_1/analysis/TF/comparison/FRiP/union_peaks/ELF1_union_peaks.merged.bed\n",
    "bash ~/bin/utilities/common_peak_FRiP.sh ELF1_wtCR_1e5   PE CR ~/fitCUTRUN/revision_1/analysis/TF/comparison/FRiP/union_peaks/ELF1_union_peaks.merged.bed\n",
    "bash ~/bin/utilities/common_peak_FRiP.sh ELF1_ChIP     SE ChIP ~/fitCUTRUN/revision_1/analysis/TF/comparison/FRiP/union_peaks/ELF1_union_peaks.merged.bed\n"
   ]
  },
  {
   "cell_type": "code",
   "execution_count": null,
   "metadata": {},
   "outputs": [],
   "source": []
  },
  {
   "cell_type": "markdown",
   "metadata": {},
   "source": [
    "## read in FRiP files"
   ]
  },
  {
   "cell_type": "code",
   "execution_count": 7,
   "metadata": {},
   "outputs": [],
   "source": [
    "os.chdir('/mnt/Storage/home/wangyiman/fitCUTRUN/revision_1/analysis/TF/comparison/FRiP_bySample_union/common_peak_FRiP')\n",
    "\n",
    "frip_sample_dict_bySample_union = {}\n",
    "\n",
    "for factor_cellNum in ['ATF1_1e5', 'ATF1_FlagCR_1e5', 'ATF1_wtCR_1e5', 'ATF1_ChIP', 'ELF1_1e5', 'ELF1_FlagCR_1e5', 'ELF1_wtCR_1e5', 'ELF1_ChIP'] :\n",
    "    frip_sample_dict_bySample_union[factor_cellNum] = pd.read_csv(f'{factor_cellNum}_FRiP.txt', header=None, delimiter=\"\\t\")\n",
    "        \n"
   ]
  },
  {
   "cell_type": "code",
   "execution_count": 8,
   "metadata": {},
   "outputs": [
    {
     "data": {
      "text/html": [
       "<div>\n",
       "<style scoped>\n",
       "    .dataframe tbody tr th:only-of-type {\n",
       "        vertical-align: middle;\n",
       "    }\n",
       "\n",
       "    .dataframe tbody tr th {\n",
       "        vertical-align: top;\n",
       "    }\n",
       "\n",
       "    .dataframe thead th {\n",
       "        text-align: right;\n",
       "    }\n",
       "</style>\n",
       "<table border=\"1\" class=\"dataframe\">\n",
       "  <thead>\n",
       "    <tr style=\"text-align: right;\">\n",
       "      <th></th>\n",
       "      <th>0</th>\n",
       "      <th>1</th>\n",
       "    </tr>\n",
       "  </thead>\n",
       "  <tbody>\n",
       "    <tr>\n",
       "      <th>0</th>\n",
       "      <td>number of filtered reads in peak</td>\n",
       "      <td>5.574350e+05</td>\n",
       "    </tr>\n",
       "    <tr>\n",
       "      <th>1</th>\n",
       "      <td>number of total filtered reads</td>\n",
       "      <td>1.000092e+07</td>\n",
       "    </tr>\n",
       "    <tr>\n",
       "      <th>2</th>\n",
       "      <td>FRiP</td>\n",
       "      <td>5.573838e-02</td>\n",
       "    </tr>\n",
       "  </tbody>\n",
       "</table>\n",
       "</div>"
      ],
      "text/plain": [
       "                                  0             1\n",
       "0  number of filtered reads in peak  5.574350e+05\n",
       "1    number of total filtered reads  1.000092e+07\n",
       "2                              FRiP  5.573838e-02"
      ]
     },
     "execution_count": 8,
     "metadata": {},
     "output_type": "execute_result"
    }
   ],
   "source": [
    "frip_sample_dict_bySample_union[factor_cellNum].head()"
   ]
  },
  {
   "cell_type": "code",
   "execution_count": 9,
   "metadata": {},
   "outputs": [
    {
     "data": {
      "text/html": [
       "<div>\n",
       "<style scoped>\n",
       "    .dataframe tbody tr th:only-of-type {\n",
       "        vertical-align: middle;\n",
       "    }\n",
       "\n",
       "    .dataframe tbody tr th {\n",
       "        vertical-align: top;\n",
       "    }\n",
       "\n",
       "    .dataframe thead th {\n",
       "        text-align: right;\n",
       "    }\n",
       "</style>\n",
       "<table border=\"1\" class=\"dataframe\">\n",
       "  <thead>\n",
       "    <tr style=\"text-align: right;\">\n",
       "      <th></th>\n",
       "      <th>frip</th>\n",
       "      <th>sample</th>\n",
       "      <th>factor</th>\n",
       "      <th>type</th>\n",
       "      <th>type_index</th>\n",
       "      <th>default_rank</th>\n",
       "    </tr>\n",
       "  </thead>\n",
       "  <tbody>\n",
       "    <tr>\n",
       "      <th>0</th>\n",
       "      <td>0.118469</td>\n",
       "      <td>ATF1_1e5</td>\n",
       "      <td>ATF1</td>\n",
       "      <td>FitCUT&amp;RUN</td>\n",
       "      <td>4</td>\n",
       "      <td>1.0</td>\n",
       "    </tr>\n",
       "    <tr>\n",
       "      <th>1</th>\n",
       "      <td>0.156298</td>\n",
       "      <td>ATF1_FlagCR_1e5</td>\n",
       "      <td>ATF1</td>\n",
       "      <td>Flag-CUT&amp;RUN</td>\n",
       "      <td>2</td>\n",
       "      <td>1.0</td>\n",
       "    </tr>\n",
       "    <tr>\n",
       "      <th>2</th>\n",
       "      <td>0.120107</td>\n",
       "      <td>ATF1_wtCR_1e5</td>\n",
       "      <td>ATF1</td>\n",
       "      <td>CUT&amp;RUN</td>\n",
       "      <td>3</td>\n",
       "      <td>1.0</td>\n",
       "    </tr>\n",
       "    <tr>\n",
       "      <th>3</th>\n",
       "      <td>0.018077</td>\n",
       "      <td>ATF1_ChIP</td>\n",
       "      <td>ATF1</td>\n",
       "      <td>ChIP-seq</td>\n",
       "      <td>1</td>\n",
       "      <td>1.0</td>\n",
       "    </tr>\n",
       "    <tr>\n",
       "      <th>4</th>\n",
       "      <td>0.105215</td>\n",
       "      <td>ELF1_1e5</td>\n",
       "      <td>ELF1</td>\n",
       "      <td>FitCUT&amp;RUN</td>\n",
       "      <td>4</td>\n",
       "      <td>1.0</td>\n",
       "    </tr>\n",
       "    <tr>\n",
       "      <th>5</th>\n",
       "      <td>0.049477</td>\n",
       "      <td>ELF1_FlagCR_1e5</td>\n",
       "      <td>ELF1</td>\n",
       "      <td>Flag-CUT&amp;RUN</td>\n",
       "      <td>2</td>\n",
       "      <td>1.0</td>\n",
       "    </tr>\n",
       "    <tr>\n",
       "      <th>6</th>\n",
       "      <td>0.072964</td>\n",
       "      <td>ELF1_wtCR_1e5</td>\n",
       "      <td>ELF1</td>\n",
       "      <td>CUT&amp;RUN</td>\n",
       "      <td>3</td>\n",
       "      <td>1.0</td>\n",
       "    </tr>\n",
       "    <tr>\n",
       "      <th>7</th>\n",
       "      <td>0.055738</td>\n",
       "      <td>ELF1_ChIP</td>\n",
       "      <td>ELF1</td>\n",
       "      <td>ChIP-seq</td>\n",
       "      <td>1</td>\n",
       "      <td>1.0</td>\n",
       "    </tr>\n",
       "  </tbody>\n",
       "</table>\n",
       "</div>"
      ],
      "text/plain": [
       "       frip           sample factor          type  type_index  default_rank\n",
       "0  0.118469         ATF1_1e5   ATF1    FitCUT&RUN           4           1.0\n",
       "1  0.156298  ATF1_FlagCR_1e5   ATF1  Flag-CUT&RUN           2           1.0\n",
       "2  0.120107    ATF1_wtCR_1e5   ATF1       CUT&RUN           3           1.0\n",
       "3  0.018077        ATF1_ChIP   ATF1      ChIP-seq           1           1.0\n",
       "4  0.105215         ELF1_1e5   ELF1    FitCUT&RUN           4           1.0\n",
       "5  0.049477  ELF1_FlagCR_1e5   ELF1  Flag-CUT&RUN           2           1.0\n",
       "6  0.072964    ELF1_wtCR_1e5   ELF1       CUT&RUN           3           1.0\n",
       "7  0.055738        ELF1_ChIP   ELF1      ChIP-seq           1           1.0"
      ]
     },
     "execution_count": 9,
     "metadata": {},
     "output_type": "execute_result"
    }
   ],
   "source": [
    "frip_ls = []\n",
    "sample_ls = []\n",
    "factor_ls = []\n",
    "type_ls = []\n",
    "type_index_ls = []\n",
    "for k in frip_sample_dict_bySample_union.keys() :\n",
    "    frip_ls.append(frip_sample_dict_bySample_union[k].iloc[2,1])\n",
    "    sample_ls.append(f'{k}')\n",
    "    factor_ls.append(k.split('_')[0].upper())\n",
    "    if 'ChIP' in k :\n",
    "        type_ls.append('ChIP-seq')\n",
    "        type_index_ls.append(1)\n",
    "    elif len(k.split(\"_\")) == 2 :\n",
    "        type_ls.append('FitCUT&RUN')\n",
    "        type_index_ls.append(4)\n",
    "    elif k.endswith('FlagCR_1e5') :\n",
    "        type_ls.append(f'Flag-CUT&RUN')\n",
    "        type_index_ls.append(2)\n",
    "    elif k.endswith('wtCR_1e5') :\n",
    "        type_ls.append(f'CUT&RUN')\n",
    "        type_index_ls.append(3)\n",
    "            \n",
    "frip_df_bySample_union = pd.DataFrame()\n",
    "frip_df_bySample_union['frip'] = frip_ls\n",
    "frip_df_bySample_union['sample'] = sample_ls\n",
    "frip_df_bySample_union['factor'] = factor_ls\n",
    "frip_df_bySample_union['type'] = type_ls\n",
    "frip_df_bySample_union['type_index'] = type_index_ls\n",
    "\n",
    "frip_df_bySample_union['default_rank'] = frip_df_bySample_union.groupby(['factor','type'])['frip'].rank(ascending=False)\n",
    "frip_df_bySample_union"
   ]
  },
  {
   "cell_type": "markdown",
   "metadata": {},
   "source": [
    "## barplot -- Fig.S2E"
   ]
  },
  {
   "cell_type": "code",
   "execution_count": 12,
   "metadata": {},
   "outputs": [
    {
     "data": {
      "image/png": "[encoded data removed]",
      "text/plain": [
       "<Figure size 180x216 with 1 Axes>"
      ]
     },
     "metadata": {},
     "output_type": "display_data"
    },
    {
     "data": {
      "image/png": "[encoded data removed]",
      "text/plain": [
       "<Figure size 180x216 with 1 Axes>"
      ]
     },
     "metadata": {},
     "output_type": "display_data"
    }
   ],
   "source": [
    "with PdfPages(f'/mnt/Storage/home/wangyiman/fitCUTRUN/revision_1/analysis/figures/Supple_Fig2E_FRiP_barplot_4tech_bySample_unionPeak.pdf') as pdf_pages :\n",
    "    with sns.axes_style('whitegrid', rc={\n",
    "            'xtick.bottom': True,\n",
    "            'ytick.left': True\n",
    "    }), sns.plotting_context('paper',\n",
    "                             rc={\n",
    "                                 'axes.titlesize': 14,\n",
    "                                 'axes.labelsize': 12,\n",
    "                                 'pdf.fonttype': 42,\n",
    "                                 'pdf.fonttype': 42,\n",
    "                                 'font.sans-serif': 'Arial'\n",
    "                             }), plt.style.context([{'font.sans-serif': 'Helvetica'}]):\n",
    "        for factor in ['ATF1', 'ELF1'] :\n",
    "            fig, ax = plt.subplots(figsize=(2.5,3), tight_layout=True)\n",
    "            b = sns.barplot(\n",
    "                x='type',\n",
    "                y='frip',\n",
    "                hue='default_rank',\n",
    "                data=frip_df_bySample_union.loc[frip_df_bySample_union['factor'] == factor].sort_values(['type_index'], ascending=False),\n",
    "                ax=ax)\n",
    "            colors = ['#769BB6','#98BDD8','#92AC93','#E4DDC3']\n",
    "            for i,thisbar in enumerate(b.patches):\n",
    "                # Set a different hatch for each bar\n",
    "                thisbar.set_color(colors[i])\n",
    "                thisbar.set_edgecolor(\"white\")\n",
    "                \n",
    "            ax.set_xlabel('Factor')\n",
    "            ax.set_ylabel('FRiP')\n",
    "            ax.set_title(factor)\n",
    "            ax.set_xticks(range(4))\n",
    "            if factor == 'ELF1' :\n",
    "                ax.set_xticklabels(['FitCUT&RUN', 'CUT&RUN', 'FLAG-CUT&RUN', 'ChIP-seq'], rotation=45, ha='right')\n",
    "            else :\n",
    "                ax.set_xticklabels(['FitCUT&RUN', 'CUT&RUN', 'FLAG-CUT&RUN', 'CETCh-seq'], rotation=45, ha='right')\n",
    "                \n",
    "            ax.tick_params(axis='x', rotation=45)\n",
    "#             ax.set_ylim(0,0.25)\n",
    "            b.legend_.remove()\n",
    "\n",
    "            pdf_pages.savefig(fig)"
   ]
  },
  {
   "cell_type": "code",
   "execution_count": null,
   "metadata": {},
   "outputs": [],
   "source": []
  },
  {
   "cell_type": "code",
   "execution_count": null,
   "metadata": {},
   "outputs": [],
   "source": []
  },
  {
   "cell_type": "markdown",
   "metadata": {},
   "source": [
    "# NSC"
   ]
  },
  {
   "cell_type": "code",
   "execution_count": 142,
   "metadata": {},
   "outputs": [
    {
     "data": {
      "text/html": [
       "<div>\n",
       "<style scoped>\n",
       "    .dataframe tbody tr th:only-of-type {\n",
       "        vertical-align: middle;\n",
       "    }\n",
       "\n",
       "    .dataframe tbody tr th {\n",
       "        vertical-align: top;\n",
       "    }\n",
       "\n",
       "    .dataframe thead th {\n",
       "        text-align: right;\n",
       "    }\n",
       "</style>\n",
       "<table border=\"1\" class=\"dataframe\">\n",
       "  <thead>\n",
       "    <tr style=\"text-align: right;\">\n",
       "      <th></th>\n",
       "      <th>NSC</th>\n",
       "      <th>sample</th>\n",
       "      <th>factor</th>\n",
       "      <th>type</th>\n",
       "      <th>type_index</th>\n",
       "      <th>default_rank</th>\n",
       "    </tr>\n",
       "  </thead>\n",
       "  <tbody>\n",
       "    <tr>\n",
       "      <th>1</th>\n",
       "      <td>1.062781</td>\n",
       "      <td>ATF1_FitCR</td>\n",
       "      <td>ATF1</td>\n",
       "      <td>FitCUT&amp;RUN</td>\n",
       "      <td>4.0</td>\n",
       "      <td>1.0</td>\n",
       "    </tr>\n",
       "    <tr>\n",
       "      <th>5</th>\n",
       "      <td>1.079496</td>\n",
       "      <td>ELF1_FitCR</td>\n",
       "      <td>ELF1</td>\n",
       "      <td>FitCUT&amp;RUN</td>\n",
       "      <td>4.0</td>\n",
       "      <td>1.0</td>\n",
       "    </tr>\n",
       "    <tr>\n",
       "      <th>3</th>\n",
       "      <td>1.007928</td>\n",
       "      <td>ATF1_wtCR</td>\n",
       "      <td>ATF1</td>\n",
       "      <td>CUT&amp;RUN</td>\n",
       "      <td>3.0</td>\n",
       "      <td>1.0</td>\n",
       "    </tr>\n",
       "    <tr>\n",
       "      <th>7</th>\n",
       "      <td>1.003242</td>\n",
       "      <td>ELF1_wtCR</td>\n",
       "      <td>ELF1</td>\n",
       "      <td>CUT&amp;RUN</td>\n",
       "      <td>3.0</td>\n",
       "      <td>1.0</td>\n",
       "    </tr>\n",
       "    <tr>\n",
       "      <th>2</th>\n",
       "      <td>1.058342</td>\n",
       "      <td>ATF1_FlagCR</td>\n",
       "      <td>ATF1</td>\n",
       "      <td>Flag-CUT&amp;RUN</td>\n",
       "      <td>2.0</td>\n",
       "      <td>1.0</td>\n",
       "    </tr>\n",
       "    <tr>\n",
       "      <th>6</th>\n",
       "      <td>1.006595</td>\n",
       "      <td>ELF1_FlagCR</td>\n",
       "      <td>ELF1</td>\n",
       "      <td>Flag-CUT&amp;RUN</td>\n",
       "      <td>2.0</td>\n",
       "      <td>1.0</td>\n",
       "    </tr>\n",
       "    <tr>\n",
       "      <th>4</th>\n",
       "      <td>1.055722</td>\n",
       "      <td>ATF1_ChIP</td>\n",
       "      <td>ATF1</td>\n",
       "      <td>ChIP-seq</td>\n",
       "      <td>1.0</td>\n",
       "      <td>1.0</td>\n",
       "    </tr>\n",
       "    <tr>\n",
       "      <th>8</th>\n",
       "      <td>1.059239</td>\n",
       "      <td>ELF1_ChIP</td>\n",
       "      <td>ELF1</td>\n",
       "      <td>ChIP-seq</td>\n",
       "      <td>1.0</td>\n",
       "      <td>1.0</td>\n",
       "    </tr>\n",
       "  </tbody>\n",
       "</table>\n",
       "</div>"
      ],
      "text/plain": [
       "        NSC       sample factor          type  type_index  default_rank\n",
       "1  1.062781   ATF1_FitCR   ATF1    FitCUT&RUN         4.0           1.0\n",
       "5  1.079496   ELF1_FitCR   ELF1    FitCUT&RUN         4.0           1.0\n",
       "3  1.007928    ATF1_wtCR   ATF1       CUT&RUN         3.0           1.0\n",
       "7  1.003242    ELF1_wtCR   ELF1       CUT&RUN         3.0           1.0\n",
       "2  1.058342  ATF1_FlagCR   ATF1  Flag-CUT&RUN         2.0           1.0\n",
       "6  1.006595  ELF1_FlagCR   ELF1  Flag-CUT&RUN         2.0           1.0\n",
       "4  1.055722    ATF1_ChIP   ATF1      ChIP-seq         1.0           1.0\n",
       "8  1.059239    ELF1_ChIP   ELF1      ChIP-seq         1.0           1.0"
      ]
     },
     "execution_count": 142,
     "metadata": {},
     "output_type": "execute_result"
    }
   ],
   "source": [
    "nsc_df = pd.read_csv('/mnt/Storage/home/wangyiman/fitCUTRUN/revision_1/analysis/TF/comparison/NSC_bySample/NSC_df.csv', header=0)\n",
    "nsc_df = nsc_df.sort_values(['type_index'], ascending=False)\n",
    "nsc_df['default_rank'] = nsc_df.groupby(['factor','type'])['NSC'].rank(ascending=False)\n",
    "nsc_df = nsc_df.iloc[:-1, ]\n",
    "nsc_df"
   ]
  },
  {
   "cell_type": "markdown",
   "metadata": {},
   "source": [
    "## barplot -- Fig.S2F"
   ]
  },
  {
   "cell_type": "code",
   "execution_count": 152,
   "metadata": {
    "tags": []
   },
   "outputs": [
    {
     "data": {
      "image/png": "[encoded data removed]",
      "text/plain": [
       "<Figure size 180x216 with 1 Axes>"
      ]
     },
     "metadata": {},
     "output_type": "display_data"
    },
    {
     "data": {
      "image/png": "[encoded data removed]",
      "text/plain": [
       "<Figure size 180x216 with 1 Axes>"
      ]
     },
     "metadata": {},
     "output_type": "display_data"
    }
   ],
   "source": [
    "with PdfPages(f'/mnt/Storage/home/wangyiman/fitCUTRUN/revision_1/analysis/figures/Supple_Fig2F_NSC_barplot_4tech_bySample.pdf') as pdf_pages :\n",
    "    with sns.axes_style('whitegrid', rc={\n",
    "            'xtick.bottom': True,\n",
    "            'ytick.left': True\n",
    "    }), sns.plotting_context('paper',\n",
    "                             rc={\n",
    "                                 'axes.titlesize': 14,\n",
    "                                 'axes.labelsize': 12,\n",
    "                                 'pdf.fonttype': 42,\n",
    "                                 'pdf.fonttype': 42,\n",
    "                                 'font.sans-serif': 'Arial'\n",
    "                             }), plt.style.context([{'font.sans-serif': 'Arial'}]):\n",
    "        for factor in ['ATF1', 'ELF1'] :\n",
    "            fig, ax = plt.subplots(figsize=(2.5,3), tight_layout=True)\n",
    "            b = sns.barplot(\n",
    "                x='type',\n",
    "                y='NSC',\n",
    "                hue='default_rank',\n",
    "                data=nsc_df.loc[nsc_df['factor'] == factor].sort_values(['type_index'], ascending=False),\n",
    "                ax=ax)\n",
    "            colors = ['#769BB6','#98BDD8','#92AC93','#E4DDC3']\n",
    "            for i,thisbar in enumerate(b.patches):\n",
    "                # Set a different hatch for each bar\n",
    "                thisbar.set_color(colors[i])\n",
    "                thisbar.set_edgecolor(\"white\")\n",
    "                \n",
    "            ax.set_xlabel('Factor')\n",
    "            ax.set_ylabel('NSC')\n",
    "            ax.set_title(factor)\n",
    "            ax.set_xticks(range(4))\n",
    "            ax.set_xticklabels(labels=ax.get_xticklabels(), rotation=45, ha='right')\n",
    "            ax.tick_params(axis='x', rotation=45)\n",
    "            ax.set_ylim(0.95,1.085)\n",
    "            b.legend_.remove()\n",
    "\n",
    "            pdf_pages.savefig(fig)"
   ]
  },
  {
   "cell_type": "code",
   "execution_count": null,
   "metadata": {},
   "outputs": [],
   "source": []
  }
 ],
 "metadata": {
  "kernelspec": {
   "display_name": "Python 3",
   "language": "python",
   "name": "python3"
  },
  "language_info": {
   "codemirror_mode": {
    "name": "ipython",
    "version": 3
   },
   "file_extension": ".py",
   "mimetype": "text/x-python",
   "name": "python",
   "nbconvert_exporter": "python",
   "pygments_lexer": "ipython3",
   "version": "3.7.6"
  }
 },
 "nbformat": 4,
 "nbformat_minor": 4
}
